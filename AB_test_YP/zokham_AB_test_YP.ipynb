{
 "cells": [
  {
   "cell_type": "markdown",
   "id": "0c9ff919",
   "metadata": {},
   "source": [
    "<div style=\"border:solid Purple 2px; padding: 40px\">\n",
    "\n",
    "<b>Привет, Зоя!👋\n",
    "\n",
    "Меня зовут Эльвира Нургалиева, я буду ревьюером твоего проекта. Предлагаю общаться на «ты», но если это не удобно - дай мне знать, и мы перейдем на «вы».\n",
    "\n",
    "\n",
    "Ты можешь найти мои комментарии, обозначенные <font color='green'>зеленым</font>, <font color='gold'>желтым</font> и <font color='red'>красным</font> цветами, например:\n",
    "\n",
    "\n",
    "<div class=\"alert alert-success\">\n",
    "<h2> Комментарий ревьюера 😊<a class=\"tocSkip\"> </h2>\n",
    "    \n",
    "Такими комментариями я буду помечать отлично проделаную работу😉\n",
    "</div>\n",
    "    \n",
    "<div class=\"alert alert-warning\">\n",
    "<h2> Комментарий ревьюера 🤓<a class=\"tocSkip\"> </h2>\n",
    "        \n",
    "В таких комментариях я постараюсь подсказать тебе более элегантное или легкое решение, некоторые хитрости и фишки. Части проекта, помеченные такими комментариями, можно не исправлять, но рекомендую обратить на них внимание.</div>\n",
    "\n",
    "<div class=\"alert alert-block alert-danger\">\n",
    "<h2> Комментарий ревьюера 🤔<a class=\"tocSkip\"></h2>\n",
    "    \n",
    "В случае, когда решение на отдельном шаге требует существенной переработки и внесения правок. Если ты видишь такой комментарий, значит здесть есть недочет, который следует исправить.\n",
    "</div>\n",
    "\n",
    "Ты также можешь реагировать на мои комментарии своими, выделяя их цветами и наиболее понравившимся тебе способом оформления, но явно  отличающимся от моих комментариев. Это нужно, чтобы не создавалась путаница🙃\n",
    "    \n",
    "<div class=\"alert alert-info\"> <b>Комментарий студента:</b> Например, вот так.</div>\n",
    "\n",
    "Чтобы сделать подобный блок, кликни здесь дважды и скопируй всю предыдущую строку ;)\n",
    "    \n",
    "Пожалуйста, не удаляй и не перемещай мои комментарии, они будут особенно полезны для нашей работы в случае повторной проверки проекта.</div></b>"
   ]
  },
  {
   "cell_type": "markdown",
   "id": "0b269330",
   "metadata": {
    "toc": true
   },
   "source": [
    "<h1>Table of Contents<span class=\"tocSkip\"></span></h1>\n",
    "<div class=\"toc\"><ul class=\"toc-item\"><li><span><a href=\"#Приоритезация-гипотез.\" data-toc-modified-id=\"Приоритезация-гипотез.-1\"><span class=\"toc-item-num\">1&nbsp;&nbsp;</span>Приоритезация гипотез.</a></span><ul class=\"toc-item\"><li><span><a href=\"#Обзор-данных.\" data-toc-modified-id=\"Обзор-данных.-1.1\"><span class=\"toc-item-num\">1.1&nbsp;&nbsp;</span>Обзор данных.</a></span></li><li><span><a href=\"#Фреймворк-ICE.\" data-toc-modified-id=\"Фреймворк-ICE.-1.2\"><span class=\"toc-item-num\">1.2&nbsp;&nbsp;</span>Фреймворк ICE.</a></span></li><li><span><a href=\"#Фреймворк-RICE.\" data-toc-modified-id=\"Фреймворк-RICE.-1.3\"><span class=\"toc-item-num\">1.3&nbsp;&nbsp;</span>Фреймворк RICE.</a></span></li><li><span><a href=\"#Выводы.\" data-toc-modified-id=\"Выводы.-1.4\"><span class=\"toc-item-num\">1.4&nbsp;&nbsp;</span>Выводы.</a></span></li></ul></li><li><span><a href=\"#Анализ-А\\В-теста.\" data-toc-modified-id=\"Анализ-А\\В-теста.-2\"><span class=\"toc-item-num\">2&nbsp;&nbsp;</span>Анализ А\\В-теста.</a></span><ul class=\"toc-item\"><li><span><a href=\"#Обзор-данных.\" data-toc-modified-id=\"Обзор-данных.-2.1\"><span class=\"toc-item-num\">2.1&nbsp;&nbsp;</span>Обзор данных.</a></span></li><li><span><a href=\"#Предобработка-данных.\" data-toc-modified-id=\"Предобработка-данных.-2.2\"><span class=\"toc-item-num\">2.2&nbsp;&nbsp;</span>Предобработка данных.</a></span><ul class=\"toc-item\"><li><span><a href=\"#Преобразование-типов.\" data-toc-modified-id=\"Преобразование-типов.-2.2.1\"><span class=\"toc-item-num\">2.2.1&nbsp;&nbsp;</span>Преобразование типов.</a></span></li><li><span><a href=\"#Анализ-отклонений.\" data-toc-modified-id=\"Анализ-отклонений.-2.2.2\"><span class=\"toc-item-num\">2.2.2&nbsp;&nbsp;</span>Анализ отклонений.</a></span></li></ul></li><li><span><a href=\"#Кумулятивные-показатели.\" data-toc-modified-id=\"Кумулятивные-показатели.-2.3\"><span class=\"toc-item-num\">2.3&nbsp;&nbsp;</span>Кумулятивные показатели.</a></span><ul class=\"toc-item\"><li><span><a href=\"#График-кумулятивной-выручки-по-группам.\" data-toc-modified-id=\"График-кумулятивной-выручки-по-группам.-2.3.1\"><span class=\"toc-item-num\">2.3.1&nbsp;&nbsp;</span>График кумулятивной выручки по группам.</a></span></li><li><span><a href=\"#График-кумулятивного-среднего-чека.\" data-toc-modified-id=\"График-кумулятивного-среднего-чека.-2.3.2\"><span class=\"toc-item-num\">2.3.2&nbsp;&nbsp;</span>График кумулятивного среднего чека.</a></span></li><li><span><a href=\"#График-относительного-изменения-кумулятивного-среднего-чека-группы-B-к-группе-A.\" data-toc-modified-id=\"График-относительного-изменения-кумулятивного-среднего-чека-группы-B-к-группе-A.-2.3.3\"><span class=\"toc-item-num\">2.3.3&nbsp;&nbsp;</span>График относительного изменения кумулятивного среднего чека группы B к группе A.</a></span></li><li><span><a href=\"#График-кумулятивного-среднего-количества-заказов-на-покупателя.\" data-toc-modified-id=\"График-кумулятивного-среднего-количества-заказов-на-покупателя.-2.3.4\"><span class=\"toc-item-num\">2.3.4&nbsp;&nbsp;</span>График кумулятивного среднего количества заказов на покупателя.</a></span></li><li><span><a href=\"#График-кумулятивного-среднего-количества-заказов-на-посетителя.\" data-toc-modified-id=\"График-кумулятивного-среднего-количества-заказов-на-посетителя.-2.3.5\"><span class=\"toc-item-num\">2.3.5&nbsp;&nbsp;</span>График кумулятивного среднего количества заказов на посетителя.</a></span></li><li><span><a href=\"#График-относительного-изменения-кумулятивного-среднего-количества-заказов-на-посетителя-группы-B-к-группе-A.\" data-toc-modified-id=\"График-относительного-изменения-кумулятивного-среднего-количества-заказов-на-посетителя-группы-B-к-группе-A.-2.3.6\"><span class=\"toc-item-num\">2.3.6&nbsp;&nbsp;</span>График относительного изменения кумулятивного среднего количества заказов на посетителя группы B к группе A.</a></span></li><li><span><a href=\"#Выводы:\" data-toc-modified-id=\"Выводы:-2.3.7\"><span class=\"toc-item-num\">2.3.7&nbsp;&nbsp;</span>Выводы:</a></span></li></ul></li><li><span><a href=\"#Выявление-отклонений.\" data-toc-modified-id=\"Выявление-отклонений.-2.4\"><span class=\"toc-item-num\">2.4&nbsp;&nbsp;</span>Выявление отклонений.</a></span><ul class=\"toc-item\"><li><span><a href=\"#Точечный-график-количества-заказов-по-пользователям.\" data-toc-modified-id=\"Точечный-график-количества-заказов-по-пользователям.-2.4.1\"><span class=\"toc-item-num\">2.4.1&nbsp;&nbsp;</span>Точечный график количества заказов по пользователям.</a></span></li><li><span><a href=\"#Точечный-график-стоимостей-заказов.\" data-toc-modified-id=\"Точечный-график-стоимостей-заказов.-2.4.2\"><span class=\"toc-item-num\">2.4.2&nbsp;&nbsp;</span>Точечный график стоимостей заказов.</a></span></li></ul></li><li><span><a href=\"#Статистическая-значимость-различий.\" data-toc-modified-id=\"Статистическая-значимость-различий.-2.5\"><span class=\"toc-item-num\">2.5&nbsp;&nbsp;</span>Статистическая значимость различий.</a></span></li></ul></li><li><span><a href=\"#Выводы:\" data-toc-modified-id=\"Выводы:-3\"><span class=\"toc-item-num\">3&nbsp;&nbsp;</span>Выводы:</a></span></li></ul></div>"
   ]
  },
  {
   "cell_type": "markdown",
   "id": "df62c15d",
   "metadata": {},
   "source": [
    "# Выбор способа увеличения выручки. А/В-тест."
   ]
  },
  {
   "cell_type": "markdown",
   "id": "de61ff24",
   "metadata": {},
   "source": [
    "Аналитик крупного интернет-магазина совместно с отделом маркетинга подготовили список гипотез для увеличения выручки.\n",
    "\n",
    "Цель исследования: определить наиболее эффективный способ увеличения выручки.\n",
    "\n",
    "Задачи исследования:\n",
    "1. Приоритезировать гипотезы.\n",
    "1. По результатам А\\В-теста проанализоравть влияние гипотезы на выручку , средний чек, среднее количество заказов.\n",
    "\n",
    "Исследование пройдет в два этапа, каждый из которых начнет с обзора данных и предобрабоки.\n"
   ]
  },
  {
   "cell_type": "markdown",
   "id": "a5475fdc",
   "metadata": {},
   "source": [
    "<div class=\"alert alert-success\">\n",
    "<h2> Комментарий ревьюера 😊<a class=\"tocSkip\"> </h2>\n",
    "    \n",
    "Очень здорово, что ты начинаешь проект с такого подробного введения, так держать!\n",
    "</div>"
   ]
  },
  {
   "cell_type": "markdown",
   "id": "1dfbb0f3",
   "metadata": {},
   "source": [
    "## Приоритезация гипотез."
   ]
  },
  {
   "cell_type": "markdown",
   "id": "f39a571b",
   "metadata": {},
   "source": [
    "Импортируем все необходимые библиотеки."
   ]
  },
  {
   "cell_type": "code",
   "execution_count": 1,
   "id": "48ebe672",
   "metadata": {},
   "outputs": [],
   "source": [
    "import pandas as pd \n",
    "import numpy as np \n",
    "import scipy.stats as st\n",
    "import os \n",
    "import matplotlib.pyplot as plt \n",
    " \n",
    "\n",
    "pd.options.display.float_format = '{:.2f}'.format"
   ]
  },
  {
   "cell_type": "markdown",
   "id": "65c99932",
   "metadata": {},
   "source": [
    "<div class=\"alert alert-success\">\n",
    "<h2> Комментарий ревьюера 😊<a class=\"tocSkip\"> </h2>\n",
    "\n",
    "Молодец, что загружаешь все библиотеки в начале проекта. Так сложней случайно удалить ячейку с загрузкой нужной библиотеки и сделать код не работающим. А получатель отчета сразу поймет, какие библиотеки ты используешь и какие ему нужно установить для запуска проекта.\n",
    "\n",
    "</div>"
   ]
  },
  {
   "cell_type": "markdown",
   "id": "b9bb1d8e",
   "metadata": {},
   "source": [
    "### Обзор данных."
   ]
  },
  {
   "cell_type": "code",
   "execution_count": 2,
   "id": "f53da826",
   "metadata": {},
   "outputs": [],
   "source": [
    "def read_file(file, number):\n",
    "    '''Функция обзора данных. \n",
    "       file - имя файла в формате 'xxxx.csv'\n",
    "       number - целое число.\n",
    "       Считывает файл из облака Яндекс.Практикума или из домашнего каталога с ноутбуком.\n",
    "       Выводит на экран number-строк датафрейма и общую информацию о количестве строк и типах данных.   \n",
    "    '''\n",
    "\n",
    "    if os.path.exists('/datasets/' + file): # проверка наличия файла в облаке\n",
    "        df = pd.read_csv('/datasets/' + file) # чтение файла с данными и сохранение\n",
    "    else:\n",
    "        try:\n",
    "            df = pd.read_csv(file)\n",
    "        except:\n",
    "            display('Проверьте наличие файла на локальном хранилище!')\n",
    "    \n",
    "    display(df.head(number))  \n",
    "    print()\n",
    "    display(df.info())\n",
    "    print()\n",
    "    \n",
    "    # подсчет уникальных значений по столбцу и вывод их на экран (если количество не превышает 100)\n",
    "    for col in df.columns:\n",
    "        print( col, df[col].nunique())\n",
    "        if df[col].nunique() < 100:\n",
    "            print(df[col].sort_values().unique())\n",
    "        print()\n",
    "    \n",
    "    print('Количество дубликатов', df.duplicated().sum())\n",
    "    \n",
    "    shape = df.shape\n",
    "    \n",
    "    return df, shape"
   ]
  },
  {
   "cell_type": "code",
   "execution_count": 3,
   "id": "29a15e95",
   "metadata": {},
   "outputs": [
    {
     "data": {
      "text/html": [
       "<div>\n",
       "<style scoped>\n",
       "    .dataframe tbody tr th:only-of-type {\n",
       "        vertical-align: middle;\n",
       "    }\n",
       "\n",
       "    .dataframe tbody tr th {\n",
       "        vertical-align: top;\n",
       "    }\n",
       "\n",
       "    .dataframe thead th {\n",
       "        text-align: right;\n",
       "    }\n",
       "</style>\n",
       "<table border=\"1\" class=\"dataframe\">\n",
       "  <thead>\n",
       "    <tr style=\"text-align: right;\">\n",
       "      <th></th>\n",
       "      <th>Hypothesis</th>\n",
       "      <th>Reach</th>\n",
       "      <th>Impact</th>\n",
       "      <th>Confidence</th>\n",
       "      <th>Efforts</th>\n",
       "    </tr>\n",
       "  </thead>\n",
       "  <tbody>\n",
       "    <tr>\n",
       "      <th>0</th>\n",
       "      <td>Добавить два новых канала привлечения трафика,...</td>\n",
       "      <td>3</td>\n",
       "      <td>10</td>\n",
       "      <td>8</td>\n",
       "      <td>6</td>\n",
       "    </tr>\n",
       "    <tr>\n",
       "      <th>1</th>\n",
       "      <td>Запустить собственную службу доставки, что сок...</td>\n",
       "      <td>2</td>\n",
       "      <td>5</td>\n",
       "      <td>4</td>\n",
       "      <td>10</td>\n",
       "    </tr>\n",
       "    <tr>\n",
       "      <th>2</th>\n",
       "      <td>Добавить блоки рекомендаций товаров на сайт ин...</td>\n",
       "      <td>8</td>\n",
       "      <td>3</td>\n",
       "      <td>7</td>\n",
       "      <td>3</td>\n",
       "    </tr>\n",
       "    <tr>\n",
       "      <th>3</th>\n",
       "      <td>Изменить структура категорий, что увеличит кон...</td>\n",
       "      <td>8</td>\n",
       "      <td>3</td>\n",
       "      <td>3</td>\n",
       "      <td>8</td>\n",
       "    </tr>\n",
       "    <tr>\n",
       "      <th>4</th>\n",
       "      <td>Изменить цвет фона главной страницы, чтобы уве...</td>\n",
       "      <td>3</td>\n",
       "      <td>1</td>\n",
       "      <td>1</td>\n",
       "      <td>1</td>\n",
       "    </tr>\n",
       "    <tr>\n",
       "      <th>5</th>\n",
       "      <td>Добавить страницу отзывов клиентов о магазине,...</td>\n",
       "      <td>3</td>\n",
       "      <td>2</td>\n",
       "      <td>2</td>\n",
       "      <td>3</td>\n",
       "    </tr>\n",
       "    <tr>\n",
       "      <th>6</th>\n",
       "      <td>Показать на главной странице баннеры с актуаль...</td>\n",
       "      <td>5</td>\n",
       "      <td>3</td>\n",
       "      <td>8</td>\n",
       "      <td>3</td>\n",
       "    </tr>\n",
       "    <tr>\n",
       "      <th>7</th>\n",
       "      <td>Добавить форму подписки на все основные страни...</td>\n",
       "      <td>10</td>\n",
       "      <td>7</td>\n",
       "      <td>8</td>\n",
       "      <td>5</td>\n",
       "    </tr>\n",
       "    <tr>\n",
       "      <th>8</th>\n",
       "      <td>Запустить акцию, дающую скидку на товар в день...</td>\n",
       "      <td>1</td>\n",
       "      <td>9</td>\n",
       "      <td>9</td>\n",
       "      <td>5</td>\n",
       "    </tr>\n",
       "  </tbody>\n",
       "</table>\n",
       "</div>"
      ],
      "text/plain": [
       "                                          Hypothesis  Reach  Impact  \\\n",
       "0  Добавить два новых канала привлечения трафика,...      3      10   \n",
       "1  Запустить собственную службу доставки, что сок...      2       5   \n",
       "2  Добавить блоки рекомендаций товаров на сайт ин...      8       3   \n",
       "3  Изменить структура категорий, что увеличит кон...      8       3   \n",
       "4  Изменить цвет фона главной страницы, чтобы уве...      3       1   \n",
       "5  Добавить страницу отзывов клиентов о магазине,...      3       2   \n",
       "6  Показать на главной странице баннеры с актуаль...      5       3   \n",
       "7  Добавить форму подписки на все основные страни...     10       7   \n",
       "8  Запустить акцию, дающую скидку на товар в день...      1       9   \n",
       "\n",
       "   Confidence  Efforts  \n",
       "0           8        6  \n",
       "1           4       10  \n",
       "2           7        3  \n",
       "3           3        8  \n",
       "4           1        1  \n",
       "5           2        3  \n",
       "6           8        3  \n",
       "7           8        5  \n",
       "8           9        5  "
      ]
     },
     "metadata": {},
     "output_type": "display_data"
    },
    {
     "name": "stdout",
     "output_type": "stream",
     "text": [
      "\n",
      "<class 'pandas.core.frame.DataFrame'>\n",
      "RangeIndex: 9 entries, 0 to 8\n",
      "Data columns (total 5 columns):\n",
      " #   Column      Non-Null Count  Dtype \n",
      "---  ------      --------------  ----- \n",
      " 0   Hypothesis  9 non-null      object\n",
      " 1   Reach       9 non-null      int64 \n",
      " 2   Impact      9 non-null      int64 \n",
      " 3   Confidence  9 non-null      int64 \n",
      " 4   Efforts     9 non-null      int64 \n",
      "dtypes: int64(4), object(1)\n",
      "memory usage: 488.0+ bytes\n"
     ]
    },
    {
     "data": {
      "text/plain": [
       "None"
      ]
     },
     "metadata": {},
     "output_type": "display_data"
    },
    {
     "name": "stdout",
     "output_type": "stream",
     "text": [
      "\n",
      "Hypothesis 9\n",
      "['Добавить блоки рекомендаций товаров на сайт интернет магазина, чтобы повысить конверсию и средний чек заказа'\n",
      " 'Добавить два новых канала привлечения трафика, что позволит привлекать на 30% больше пользователей'\n",
      " 'Добавить страницу отзывов клиентов о магазине, что позволит увеличить количество заказов'\n",
      " 'Добавить форму подписки на все основные страницы, чтобы собрать базу клиентов для email-рассылок'\n",
      " 'Запустить акцию, дающую скидку на товар в день рождения'\n",
      " 'Запустить собственную службу доставки, что сократит срок доставки заказов'\n",
      " 'Изменить структура категорий, что увеличит конверсию, т.к. пользователи быстрее найдут нужный товар'\n",
      " 'Изменить цвет фона главной страницы, чтобы увеличить вовлеченность пользователей'\n",
      " 'Показать на главной странице баннеры с актуальными акциями и распродажами, чтобы увеличить конверсию']\n",
      "\n",
      "Reach 6\n",
      "[ 1  2  3  5  8 10]\n",
      "\n",
      "Impact 7\n",
      "[ 1  2  3  5  7  9 10]\n",
      "\n",
      "Confidence 7\n",
      "[1 2 3 4 7 8 9]\n",
      "\n",
      "Efforts 6\n",
      "[ 1  3  5  6  8 10]\n",
      "\n",
      "Количество дубликатов 0\n"
     ]
    }
   ],
   "source": [
    "hypothesis, hypothesis_shape = read_file('hypothesis.csv', 10)"
   ]
  },
  {
   "cell_type": "markdown",
   "id": "e47f99d8",
   "metadata": {},
   "source": [
    "В файле 9 гипотез по увеличению выручки интернет-магазина с указанными параметрами Reach, Impact, Confidence, Effort. Все данные заполнены, пропусков нет.\n",
    "\n",
    "`Reach` — скольких пользователей затронет изменение;\n",
    "`Impact` — насколько сильно изменение повлияет на пользователей, их опыт и удовлетворение от продукта;\n",
    "`Confidence` — насколько вы уверены, что это изменение повлияет на пользователей именно так;\n",
    "`Efforts` — сколько стоит протестировать эту гипотезу."
   ]
  },
  {
   "cell_type": "markdown",
   "id": "7ed8802e",
   "metadata": {},
   "source": [
    "<div class=\"alert alert-success\">\n",
    "<h2> Комментарий ревьюера 😊<a class=\"tocSkip\"> </h2>\n",
    "\n",
    "отличная работа с функцией)\n",
    "</div>"
   ]
  },
  {
   "cell_type": "markdown",
   "id": "34d65906",
   "metadata": {},
   "source": [
    "### Фреймворк ICE."
   ]
  },
  {
   "cell_type": "markdown",
   "id": "67123736",
   "metadata": {},
   "source": [
    "Применим фреймворк ICE для приоритизации гипотез. Отсортируйте их по убыванию приоритета."
   ]
  },
  {
   "cell_type": "code",
   "execution_count": 4,
   "id": "e3de02dd",
   "metadata": {},
   "outputs": [
    {
     "data": {
      "text/html": [
       "<div>\n",
       "<style scoped>\n",
       "    .dataframe tbody tr th:only-of-type {\n",
       "        vertical-align: middle;\n",
       "    }\n",
       "\n",
       "    .dataframe tbody tr th {\n",
       "        vertical-align: top;\n",
       "    }\n",
       "\n",
       "    .dataframe thead th {\n",
       "        text-align: right;\n",
       "    }\n",
       "</style>\n",
       "<table border=\"1\" class=\"dataframe\">\n",
       "  <thead>\n",
       "    <tr style=\"text-align: right;\">\n",
       "      <th></th>\n",
       "      <th>Hypothesis</th>\n",
       "      <th>ICE</th>\n",
       "    </tr>\n",
       "  </thead>\n",
       "  <tbody>\n",
       "    <tr>\n",
       "      <th>8</th>\n",
       "      <td>Запустить акцию, дающую скидку на товар в день...</td>\n",
       "      <td>16.20</td>\n",
       "    </tr>\n",
       "    <tr>\n",
       "      <th>0</th>\n",
       "      <td>Добавить два новых канала привлечения трафика,...</td>\n",
       "      <td>13.33</td>\n",
       "    </tr>\n",
       "    <tr>\n",
       "      <th>7</th>\n",
       "      <td>Добавить форму подписки на все основные страни...</td>\n",
       "      <td>11.20</td>\n",
       "    </tr>\n",
       "    <tr>\n",
       "      <th>6</th>\n",
       "      <td>Показать на главной странице баннеры с актуаль...</td>\n",
       "      <td>8.00</td>\n",
       "    </tr>\n",
       "    <tr>\n",
       "      <th>2</th>\n",
       "      <td>Добавить блоки рекомендаций товаров на сайт ин...</td>\n",
       "      <td>7.00</td>\n",
       "    </tr>\n",
       "    <tr>\n",
       "      <th>1</th>\n",
       "      <td>Запустить собственную службу доставки, что сок...</td>\n",
       "      <td>2.00</td>\n",
       "    </tr>\n",
       "    <tr>\n",
       "      <th>5</th>\n",
       "      <td>Добавить страницу отзывов клиентов о магазине,...</td>\n",
       "      <td>1.33</td>\n",
       "    </tr>\n",
       "    <tr>\n",
       "      <th>3</th>\n",
       "      <td>Изменить структура категорий, что увеличит кон...</td>\n",
       "      <td>1.12</td>\n",
       "    </tr>\n",
       "    <tr>\n",
       "      <th>4</th>\n",
       "      <td>Изменить цвет фона главной страницы, чтобы уве...</td>\n",
       "      <td>1.00</td>\n",
       "    </tr>\n",
       "  </tbody>\n",
       "</table>\n",
       "</div>"
      ],
      "text/plain": [
       "                                          Hypothesis   ICE\n",
       "8  Запустить акцию, дающую скидку на товар в день... 16.20\n",
       "0  Добавить два новых канала привлечения трафика,... 13.33\n",
       "7  Добавить форму подписки на все основные страни... 11.20\n",
       "6  Показать на главной странице баннеры с актуаль...  8.00\n",
       "2  Добавить блоки рекомендаций товаров на сайт ин...  7.00\n",
       "1  Запустить собственную службу доставки, что сок...  2.00\n",
       "5  Добавить страницу отзывов клиентов о магазине,...  1.33\n",
       "3  Изменить структура категорий, что увеличит кон...  1.12\n",
       "4  Изменить цвет фона главной страницы, чтобы уве...  1.00"
      ]
     },
     "execution_count": 4,
     "metadata": {},
     "output_type": "execute_result"
    }
   ],
   "source": [
    "hypothesis['ICE'] = hypothesis['Impact'] * hypothesis['Confidence'] / hypothesis['Efforts']\n",
    "hypothesis[['Hypothesis', 'ICE']].sort_values(by='ICE', ascending=False)"
   ]
  },
  {
   "cell_type": "markdown",
   "id": "01f3d4f9",
   "metadata": {},
   "source": [
    "<div class=\"alert alert-warning\">\n",
    "<h2> Комментарий ревьюера 🤓<a class=\"tocSkip\"> </h2>\n",
    "        \n",
    "Расширить вывод содержимого ячеек мы можем с помощью следующей настройки, так мы сможем увидеть полный текст гипотез:\n",
    "    \n",
    "```python\n",
    "pd.options.display.max_colwidth = 130\n",
    "```\n",
    "</div>"
   ]
  },
  {
   "cell_type": "markdown",
   "id": "2db42ca1",
   "metadata": {},
   "source": [
    "Наибольшее количество баллов набрали гипотезы под номером 8, 0 и 7."
   ]
  },
  {
   "cell_type": "markdown",
   "id": "7b32554b",
   "metadata": {},
   "source": [
    "### Фреймворк RICE."
   ]
  },
  {
   "cell_type": "markdown",
   "id": "f8958015",
   "metadata": {},
   "source": [
    "Применим фреймворк RICE для приоритизации гипотез. Отсортируйте их по убыванию приоритета."
   ]
  },
  {
   "cell_type": "code",
   "execution_count": 5,
   "id": "ce6214e0",
   "metadata": {},
   "outputs": [
    {
     "data": {
      "text/html": [
       "<div>\n",
       "<style scoped>\n",
       "    .dataframe tbody tr th:only-of-type {\n",
       "        vertical-align: middle;\n",
       "    }\n",
       "\n",
       "    .dataframe tbody tr th {\n",
       "        vertical-align: top;\n",
       "    }\n",
       "\n",
       "    .dataframe thead th {\n",
       "        text-align: right;\n",
       "    }\n",
       "</style>\n",
       "<table border=\"1\" class=\"dataframe\">\n",
       "  <thead>\n",
       "    <tr style=\"text-align: right;\">\n",
       "      <th></th>\n",
       "      <th>Hypothesis</th>\n",
       "      <th>RICE</th>\n",
       "    </tr>\n",
       "  </thead>\n",
       "  <tbody>\n",
       "    <tr>\n",
       "      <th>7</th>\n",
       "      <td>Добавить форму подписки на все основные страни...</td>\n",
       "      <td>112.00</td>\n",
       "    </tr>\n",
       "    <tr>\n",
       "      <th>2</th>\n",
       "      <td>Добавить блоки рекомендаций товаров на сайт ин...</td>\n",
       "      <td>56.00</td>\n",
       "    </tr>\n",
       "    <tr>\n",
       "      <th>0</th>\n",
       "      <td>Добавить два новых канала привлечения трафика,...</td>\n",
       "      <td>40.00</td>\n",
       "    </tr>\n",
       "    <tr>\n",
       "      <th>6</th>\n",
       "      <td>Показать на главной странице баннеры с актуаль...</td>\n",
       "      <td>40.00</td>\n",
       "    </tr>\n",
       "    <tr>\n",
       "      <th>8</th>\n",
       "      <td>Запустить акцию, дающую скидку на товар в день...</td>\n",
       "      <td>16.20</td>\n",
       "    </tr>\n",
       "    <tr>\n",
       "      <th>3</th>\n",
       "      <td>Изменить структура категорий, что увеличит кон...</td>\n",
       "      <td>9.00</td>\n",
       "    </tr>\n",
       "    <tr>\n",
       "      <th>1</th>\n",
       "      <td>Запустить собственную службу доставки, что сок...</td>\n",
       "      <td>4.00</td>\n",
       "    </tr>\n",
       "    <tr>\n",
       "      <th>5</th>\n",
       "      <td>Добавить страницу отзывов клиентов о магазине,...</td>\n",
       "      <td>4.00</td>\n",
       "    </tr>\n",
       "    <tr>\n",
       "      <th>4</th>\n",
       "      <td>Изменить цвет фона главной страницы, чтобы уве...</td>\n",
       "      <td>3.00</td>\n",
       "    </tr>\n",
       "  </tbody>\n",
       "</table>\n",
       "</div>"
      ],
      "text/plain": [
       "                                          Hypothesis   RICE\n",
       "7  Добавить форму подписки на все основные страни... 112.00\n",
       "2  Добавить блоки рекомендаций товаров на сайт ин...  56.00\n",
       "0  Добавить два новых канала привлечения трафика,...  40.00\n",
       "6  Показать на главной странице баннеры с актуаль...  40.00\n",
       "8  Запустить акцию, дающую скидку на товар в день...  16.20\n",
       "3  Изменить структура категорий, что увеличит кон...   9.00\n",
       "1  Запустить собственную службу доставки, что сок...   4.00\n",
       "5  Добавить страницу отзывов клиентов о магазине,...   4.00\n",
       "4  Изменить цвет фона главной страницы, чтобы уве...   3.00"
      ]
     },
     "execution_count": 5,
     "metadata": {},
     "output_type": "execute_result"
    }
   ],
   "source": [
    "hypothesis['RICE'] = hypothesis['Reach'] * hypothesis['Impact'] * hypothesis['Confidence'] / hypothesis['Efforts']\n",
    "hypothesis[['Hypothesis', 'RICE']].sort_values(by='RICE', ascending=False)\n"
   ]
  },
  {
   "cell_type": "markdown",
   "id": "06423a90",
   "metadata": {},
   "source": [
    "Наибольшее количество баллов набрали гипотезы под номером 7, 2 и 0. \n",
    "\n",
    "### Выводы.\n",
    "\n",
    "Гопотеза 8 хоть и имеет высокий уровень влияния (оценка 9) и относительно недорогую стоимость (оценка 5), но охватывает малую долю аудитории (оценка 1). Гипотеза 7 не только достаточно сильно влияет (оценка 7) на аудиторию при той же стоимости, но и охватывает максимальное количество пльзователей (оценка 10).\n",
    "\n",
    "Первой для А\\В-теста выбираем гипотезу 7."
   ]
  },
  {
   "cell_type": "markdown",
   "id": "5597271b",
   "metadata": {},
   "source": [
    "<div class=\"alert alert-warning\">\n",
    "<h2> Комментарий ревьюера 🤓 v_2 <a class=\"tocSkip\"> </h2>\n",
    "\n",
    "Обрати внимание, что, на самом деле - мы выводим не номер, а индекс гипотезы в конкретном файле. Если такой вывод передать коллегам, то у них под этими номерами могут быть иные гипотезы. Поэтому следует указать полное название гипотез."
   ]
  },
  {
   "cell_type": "markdown",
   "id": "079be974",
   "metadata": {},
   "source": [
    "<div class=\"alert alert-success\">\n",
    "<h2> Комментарий ревьюера 😊<a class=\"tocSkip\"> </h2>\n",
    "    \n",
    "Приоретизация гипотез проведена успешно! Молодец, что выводишь таблицу дважды, каждый раз с сортировкой по одному из фреймоврков, так различия в их работе будут максимально наглядными. Согласна с твоими выводами по поводу их различия. Будет здорово добавить в начало небольшое описание фремворков, в выводе вместе с номером, стоит указать полное название гипотез. \n",
    "</div>   "
   ]
  },
  {
   "cell_type": "markdown",
   "id": "6c860212",
   "metadata": {},
   "source": [
    "## Анализ А\\В-теста."
   ]
  },
  {
   "cell_type": "markdown",
   "id": "80968b04",
   "metadata": {},
   "source": [
    "### Обзор данных."
   ]
  },
  {
   "cell_type": "code",
   "execution_count": 6,
   "id": "9c3d3161",
   "metadata": {},
   "outputs": [
    {
     "data": {
      "text/html": [
       "<div>\n",
       "<style scoped>\n",
       "    .dataframe tbody tr th:only-of-type {\n",
       "        vertical-align: middle;\n",
       "    }\n",
       "\n",
       "    .dataframe tbody tr th {\n",
       "        vertical-align: top;\n",
       "    }\n",
       "\n",
       "    .dataframe thead th {\n",
       "        text-align: right;\n",
       "    }\n",
       "</style>\n",
       "<table border=\"1\" class=\"dataframe\">\n",
       "  <thead>\n",
       "    <tr style=\"text-align: right;\">\n",
       "      <th></th>\n",
       "      <th>transactionId</th>\n",
       "      <th>visitorId</th>\n",
       "      <th>date</th>\n",
       "      <th>revenue</th>\n",
       "      <th>group</th>\n",
       "    </tr>\n",
       "  </thead>\n",
       "  <tbody>\n",
       "    <tr>\n",
       "      <th>0</th>\n",
       "      <td>3667963787</td>\n",
       "      <td>3312258926</td>\n",
       "      <td>2019-08-15</td>\n",
       "      <td>1650</td>\n",
       "      <td>B</td>\n",
       "    </tr>\n",
       "    <tr>\n",
       "      <th>1</th>\n",
       "      <td>2804400009</td>\n",
       "      <td>3642806036</td>\n",
       "      <td>2019-08-15</td>\n",
       "      <td>730</td>\n",
       "      <td>B</td>\n",
       "    </tr>\n",
       "    <tr>\n",
       "      <th>2</th>\n",
       "      <td>2961555356</td>\n",
       "      <td>4069496402</td>\n",
       "      <td>2019-08-15</td>\n",
       "      <td>400</td>\n",
       "      <td>A</td>\n",
       "    </tr>\n",
       "    <tr>\n",
       "      <th>3</th>\n",
       "      <td>3797467345</td>\n",
       "      <td>1196621759</td>\n",
       "      <td>2019-08-15</td>\n",
       "      <td>9759</td>\n",
       "      <td>B</td>\n",
       "    </tr>\n",
       "    <tr>\n",
       "      <th>4</th>\n",
       "      <td>2282983706</td>\n",
       "      <td>2322279887</td>\n",
       "      <td>2019-08-15</td>\n",
       "      <td>2308</td>\n",
       "      <td>B</td>\n",
       "    </tr>\n",
       "    <tr>\n",
       "      <th>5</th>\n",
       "      <td>182168103</td>\n",
       "      <td>935554773</td>\n",
       "      <td>2019-08-15</td>\n",
       "      <td>2210</td>\n",
       "      <td>B</td>\n",
       "    </tr>\n",
       "    <tr>\n",
       "      <th>6</th>\n",
       "      <td>398296753</td>\n",
       "      <td>2900797465</td>\n",
       "      <td>2019-08-15</td>\n",
       "      <td>1860</td>\n",
       "      <td>B</td>\n",
       "    </tr>\n",
       "    <tr>\n",
       "      <th>7</th>\n",
       "      <td>2626614568</td>\n",
       "      <td>78758296</td>\n",
       "      <td>2019-08-15</td>\n",
       "      <td>1044</td>\n",
       "      <td>A</td>\n",
       "    </tr>\n",
       "    <tr>\n",
       "      <th>8</th>\n",
       "      <td>1576988021</td>\n",
       "      <td>295230930</td>\n",
       "      <td>2019-08-15</td>\n",
       "      <td>13710</td>\n",
       "      <td>A</td>\n",
       "    </tr>\n",
       "    <tr>\n",
       "      <th>9</th>\n",
       "      <td>1506739906</td>\n",
       "      <td>1882260405</td>\n",
       "      <td>2019-08-15</td>\n",
       "      <td>1855</td>\n",
       "      <td>B</td>\n",
       "    </tr>\n",
       "  </tbody>\n",
       "</table>\n",
       "</div>"
      ],
      "text/plain": [
       "   transactionId   visitorId        date  revenue group\n",
       "0     3667963787  3312258926  2019-08-15     1650     B\n",
       "1     2804400009  3642806036  2019-08-15      730     B\n",
       "2     2961555356  4069496402  2019-08-15      400     A\n",
       "3     3797467345  1196621759  2019-08-15     9759     B\n",
       "4     2282983706  2322279887  2019-08-15     2308     B\n",
       "5      182168103   935554773  2019-08-15     2210     B\n",
       "6      398296753  2900797465  2019-08-15     1860     B\n",
       "7     2626614568    78758296  2019-08-15     1044     A\n",
       "8     1576988021   295230930  2019-08-15    13710     A\n",
       "9     1506739906  1882260405  2019-08-15     1855     B"
      ]
     },
     "metadata": {},
     "output_type": "display_data"
    },
    {
     "name": "stdout",
     "output_type": "stream",
     "text": [
      "\n",
      "<class 'pandas.core.frame.DataFrame'>\n",
      "RangeIndex: 1197 entries, 0 to 1196\n",
      "Data columns (total 5 columns):\n",
      " #   Column         Non-Null Count  Dtype \n",
      "---  ------         --------------  ----- \n",
      " 0   transactionId  1197 non-null   int64 \n",
      " 1   visitorId      1197 non-null   int64 \n",
      " 2   date           1197 non-null   object\n",
      " 3   revenue        1197 non-null   int64 \n",
      " 4   group          1197 non-null   object\n",
      "dtypes: int64(3), object(2)\n",
      "memory usage: 46.9+ KB\n"
     ]
    },
    {
     "data": {
      "text/plain": [
       "None"
      ]
     },
     "metadata": {},
     "output_type": "display_data"
    },
    {
     "name": "stdout",
     "output_type": "stream",
     "text": [
      "\n",
      "transactionId 1197\n",
      "\n",
      "visitorId 1031\n",
      "\n",
      "date 31\n",
      "['2019-08-01' '2019-08-02' '2019-08-03' '2019-08-04' '2019-08-05'\n",
      " '2019-08-06' '2019-08-07' '2019-08-08' '2019-08-09' '2019-08-10'\n",
      " '2019-08-11' '2019-08-12' '2019-08-13' '2019-08-14' '2019-08-15'\n",
      " '2019-08-16' '2019-08-17' '2019-08-18' '2019-08-19' '2019-08-20'\n",
      " '2019-08-21' '2019-08-22' '2019-08-23' '2019-08-24' '2019-08-25'\n",
      " '2019-08-26' '2019-08-27' '2019-08-28' '2019-08-29' '2019-08-30'\n",
      " '2019-08-31']\n",
      "\n",
      "revenue 713\n",
      "\n",
      "group 2\n",
      "['A' 'B']\n",
      "\n",
      "Количество дубликатов 0\n"
     ]
    }
   ],
   "source": [
    "orders, orders_shape = read_file('orders.csv', 10)"
   ]
  },
  {
   "cell_type": "markdown",
   "id": "946be150",
   "metadata": {},
   "source": [
    "В таблице orders хранятся данные по каждому заказу пользователя с 1 по 31 августа 2019 года:\n",
    "- `transactionId` номер транзакции (идентификатор заказа),\n",
    "- `visitorId` номер пользователя,\n",
    "- `date` дата заказа,\n",
    "- `revenue` сумма заказа,\n",
    "- `group` принадлежность пользователя к групе А\\В-тестирования.\n",
    "\n",
    "Данные по заказам не имеют пропусков. Представлены для 1031 пользователя из двух групп, которые совершили 1197 заказов за август 2019 года. Дубликатов нет. Даты хранятся не в оптимальном формате, необходимо преобразовать."
   ]
  },
  {
   "cell_type": "code",
   "execution_count": 7,
   "id": "aaefb74b",
   "metadata": {},
   "outputs": [
    {
     "data": {
      "text/html": [
       "<div>\n",
       "<style scoped>\n",
       "    .dataframe tbody tr th:only-of-type {\n",
       "        vertical-align: middle;\n",
       "    }\n",
       "\n",
       "    .dataframe tbody tr th {\n",
       "        vertical-align: top;\n",
       "    }\n",
       "\n",
       "    .dataframe thead th {\n",
       "        text-align: right;\n",
       "    }\n",
       "</style>\n",
       "<table border=\"1\" class=\"dataframe\">\n",
       "  <thead>\n",
       "    <tr style=\"text-align: right;\">\n",
       "      <th></th>\n",
       "      <th>date</th>\n",
       "      <th>group</th>\n",
       "      <th>visitors</th>\n",
       "    </tr>\n",
       "  </thead>\n",
       "  <tbody>\n",
       "    <tr>\n",
       "      <th>0</th>\n",
       "      <td>2019-08-01</td>\n",
       "      <td>A</td>\n",
       "      <td>719</td>\n",
       "    </tr>\n",
       "    <tr>\n",
       "      <th>1</th>\n",
       "      <td>2019-08-02</td>\n",
       "      <td>A</td>\n",
       "      <td>619</td>\n",
       "    </tr>\n",
       "    <tr>\n",
       "      <th>2</th>\n",
       "      <td>2019-08-03</td>\n",
       "      <td>A</td>\n",
       "      <td>507</td>\n",
       "    </tr>\n",
       "    <tr>\n",
       "      <th>3</th>\n",
       "      <td>2019-08-04</td>\n",
       "      <td>A</td>\n",
       "      <td>717</td>\n",
       "    </tr>\n",
       "    <tr>\n",
       "      <th>4</th>\n",
       "      <td>2019-08-05</td>\n",
       "      <td>A</td>\n",
       "      <td>756</td>\n",
       "    </tr>\n",
       "    <tr>\n",
       "      <th>5</th>\n",
       "      <td>2019-08-06</td>\n",
       "      <td>A</td>\n",
       "      <td>667</td>\n",
       "    </tr>\n",
       "    <tr>\n",
       "      <th>6</th>\n",
       "      <td>2019-08-07</td>\n",
       "      <td>A</td>\n",
       "      <td>644</td>\n",
       "    </tr>\n",
       "    <tr>\n",
       "      <th>7</th>\n",
       "      <td>2019-08-08</td>\n",
       "      <td>A</td>\n",
       "      <td>610</td>\n",
       "    </tr>\n",
       "    <tr>\n",
       "      <th>8</th>\n",
       "      <td>2019-08-09</td>\n",
       "      <td>A</td>\n",
       "      <td>617</td>\n",
       "    </tr>\n",
       "    <tr>\n",
       "      <th>9</th>\n",
       "      <td>2019-08-10</td>\n",
       "      <td>A</td>\n",
       "      <td>406</td>\n",
       "    </tr>\n",
       "  </tbody>\n",
       "</table>\n",
       "</div>"
      ],
      "text/plain": [
       "         date group  visitors\n",
       "0  2019-08-01     A       719\n",
       "1  2019-08-02     A       619\n",
       "2  2019-08-03     A       507\n",
       "3  2019-08-04     A       717\n",
       "4  2019-08-05     A       756\n",
       "5  2019-08-06     A       667\n",
       "6  2019-08-07     A       644\n",
       "7  2019-08-08     A       610\n",
       "8  2019-08-09     A       617\n",
       "9  2019-08-10     A       406"
      ]
     },
     "metadata": {},
     "output_type": "display_data"
    },
    {
     "name": "stdout",
     "output_type": "stream",
     "text": [
      "\n",
      "<class 'pandas.core.frame.DataFrame'>\n",
      "RangeIndex: 62 entries, 0 to 61\n",
      "Data columns (total 3 columns):\n",
      " #   Column    Non-Null Count  Dtype \n",
      "---  ------    --------------  ----- \n",
      " 0   date      62 non-null     object\n",
      " 1   group     62 non-null     object\n",
      " 2   visitors  62 non-null     int64 \n",
      "dtypes: int64(1), object(2)\n",
      "memory usage: 1.6+ KB\n"
     ]
    },
    {
     "data": {
      "text/plain": [
       "None"
      ]
     },
     "metadata": {},
     "output_type": "display_data"
    },
    {
     "name": "stdout",
     "output_type": "stream",
     "text": [
      "\n",
      "date 31\n",
      "['2019-08-01' '2019-08-02' '2019-08-03' '2019-08-04' '2019-08-05'\n",
      " '2019-08-06' '2019-08-07' '2019-08-08' '2019-08-09' '2019-08-10'\n",
      " '2019-08-11' '2019-08-12' '2019-08-13' '2019-08-14' '2019-08-15'\n",
      " '2019-08-16' '2019-08-17' '2019-08-18' '2019-08-19' '2019-08-20'\n",
      " '2019-08-21' '2019-08-22' '2019-08-23' '2019-08-24' '2019-08-25'\n",
      " '2019-08-26' '2019-08-27' '2019-08-28' '2019-08-29' '2019-08-30'\n",
      " '2019-08-31']\n",
      "\n",
      "group 2\n",
      "['A' 'B']\n",
      "\n",
      "visitors 58\n",
      "[361 369 378 395 406 412 413 421 468 487 490 502 507 509 531 543 544 546\n",
      " 560 575 577 581 594 595 609 610 617 619 621 628 644 646 650 654 655 656\n",
      " 667 668 676 679 699 707 709 711 713 717 718 719 720 721 722 735 737 746\n",
      " 748 756 769 770]\n",
      "\n",
      "Количество дубликатов 0\n"
     ]
    }
   ],
   "source": [
    "visitors, visitors_shape = read_file('visitors.csv', 10)"
   ]
  },
  {
   "cell_type": "markdown",
   "id": "70b9d8c2",
   "metadata": {},
   "source": [
    "В таблице visitors хранятся данные по суммарному количеству пользователей двух групп А\\В-тестирования, посещавших интернет-магазин, за каждый день проведения А\\В-теста.\n",
    "\n",
    "Данные не имеют пропусков и дубликатов. Даты хранятся не в оптимальном формате - требуется преобразование."
   ]
  },
  {
   "cell_type": "markdown",
   "id": "b7efd69e",
   "metadata": {},
   "source": [
    "### Предобработка данных."
   ]
  },
  {
   "cell_type": "markdown",
   "id": "b60fb213",
   "metadata": {},
   "source": [
    "#### Преобразование типов."
   ]
  },
  {
   "cell_type": "code",
   "execution_count": 8,
   "id": "d3870a05",
   "metadata": {},
   "outputs": [],
   "source": [
    "orders['date'] = pd.to_datetime(orders['date'])\n",
    "visitors['date'] = pd.to_datetime(visitors['date'])"
   ]
  },
  {
   "cell_type": "code",
   "execution_count": 9,
   "id": "d3f6c5f2",
   "metadata": {},
   "outputs": [
    {
     "name": "stdout",
     "output_type": "stream",
     "text": [
      "<class 'pandas.core.frame.DataFrame'>\n",
      "RangeIndex: 1197 entries, 0 to 1196\n",
      "Data columns (total 5 columns):\n",
      " #   Column         Non-Null Count  Dtype         \n",
      "---  ------         --------------  -----         \n",
      " 0   transactionId  1197 non-null   int64         \n",
      " 1   visitorId      1197 non-null   int64         \n",
      " 2   date           1197 non-null   datetime64[ns]\n",
      " 3   revenue        1197 non-null   int64         \n",
      " 4   group          1197 non-null   object        \n",
      "dtypes: datetime64[ns](1), int64(3), object(1)\n",
      "memory usage: 46.9+ KB\n"
     ]
    }
   ],
   "source": [
    "orders.info()"
   ]
  },
  {
   "cell_type": "code",
   "execution_count": 10,
   "id": "4009c748",
   "metadata": {},
   "outputs": [
    {
     "name": "stdout",
     "output_type": "stream",
     "text": [
      "<class 'pandas.core.frame.DataFrame'>\n",
      "RangeIndex: 62 entries, 0 to 61\n",
      "Data columns (total 3 columns):\n",
      " #   Column    Non-Null Count  Dtype         \n",
      "---  ------    --------------  -----         \n",
      " 0   date      62 non-null     datetime64[ns]\n",
      " 1   group     62 non-null     object        \n",
      " 2   visitors  62 non-null     int64         \n",
      "dtypes: datetime64[ns](1), int64(1), object(1)\n",
      "memory usage: 1.6+ KB\n"
     ]
    }
   ],
   "source": [
    "visitors.info()"
   ]
  },
  {
   "cell_type": "markdown",
   "id": "ce672763",
   "metadata": {},
   "source": [
    "#### Анализ отклонений."
   ]
  },
  {
   "cell_type": "code",
   "execution_count": 11,
   "id": "9a431353",
   "metadata": {},
   "outputs": [
    {
     "data": {
      "text/plain": [
       "<AxesSubplot:>"
      ]
     },
     "execution_count": 11,
     "metadata": {},
     "output_type": "execute_result"
    },
    {
     "data": {
      "image/png": "[encoded data removed]",
      "text/plain": [
       "<Figure size 432x288 with 1 Axes>"
      ]
     },
     "metadata": {
      "needs_background": "light"
     },
     "output_type": "display_data"
    }
   ],
   "source": [
    "orders['group'].hist()"
   ]
  },
  {
   "cell_type": "code",
   "execution_count": 12,
   "id": "fc690883",
   "metadata": {
    "scrolled": true
   },
   "outputs": [
    {
     "data": {
      "text/plain": [
       "group\n",
       "A    557\n",
       "B    640\n",
       "Name: transactionId, dtype: int64"
      ]
     },
     "execution_count": 12,
     "metadata": {},
     "output_type": "execute_result"
    }
   ],
   "source": [
    "orders.groupby('group')['transactionId'].count()"
   ]
  },
  {
   "cell_type": "markdown",
   "id": "8668d2b7",
   "metadata": {},
   "source": [
    "Клиенты из группы В оформили на 15% больше заказов, чем клиенты группы А (суммарно за месяц)"
   ]
  },
  {
   "cell_type": "code",
   "execution_count": 13,
   "id": "7932f69c",
   "metadata": {},
   "outputs": [
    {
     "data": {
      "text/plain": [
       "<AxesSubplot:>"
      ]
     },
     "execution_count": 13,
     "metadata": {},
     "output_type": "execute_result"
    },
    {
     "data": {
      "image/png": "[encoded data removed]",
      "text/plain": [
       "<Figure size 432x288 with 1 Axes>"
      ]
     },
     "metadata": {
      "needs_background": "light"
     },
     "output_type": "display_data"
    }
   ],
   "source": [
    "orders['revenue'].hist()"
   ]
  },
  {
   "cell_type": "code",
   "execution_count": 14,
   "id": "58de4daa",
   "metadata": {},
   "outputs": [
    {
     "data": {
      "text/plain": [
       "count      1197.00\n",
       "mean       8348.01\n",
       "std       39191.13\n",
       "min          50.00\n",
       "25%        1220.00\n",
       "50%        2978.00\n",
       "75%        8290.00\n",
       "95%       28000.00\n",
       "99%       58233.20\n",
       "max     1294500.00\n",
       "Name: revenue, dtype: float64"
      ]
     },
     "execution_count": 14,
     "metadata": {},
     "output_type": "execute_result"
    }
   ],
   "source": [
    "orders['revenue'].describe(percentiles=[.25, .50, .75, .95, .99])"
   ]
  },
  {
   "cell_type": "markdown",
   "id": "8701ae76",
   "metadata": {},
   "source": [
    "Средняя сумма заказа составляет 8300. При этом стандарное отклонение почти в 5 раз превышает среднее, то есть существуют заказы с очень большой стоимостью. Сумма 95% заказов не превышает 28 000, и только 1% заказов на сумму более 58 000."
   ]
  },
  {
   "cell_type": "code",
   "execution_count": 15,
   "id": "055c9802",
   "metadata": {},
   "outputs": [
    {
     "data": {
      "text/plain": [
       "<AxesSubplot:>"
      ]
     },
     "execution_count": 15,
     "metadata": {},
     "output_type": "execute_result"
    },
    {
     "data": {
      "image/png": "[encoded data removed]",
      "text/plain": [
       "<Figure size 432x288 with 1 Axes>"
      ]
     },
     "metadata": {
      "needs_background": "light"
     },
     "output_type": "display_data"
    }
   ],
   "source": [
    "orders['date'].hist(bins=31)"
   ]
  },
  {
   "cell_type": "markdown",
   "id": "14011e49",
   "metadata": {},
   "source": [
    "<div class=\"alert alert-block alert-danger\">\n",
    "<h2> Комментарий ревьюера 🤔<a class=\"tocSkip\"></h2>\n",
    "\n",
    "Поскольку проект второго модуля необходимо скорректировать визуализацию, давай добавим название и подписи по осям ко всем графикам в проекте)"
   ]
  },
  {
   "cell_type": "markdown",
   "id": "7db0fefa",
   "metadata": {},
   "source": [
    "Наблюдается сезонность. По воскресеньям количество заказов заметно меньше, чем в другие дни недели. На третьей и четвертой неделе наблюдался резкий провал в количестве заказов во вторник."
   ]
  },
  {
   "cell_type": "markdown",
   "id": "72ad5637",
   "metadata": {},
   "source": [
    "<div class=\"alert alert-success\">\n",
    "<h2> Комментарий ревьюера 😊<a class=\"tocSkip\"> </h2>\n",
    "    \n",
    "Замечательная работа по предобработке данных, молодец)"
   ]
  },
  {
   "cell_type": "markdown",
   "id": "33aa1ab1",
   "metadata": {},
   "source": [
    "<div class=\"alert alert-warning\">\n",
    "<h2> Комментарий ревьюера 🤓<a class=\"tocSkip\"> </h2>\n",
    "        \n",
    "Можно провести дополнительные исследования, например: \n",
    "    \n",
    "* Изучить временной интервал, узнав даты начала и окончания теста;\n",
    "* Рассмотреть количество пользователей в каждой группе - по таблице с заказами;\n",
    "* Посмотреть не попадают ли какие-то пользователи в обе группы - по таблице с заказами.\n",
    "* Посмотреть динамику посетителей по дням по группам (visitos).\n",
    "</div>"
   ]
  },
  {
   "cell_type": "markdown",
   "id": "945f0f22",
   "metadata": {},
   "source": [
    "### Кумулятивные показатели."
   ]
  },
  {
   "cell_type": "markdown",
   "id": "6459a14d",
   "metadata": {},
   "source": [
    "Объявим датафрейм cumulativeData со столбцами:\n",
    "- `date` — дата;\n",
    "- `group` — группа A/B-теста (A или B);\n",
    "- `orders` — кумулятивное количество заказов на указанную дату в указанной группе;\n",
    "- `buyers` — кумулятивное количество пользователей, совершивших хотя бы один заказ, на указанную дату в указанной группе;\n",
    "- `revenue` — кумулятивная выручка на указанную дату в указанной группе (средний чек);\n",
    "- `visitors` — кумулятивное количество посетителей интернет-магазина на указанную дату в определённой группе."
   ]
  },
  {
   "cell_type": "code",
   "execution_count": 16,
   "id": "5f9c7863",
   "metadata": {},
   "outputs": [
    {
     "data": {
      "text/html": [
       "<div>\n",
       "<style scoped>\n",
       "    .dataframe tbody tr th:only-of-type {\n",
       "        vertical-align: middle;\n",
       "    }\n",
       "\n",
       "    .dataframe tbody tr th {\n",
       "        vertical-align: top;\n",
       "    }\n",
       "\n",
       "    .dataframe thead th {\n",
       "        text-align: right;\n",
       "    }\n",
       "</style>\n",
       "<table border=\"1\" class=\"dataframe\">\n",
       "  <thead>\n",
       "    <tr style=\"text-align: right;\">\n",
       "      <th></th>\n",
       "      <th>date</th>\n",
       "      <th>group</th>\n",
       "      <th>orders</th>\n",
       "      <th>buyers</th>\n",
       "      <th>revenue</th>\n",
       "      <th>visitors</th>\n",
       "    </tr>\n",
       "  </thead>\n",
       "  <tbody>\n",
       "    <tr>\n",
       "      <th>0</th>\n",
       "      <td>2019-08-01</td>\n",
       "      <td>A</td>\n",
       "      <td>24</td>\n",
       "      <td>20</td>\n",
       "      <td>148579</td>\n",
       "      <td>719</td>\n",
       "    </tr>\n",
       "    <tr>\n",
       "      <th>1</th>\n",
       "      <td>2019-08-01</td>\n",
       "      <td>B</td>\n",
       "      <td>21</td>\n",
       "      <td>20</td>\n",
       "      <td>101217</td>\n",
       "      <td>713</td>\n",
       "    </tr>\n",
       "    <tr>\n",
       "      <th>2</th>\n",
       "      <td>2019-08-02</td>\n",
       "      <td>A</td>\n",
       "      <td>44</td>\n",
       "      <td>38</td>\n",
       "      <td>242401</td>\n",
       "      <td>1338</td>\n",
       "    </tr>\n",
       "    <tr>\n",
       "      <th>3</th>\n",
       "      <td>2019-08-02</td>\n",
       "      <td>B</td>\n",
       "      <td>45</td>\n",
       "      <td>43</td>\n",
       "      <td>266748</td>\n",
       "      <td>1294</td>\n",
       "    </tr>\n",
       "    <tr>\n",
       "      <th>4</th>\n",
       "      <td>2019-08-03</td>\n",
       "      <td>A</td>\n",
       "      <td>68</td>\n",
       "      <td>62</td>\n",
       "      <td>354874</td>\n",
       "      <td>1845</td>\n",
       "    </tr>\n",
       "  </tbody>\n",
       "</table>\n",
       "</div>"
      ],
      "text/plain": [
       "        date group  orders  buyers  revenue  visitors\n",
       "0 2019-08-01     A      24      20   148579       719\n",
       "1 2019-08-01     B      21      20   101217       713\n",
       "2 2019-08-02     A      44      38   242401      1338\n",
       "3 2019-08-02     B      45      43   266748      1294\n",
       "4 2019-08-03     A      68      62   354874      1845"
      ]
     },
     "execution_count": 16,
     "metadata": {},
     "output_type": "execute_result"
    }
   ],
   "source": [
    "# создаем массив уникальных пар значений дат и групп теста\n",
    "datesGroups = orders[['date','group']].drop_duplicates()\n",
    "\n",
    "# получаем агрегированные кумулятивные по дням данные о заказах \n",
    "ordersAggregated = datesGroups.apply(lambda x: orders[np.logical_and(orders['date'] <= x['date'], orders['group'] == x['group'])].agg({'date' : 'max', 'group' : 'max', 'transactionId' : 'nunique', 'visitorId' : 'nunique', 'revenue' : 'sum'}), axis=1).sort_values(by=['date','group'])\n",
    "\n",
    "# получаем агрегированные кумулятивные по дням данные о посетителях интернет-магазина \n",
    "visitorsAggregated = datesGroups.apply(lambda x: visitors[np.logical_and(visitors['date'] <= x['date'], visitors['group'] == x['group'])].agg({'date' : 'max', 'group' : 'max', 'visitors' : 'sum'}), axis=1).sort_values(by=['date','group'])\n",
    "\n",
    "# объединяем кумулятивные данные в одной таблице и присваиваем ее столбцам понятные названия\n",
    "cumulativeData = ordersAggregated.merge(visitorsAggregated, left_on=['date', 'group'], right_on=['date', 'group'])\n",
    "cumulativeData.columns = ['date', 'group', 'orders', 'buyers', 'revenue', 'visitors']\n",
    "\n",
    "cumulativeData.head(5)\n"
   ]
  },
  {
   "cell_type": "markdown",
   "id": "6001a449",
   "metadata": {},
   "source": [
    "#### График кумулятивной выручки по группам."
   ]
  },
  {
   "cell_type": "code",
   "execution_count": 17,
   "id": "4df4c8b8",
   "metadata": {},
   "outputs": [
    {
     "data": {
      "text/plain": [
       "<matplotlib.legend.Legend at 0x7f4acd1c4df0>"
      ]
     },
     "execution_count": 17,
     "metadata": {},
     "output_type": "execute_result"
    },
    {
     "data": {
      "image/png": "[encoded data removed]",
      "text/plain": [
       "<Figure size 720x360 with 1 Axes>"
      ]
     },
     "metadata": {
      "needs_background": "light"
     },
     "output_type": "display_data"
    }
   ],
   "source": [
    "# датафрейм с кумулятивным количеством заказов и кумулятивной выручкой по дням в группе А\\B\n",
    "cumulativeRevenueA = cumulativeData[cumulativeData['group']=='A'][['date','revenue', 'orders', 'buyers', 'visitors']]\n",
    "cumulativeRevenueB = cumulativeData[cumulativeData['group']=='B'][['date','revenue', 'orders', 'buyers', 'visitors']]\n",
    "\n",
    "plt.figure(figsize=(10, 5))\n",
    "plt.title(f'Кумулятивная выручка', fontsize = 14)\n",
    "\n",
    "# Строим график выручки группы А\\B\n",
    "plt.plot(cumulativeRevenueA['date'], cumulativeRevenueA['revenue'], label='A')\n",
    "plt.plot(cumulativeRevenueB['date'], cumulativeRevenueB['revenue'], label='B')\n",
    "\n",
    "plt.legend()"
   ]
  },
  {
   "cell_type": "markdown",
   "id": "af787d72",
   "metadata": {},
   "source": [
    "<div class=\"alert alert-block alert-danger\">\n",
    "<h2> Комментарий ревьюера 🤔<a class=\"tocSkip\"></h2>\n",
    "\n",
    "Будет хорошо добавить подписи по осям)"
   ]
  },
  {
   "cell_type": "markdown",
   "id": "393ce3b2",
   "metadata": {},
   "source": [
    "Выручка почти равномерно увеличивается в течении всего теста. Кумулятивная выручка группы В стабильно больше группы А. Одновременно наблюдаются резкие скачки выручек, что может свидетельствовать об увеличении числа заказов или оформлении анамально дорогих заказов."
   ]
  },
  {
   "cell_type": "markdown",
   "id": "8eba10b7",
   "metadata": {},
   "source": [
    "<div class=\"alert alert-success\">\n",
    "<h2> Комментарий ревьюера 😊<a class=\"tocSkip\"> </h2>\n",
    " \n",
    "Верно)"
   ]
  },
  {
   "cell_type": "markdown",
   "id": "fc4859f5",
   "metadata": {},
   "source": [
    "#### График кумулятивного среднего чека."
   ]
  },
  {
   "cell_type": "code",
   "execution_count": 18,
   "id": "f16beb34",
   "metadata": {},
   "outputs": [
    {
     "data": {
      "text/plain": [
       "<matplotlib.legend.Legend at 0x7f4acd192e50>"
      ]
     },
     "execution_count": 18,
     "metadata": {},
     "output_type": "execute_result"
    },
    {
     "data": {
      "image/png": "[encoded data removed]",
      "text/plain": [
       "<Figure size 720x360 with 1 Axes>"
      ]
     },
     "metadata": {
      "needs_background": "light"
     },
     "output_type": "display_data"
    }
   ],
   "source": [
    "plt.figure(figsize=(10, 5))\n",
    "plt.title(f'Кумулятивный средний чек.', fontsize = 14)\n",
    "plt.plot(cumulativeRevenueA['date'], cumulativeRevenueA['revenue']/cumulativeRevenueA['orders'], label='A')\n",
    "plt.plot(cumulativeRevenueB['date'], cumulativeRevenueB['revenue']/cumulativeRevenueB['orders'], label='B')\n",
    "plt.legend()\n"
   ]
  },
  {
   "cell_type": "markdown",
   "id": "7bbc0343",
   "metadata": {},
   "source": [
    "Во второй половине теста средние чеки групп становятся равномерными: немного падает для группы В и немного растет для группы А. При этом для обеих групп есть момент резкого роста среднего чека. Вероятно в выборку попали нетипично дорогие заказы."
   ]
  },
  {
   "cell_type": "markdown",
   "id": "549da882",
   "metadata": {},
   "source": [
    "#### График относительного изменения кумулятивного среднего чека группы B к группе A."
   ]
  },
  {
   "cell_type": "code",
   "execution_count": 19,
   "id": "c39e2cc4",
   "metadata": {},
   "outputs": [
    {
     "data": {
      "text/plain": [
       "<matplotlib.lines.Line2D at 0x7f4acd110b80>"
      ]
     },
     "execution_count": 19,
     "metadata": {},
     "output_type": "execute_result"
    },
    {
     "data": {
      "image/png": "[encoded data removed]",
      "text/plain": [
       "<Figure size 720x360 with 1 Axes>"
      ]
     },
     "metadata": {
      "needs_background": "light"
     },
     "output_type": "display_data"
    }
   ],
   "source": [
    "# собираем данные в одном датафрейме\n",
    "mergedCumulativeRevenue = cumulativeRevenueA.merge(cumulativeRevenueB, left_on='date', right_on='date', how='left', suffixes=['A', 'B'])\n",
    "\n",
    "plt.figure(figsize=(10, 5))\n",
    "plt.title(f'Oтносительное изменение кумулятивного среднего чека.', fontsize = 14)\n",
    "\n",
    "# cтроим отношение средних чеков\n",
    "plt.plot(mergedCumulativeRevenue['date'], (mergedCumulativeRevenue['revenueB']/mergedCumulativeRevenue['ordersB'])/(mergedCumulativeRevenue['revenueA']/mergedCumulativeRevenue['ordersA'])-1)\n",
    "\n",
    "# добавляем нулевую линию\n",
    "plt.axhline(y=0, color='red', linestyle='--')"
   ]
  },
  {
   "cell_type": "markdown",
   "id": "f545eea3",
   "metadata": {},
   "source": [
    "В нескольких точках графика различия между сегментами резко «скачет» - это влияние крупных заказов и выбросов."
   ]
  },
  {
   "cell_type": "markdown",
   "id": "c0e41f3e",
   "metadata": {},
   "source": [
    "#### График кумулятивного среднего количества заказов на покупателя."
   ]
  },
  {
   "cell_type": "code",
   "execution_count": 20,
   "id": "ef81be64",
   "metadata": {},
   "outputs": [
    {
     "data": {
      "text/plain": [
       "<matplotlib.legend.Legend at 0x7f4acd196d60>"
      ]
     },
     "execution_count": 20,
     "metadata": {},
     "output_type": "execute_result"
    },
    {
     "data": {
      "image/png": "[encoded data removed]",
      "text/plain": [
       "<Figure size 720x360 with 1 Axes>"
      ]
     },
     "metadata": {
      "needs_background": "light"
     },
     "output_type": "display_data"
    }
   ],
   "source": [
    "plt.figure(figsize=(10, 5))\n",
    "plt.title(f'Кумулятивное среднее количество заказов на покупателя.', fontsize = 14)\n",
    "plt.plot(cumulativeRevenueA['date'], cumulativeRevenueA['orders']/cumulativeRevenueA['buyers'], label='A')\n",
    "plt.plot(cumulativeRevenueB['date'], cumulativeRevenueB['orders']/cumulativeRevenueB['buyers'], label='B')\n",
    "plt.legend()"
   ]
  },
  {
   "cell_type": "markdown",
   "id": "e5534da3",
   "metadata": {},
   "source": [
    "В начале теста среднее количество заказов на одного поскупателя группы А резко отличалось от группы Б. Очевидно в выборку попали покупатели, совершающие несколько заказов в день, что нетипично для нашего магазина. Со временем кумулятивные данные зафиксировались и практически уровнялись (с небольшим превышением для группы А)."
   ]
  },
  {
   "cell_type": "markdown",
   "id": "7705c064",
   "metadata": {},
   "source": [
    "#### График кумулятивного среднего количества заказов на посетителя."
   ]
  },
  {
   "cell_type": "code",
   "execution_count": 21,
   "id": "9c975ee8",
   "metadata": {},
   "outputs": [
    {
     "data": {
      "text/plain": [
       "(0.02, 0.05)"
      ]
     },
     "execution_count": 21,
     "metadata": {},
     "output_type": "execute_result"
    },
    {
     "data": {
      "image/png": "[encoded data removed]",
      "text/plain": [
       "<Figure size 720x360 with 1 Axes>"
      ]
     },
     "metadata": {
      "needs_background": "light"
     },
     "output_type": "display_data"
    }
   ],
   "source": [
    "plt.figure(figsize=(10, 5))\n",
    "plt.title(f'Кумулятивное среднее количество заказов на посетителя.', fontsize = 14)\n",
    "plt.plot(cumulativeRevenueA['date'], cumulativeRevenueA['orders']/cumulativeRevenueA['visitors'], label='A')\n",
    "plt.plot(cumulativeRevenueB['date'], cumulativeRevenueB['orders']/cumulativeRevenueB['visitors'], label='B')\n",
    "plt.legend()\n",
    "plt.ylim(0.02, 0.05) "
   ]
  },
  {
   "cell_type": "markdown",
   "id": "d41240e6",
   "metadata": {},
   "source": [
    "Метрика резко колебалась в первые дни теста. Кумулятивная конверсия группы В превысила группу А и зафиксировалась."
   ]
  },
  {
   "cell_type": "markdown",
   "id": "65a16173",
   "metadata": {},
   "source": [
    "#### График относительного изменения кумулятивного среднего количества заказов на посетителя группы B к группе A."
   ]
  },
  {
   "cell_type": "code",
   "execution_count": 22,
   "id": "7c685d8f",
   "metadata": {},
   "outputs": [
    {
     "data": {
      "text/plain": [
       "(-0.5, 0.5)"
      ]
     },
     "execution_count": 22,
     "metadata": {},
     "output_type": "execute_result"
    },
    {
     "data": {
      "image/png": "[encoded data removed]",
      "text/plain": [
       "<Figure size 720x360 with 1 Axes>"
      ]
     },
     "metadata": {
      "needs_background": "light"
     },
     "output_type": "display_data"
    }
   ],
   "source": [
    "plt.figure(figsize=(10, 5))\n",
    "plt.title(f'Oтносительное изменение кумулятивного среднего количества заказов на посетителя группы B к группе A.', fontsize = 14)\n",
    "\n",
    "# cтроим отношение средних чеков\n",
    "plt.plot(mergedCumulativeRevenue['date'], (mergedCumulativeRevenue['ordersB']/mergedCumulativeRevenue['visitorsB'])/(mergedCumulativeRevenue['ordersA']/mergedCumulativeRevenue['visitorsA'])-1)\n",
    "\n",
    "# добавляем нулевую линию\n",
    "plt.axhline(y=0, color='red', linestyle='--')\n",
    "plt.ylim([-0.5, 0.5]) "
   ]
  },
  {
   "cell_type": "markdown",
   "id": "ac8fcf26",
   "metadata": {},
   "source": [
    "В первые дни теста конверсия группы В то проигрывала группе А то опережала ее. Затем она выровнялась и  устойчиво опережает групу А."
   ]
  },
  {
   "cell_type": "markdown",
   "id": "aa86a127",
   "metadata": {},
   "source": [
    "#### Выводы: \n",
    "- Кумулятивная выручка группы В превышает кумулятивную выручку группы А. Выручка устойчиво растет.\n",
    "- Средний чек группы В выше среднего чека группы А и стабилизировался.\n",
    "- Конверсия в покупателя группы В выше группы А и стабильна.\n",
    "\n",
    "Вероятно тест можно остановить. Но проверим данные на предполагаемые аномалии, возможно их исключение изменит решение."
   ]
  },
  {
   "cell_type": "markdown",
   "id": "0c798e62",
   "metadata": {},
   "source": [
    "<div class=\"alert alert-success\">\n",
    "<h2> Комментарий ревьюера 😊<a class=\"tocSkip\"> </h2>\n",
    " \n",
    "Графики построены и интерпретированы верно, молодец!)"
   ]
  },
  {
   "cell_type": "markdown",
   "id": "f6fa658f",
   "metadata": {},
   "source": [
    "### Выявление отклонений."
   ]
  },
  {
   "cell_type": "markdown",
   "id": "e7b6e136",
   "metadata": {},
   "source": [
    "#### Точечный график количества заказов по пользователям."
   ]
  },
  {
   "cell_type": "code",
   "execution_count": 23,
   "id": "c779216f",
   "metadata": {},
   "outputs": [
    {
     "data": {
      "text/plain": [
       "<matplotlib.collections.PathCollection at 0x7f4acc866d00>"
      ]
     },
     "execution_count": 23,
     "metadata": {},
     "output_type": "execute_result"
    },
    {
     "data": {
      "image/png": "[encoded data removed]",
      "text/plain": [
       "<Figure size 432x288 with 1 Axes>"
      ]
     },
     "metadata": {
      "needs_background": "light"
     },
     "output_type": "display_data"
    }
   ],
   "source": [
    "x_values = pd.Series(range(0,(orders['visitorId'].nunique())))\n",
    "plt.scatter(x_values, orders.groupby('visitorId')['transactionId'].count())"
   ]
  },
  {
   "cell_type": "code",
   "execution_count": 24,
   "id": "2291e045",
   "metadata": {},
   "outputs": [
    {
     "data": {
      "text/plain": [
       "count   1031.00\n",
       "mean       1.16\n",
       "std        0.72\n",
       "min        1.00\n",
       "25%        1.00\n",
       "50%        1.00\n",
       "75%        1.00\n",
       "95%        2.00\n",
       "99%        4.00\n",
       "max       11.00\n",
       "Name: transactionId, dtype: float64"
      ]
     },
     "execution_count": 24,
     "metadata": {},
     "output_type": "execute_result"
    }
   ],
   "source": [
    "orders.groupby('visitorId')['transactionId'].count().describe(percentiles=[.25, .50, .75, .95, .99])"
   ]
  },
  {
   "cell_type": "code",
   "execution_count": 25,
   "id": "be6d9c8a",
   "metadata": {},
   "outputs": [
    {
     "data": {
      "text/plain": [
       "<AxesSubplot:>"
      ]
     },
     "execution_count": 25,
     "metadata": {},
     "output_type": "execute_result"
    },
    {
     "data": {
      "image/png": "[encoded data removed]",
      "text/plain": [
       "<Figure size 432x288 with 1 Axes>"
      ]
     },
     "metadata": {
      "needs_background": "light"
     },
     "output_type": "display_data"
    }
   ],
   "source": [
    "orders.groupby('visitorId')['transactionId'].count().hist()"
   ]
  },
  {
   "cell_type": "markdown",
   "id": "92fdbd14",
   "metadata": {},
   "source": [
    "Большая часть клиентов оформила за время теста 1 заказ. При этом 5% клиентов сделали 2 заказа и более и только 1% клиентов оформили 4 заказа и более. Целесообразно исключить из анализа клиентов, оформивших более 5 заказов (провал на гистограмме)."
   ]
  },
  {
   "cell_type": "markdown",
   "id": "579675a5",
   "metadata": {},
   "source": [
    "#### Точечный график стоимостей заказов."
   ]
  },
  {
   "cell_type": "code",
   "execution_count": 26,
   "id": "3b067a39",
   "metadata": {
    "scrolled": true
   },
   "outputs": [
    {
     "data": {
      "text/plain": [
       "<matplotlib.collections.PathCollection at 0x7f4a8911ea30>"
      ]
     },
     "execution_count": 26,
     "metadata": {},
     "output_type": "execute_result"
    },
    {
     "data": {
      "image/png": "[encoded data removed]",
      "text/plain": [
       "<Figure size 432x288 with 1 Axes>"
      ]
     },
     "metadata": {
      "needs_background": "light"
     },
     "output_type": "display_data"
    }
   ],
   "source": [
    "x_values = pd.Series(range(0,len(orders['revenue'])))\n",
    "plt.scatter(x_values, orders['revenue']) "
   ]
  },
  {
   "cell_type": "code",
   "execution_count": 27,
   "id": "6f149a6b",
   "metadata": {},
   "outputs": [
    {
     "data": {
      "text/plain": [
       "(0.0, 100000.0)"
      ]
     },
     "execution_count": 27,
     "metadata": {},
     "output_type": "execute_result"
    },
    {
     "data": {
      "image/png": "[encoded data removed]",
      "text/plain": [
       "<Figure size 432x288 with 1 Axes>"
      ]
     },
     "metadata": {
      "needs_background": "light"
     },
     "output_type": "display_data"
    }
   ],
   "source": [
    "x_values = pd.Series(range(0,len(orders['revenue'])))\n",
    "plt.scatter(x_values, orders['revenue']) \n",
    "plt.ylim(0,100000)"
   ]
  },
  {
   "cell_type": "code",
   "execution_count": 28,
   "id": "43cdaf48",
   "metadata": {},
   "outputs": [
    {
     "data": {
      "text/plain": [
       "count      1197.00\n",
       "mean       8348.01\n",
       "std       39191.13\n",
       "min          50.00\n",
       "25%        1220.00\n",
       "50%        2978.00\n",
       "75%        8290.00\n",
       "95%       28000.00\n",
       "99%       58233.20\n",
       "max     1294500.00\n",
       "Name: revenue, dtype: float64"
      ]
     },
     "execution_count": 28,
     "metadata": {},
     "output_type": "execute_result"
    }
   ],
   "source": [
    "orders['revenue'].describe(percentiles=[.25, .50, .75, .95, .99])"
   ]
  },
  {
   "cell_type": "markdown",
   "id": "719abf27",
   "metadata": {},
   "source": [
    "Средняя стоимость заказа составила 8300 рублей. Более 28000 стоят только 5% заказов, и только 1% превышает 58000. Целесообразно исключить из анализа заказы стоимостью более 58 200."
   ]
  },
  {
   "cell_type": "markdown",
   "id": "f0462970",
   "metadata": {},
   "source": [
    "<div class=\"alert alert-success\">\n",
    "<h2> Комментарий ревьюера 😊<a class=\"tocSkip\"> </h2>\n",
    " \n",
    "Прекрасная работа с границами аномальных значений, молодец)"
   ]
  },
  {
   "cell_type": "markdown",
   "id": "f88513ae",
   "metadata": {},
   "source": [
    "<div class=\"alert alert-block alert-danger\">\n",
    "<h2> Комментарий ревьюера 🤔<a class=\"tocSkip\"></h2>\n",
    "\n",
    "необходимо оформить графики)"
   ]
  },
  {
   "cell_type": "markdown",
   "id": "bb0a8128",
   "metadata": {},
   "source": [
    "### Статистическая значимость различий."
   ]
  },
  {
   "cell_type": "markdown",
   "id": "0ae0f3df",
   "metadata": {},
   "source": [
    "H0: различий в среднем количестве заказов на посетителя между группами нет. \n",
    "Н1: различия в среднем количестве заказов на посетителя между группами есть."
   ]
  },
  {
   "cell_type": "code",
   "execution_count": 29,
   "id": "d0d28ffb",
   "metadata": {},
   "outputs": [
    {
     "name": "stdout",
     "output_type": "stream",
     "text": [
      "0.017\n",
      "0.138\n"
     ]
    }
   ],
   "source": [
    "# Создаем переменные для группы теста. Для пользователей, которые заказывали хотя бы 1 раз, \n",
    "# посчитаем число совершённых заказов. \n",
    "\n",
    "ordersByUsersA = (\n",
    "    orders[orders['group'] == 'A']\n",
    "    .groupby('visitorId', as_index=False)\n",
    "    .agg({'transactionId': pd.Series.nunique})\n",
    ")\n",
    "ordersByUsersA.columns = ['userId', 'orders']\n",
    "\n",
    "ordersByUsersB = (\n",
    "    orders[orders['group'] == 'B']\n",
    "    .groupby('visitorId', as_index=False)\n",
    "    .agg({'transactionId': pd.Series.nunique})\n",
    ")\n",
    "ordersByUsersB.columns = ['userId', 'orders']\n",
    "\n",
    "# Добавим пользлвателей, которые не сделали ни одного заказа (количество заказов 0).\n",
    "\n",
    "sampleA = pd.concat(\n",
    "    [\n",
    "        ordersByUsersA['orders'],\n",
    "        pd.Series(\n",
    "            0,\n",
    "            index=np.arange(\n",
    "                cumulativeData[cumulativeData['group']=='A']['visitors'].max() - len(ordersByUsersA['orders'])\n",
    "            ),\n",
    "            name='orders',\n",
    "        ),\n",
    "    ],\n",
    "    axis=0,\n",
    ")\n",
    "\n",
    "sampleB = pd.concat(\n",
    "    [\n",
    "        ordersByUsersB['orders'],\n",
    "        pd.Series(\n",
    "            0,\n",
    "            index=np.arange(\n",
    "                cumulativeData[cumulativeData['group']=='B']['visitors'].max() - len(ordersByUsersB['orders'])\n",
    "            ),\n",
    "            name='orders',\n",
    "        ),\n",
    "    ],\n",
    "    axis=0,\n",
    ")\n",
    "\n",
    "print(\"{0:.3f}\".format(st.mannwhitneyu(sampleA, sampleB)[1]))\n",
    "\n",
    "print(\"{0:.3f}\".format(sampleB.mean() / sampleA.mean() - 1))"
   ]
  },
  {
   "cell_type": "markdown",
   "id": "a7d1e457",
   "metadata": {},
   "source": [
    "<div class=\"alert alert-warning\">\n",
    "<h2> Комментарий ревьюера 🤓<a class=\"tocSkip\"> </h2>\n",
    "\n",
    "Чтобы не возникало путаницы, следует подписать значения, какое из них - p-value, а какое - различие в средних. "
   ]
  },
  {
   "cell_type": "markdown",
   "id": "dc6f2668",
   "metadata": {},
   "source": [
    "Вывод: по \"сырым\" данным различия в среднем количестве заказов на посетителя есть, p-value = 0.017 меньше 0.05. Значит, нулевую гипотезу о том, что статистически значимых различий в среднем числе заказов между группами нет, отвергаем. Относительный выигрыш группы B равен 13.8%"
   ]
  },
  {
   "cell_type": "markdown",
   "id": "e6975937",
   "metadata": {},
   "source": [
    "<div class=\"alert alert-success\">\n",
    "<h2> Комментарий ревьюера 😊<a class=\"tocSkip\"> </h2>\n",
    "Гипотезы сформулированы верно и значение p-value интерпретировано правильно. Хорошая работа.\n",
    "</div>"
   ]
  },
  {
   "cell_type": "markdown",
   "id": "d4b42bd0",
   "metadata": {},
   "source": [
    "H0: различий в среднем чеке заказов между группами нет. \n",
    "Н1: различия в среднем чеке заказов между группами есть."
   ]
  },
  {
   "cell_type": "code",
   "execution_count": 30,
   "id": "0d564bc7",
   "metadata": {},
   "outputs": [
    {
     "name": "stdout",
     "output_type": "stream",
     "text": [
      "0.729\n",
      "0.259\n"
     ]
    }
   ],
   "source": [
    "print('{0:.3f}'.format(st.mannwhitneyu(orders[orders['group']=='A']['revenue'], orders[orders['group']=='B']['revenue'])[1]))\n",
    "print('{0:.3f}'.format(orders[orders['group']=='B']['revenue'].mean()/orders[orders['group']=='A']['revenue'].mean()-1))"
   ]
  },
  {
   "cell_type": "markdown",
   "id": "9817193f",
   "metadata": {},
   "source": [
    "Вывод: по \"сырым\" данным различия в среднем чеке между группами нет, p-value = 0.729 больше 0.05. Значит, нулевую гипотезу о том, что статистически значимых различий в среднем чеке заказов между группами нет, не отвергаем. При этом относительный выигрыш группы B равен 25.9%"
   ]
  },
  {
   "cell_type": "markdown",
   "id": "b75cc5d9",
   "metadata": {},
   "source": [
    "Примем за аномальных пользователей тех, кто совершил от 5 заказов или совершил заказ дороже 58 200 рублей. Так мы уберём 1% пользователей с наибольшим числом заказов и 1% пользователей с дорогими заказами. "
   ]
  },
  {
   "cell_type": "code",
   "execution_count": 31,
   "id": "99a40d5c",
   "metadata": {},
   "outputs": [
    {
     "name": "stdout",
     "output_type": "stream",
     "text": [
      "1099     148427295\n",
      "949      887908475\n",
      "744      888512513\n",
      "1103    1164614297\n",
      "1136    1307669133\n",
      "dtype: int64\n",
      "15\n"
     ]
    }
   ],
   "source": [
    "usersWithManyOrders = pd.concat(\n",
    "    [\n",
    "        ordersByUsersA[ordersByUsersA['orders'] > 4]['userId'],\n",
    "        ordersByUsersB[ordersByUsersB['orders'] > 4]['userId'],\n",
    "    ],\n",
    "    axis=0,\n",
    ")\n",
    "usersWithExpensiveOrders = orders[orders['revenue'] > 58200]['visitorId']\n",
    "abnormalUsers = (\n",
    "    pd.concat([usersWithManyOrders, usersWithExpensiveOrders], axis=0)\n",
    "    .drop_duplicates()\n",
    "    .sort_values()\n",
    ")\n",
    "print(abnormalUsers.head(5))\n",
    "print(abnormalUsers.shape[0])"
   ]
  },
  {
   "cell_type": "markdown",
   "id": "2f881b38",
   "metadata": {},
   "source": [
    "<div class=\"alert alert-warning\">\n",
    "<h2> Комментарий ревьюера 🤓<a class=\"tocSkip\"> </h2>\n",
    "\n",
    "Чтобы в дальнейшем мы могли использовать анализ повторно, будет лучше отказаться от  ручного ввода обозначаемых границ, и заменить на соответствующие коду обозначения (перцентили))\n",
    "\n",
    "</div>"
   ]
  },
  {
   "cell_type": "markdown",
   "id": "42234719",
   "metadata": {},
   "source": [
    "Всего 15 аномальных пользователей. "
   ]
  },
  {
   "cell_type": "markdown",
   "id": "603d2cfd",
   "metadata": {},
   "source": [
    "Посчитаем статистическую значимость различий в среднем количестве заказов между группами теста по очищенным данным. "
   ]
  },
  {
   "cell_type": "code",
   "execution_count": 32,
   "id": "c7ce8dbb",
   "metadata": {},
   "outputs": [
    {
     "name": "stdout",
     "output_type": "stream",
     "text": [
      "0.014\n",
      "0.153\n"
     ]
    }
   ],
   "source": [
    "sampleAFiltered = pd.concat(\n",
    "    [\n",
    "        ordersByUsersA[\n",
    "            np.logical_not(ordersByUsersA['userId'].isin(abnormalUsers))\n",
    "        ]['orders'],\n",
    "        pd.Series(\n",
    "            0,\n",
    "            index=np.arange(\n",
    "                cumulativeData[cumulativeData['group']=='A']['visitors'].max() - len(ordersByUsersA['orders'])\n",
    "            ),\n",
    "            name='orders',\n",
    "        ),\n",
    "    ],\n",
    "    axis=0,\n",
    ")\n",
    "\n",
    "sampleBFiltered = pd.concat(\n",
    "    [\n",
    "        ordersByUsersB[\n",
    "            np.logical_not(ordersByUsersB['userId'].isin(abnormalUsers))\n",
    "        ]['orders'],\n",
    "        pd.Series(\n",
    "            0,\n",
    "            index=np.arange(\n",
    "                cumulativeData[cumulativeData['group']=='B']['visitors'].max() - len(ordersByUsersB['orders'])\n",
    "            ),\n",
    "            name='orders',\n",
    "        ),\n",
    "    ],\n",
    "    axis=0,\n",
    ")\n",
    "\n",
    "print('{0:.3f}'.format(st.mannwhitneyu(sampleAFiltered, sampleBFiltered)[1]))\n",
    "print('{0:.3f}'.format(sampleBFiltered.mean()/sampleAFiltered.mean()-1))"
   ]
  },
  {
   "cell_type": "markdown",
   "id": "984cd05f",
   "metadata": {},
   "source": [
    "Вывод: по \"очищенным\" данным различия в среднем количестве заказов на посетителя есть, p-value уменьшился и составляет 0.014 меньше 0.05. Значит, нулевую гипотезу о том, что статистически значимых различий в среднем числе заказов между группами нет, отвергаем. Относительный выигрыш группы B увеличился и равен 15.3%. Клиенты из группы В заказывают чаще клиентов из группы А."
   ]
  },
  {
   "cell_type": "markdown",
   "id": "18e13d6e",
   "metadata": {},
   "source": [
    "Посмотрим на средний чек по очищенным данным."
   ]
  },
  {
   "cell_type": "code",
   "execution_count": 33,
   "id": "67b9283a",
   "metadata": {},
   "outputs": [
    {
     "name": "stdout",
     "output_type": "stream",
     "text": [
      "0.851\n",
      "-0.006\n"
     ]
    }
   ],
   "source": [
    "print(\n",
    "    '{0:.3f}'.format(\n",
    "        st.mannwhitneyu(\n",
    "            orders[\n",
    "                np.logical_and(\n",
    "                    orders['group'] == 'A',\n",
    "                    np.logical_not(orders['visitorId'].isin(abnormalUsers)),\n",
    "                )\n",
    "            ]['revenue'],\n",
    "            orders[\n",
    "                np.logical_and(\n",
    "                    orders['group'] == 'B',\n",
    "                    np.logical_not(orders['visitorId'].isin(abnormalUsers)),\n",
    "                )\n",
    "            ]['revenue'],\n",
    "        )[1]\n",
    "    )\n",
    ")\n",
    "\n",
    "print(\n",
    "    \"{0:.3f}\".format(\n",
    "        orders[\n",
    "            np.logical_and(\n",
    "                orders['group'] == 'B',\n",
    "                np.logical_not(orders['visitorId'].isin(abnormalUsers)),\n",
    "            )\n",
    "        ]['revenue'].mean()\n",
    "        / orders[\n",
    "            np.logical_and(\n",
    "                orders['group'] == 'A',\n",
    "                np.logical_not(orders['visitorId'].isin(abnormalUsers)),\n",
    "            )\n",
    "        ]['revenue'].mean()\n",
    "        - 1\n",
    "    )\n",
    ")"
   ]
  },
  {
   "cell_type": "markdown",
   "id": "b0d9e8f3",
   "metadata": {},
   "source": [
    "Вывод: по \"очищенным\" данным различия в среднем чеке между группами нет, p-value увеличился и составил 0.851 больше 0.05. Значит, нулевую гипотезу о том, что статистически значимых различий в среднем чеке заказов между группами нет, не отвергаем. При этом относительный выигрыш группы B в 25% нивелировался аномальными клиентами. То есть в группу В попали пользователи, оформившие очень дорогие заказы."
   ]
  },
  {
   "cell_type": "markdown",
   "id": "63826607",
   "metadata": {},
   "source": [
    "<div class=\"alert alert-success\">\n",
    "<h2> Комментарий ревьюера 😊 <a class=\"tocSkip\"> </h2>\n",
    "\n",
    "Правильно)\n",
    "\n",
    "Статистический анализ проведен верно)"
   ]
  },
  {
   "cell_type": "markdown",
   "id": "6c5dff0f",
   "metadata": {},
   "source": [
    "## Выводы:\n",
    "\n",
    "   9 предложенных гипотез были приоритезированы методом RICE. В результате наиболее перспективной оказалась гипотеза 7 \"Добавить форму подписки на все основные страницы, чтобы собрать базу клиентов для email-рассылок\". Она затронет максимальное количество пользователей (10 баллов), трудозатрат потребует относительно немного (5 баллов) и мы ожидаем (уверенность 8 баллов) достаточно сильное влияние (7 баллов).\n",
    "\n",
    "   Исследовали \n",
    "- данные по заказам за период с 1 по 31 августа 2019 года, \n",
    "- данные по суммарному количеству пользователей двух групп А\\В-тестирования, за каждый день проведения А\\В-теста.\n",
    "Данные не имеют пропусков и дубликатов. Представлены для 1031 пользователя из двух групп, которые совершили 1197 заказов. Даты преобразовали в тип datetime.\n",
    "\n",
    "   Выявили:\n",
    "1. Наблюдается сезонность в активности клиентов: по воскресеньям количество заказов заметно меньше, чем в другие дни недели. На третьей и четвертой неделе наблюдался резкий провал в количестве заказов во вторник. \n",
    "\n",
    "1. Средняя стоимость заказа составляет 8300. При этом стандарное отклонение почти в 5 раз превышает среднее, то есть существуют заказы с очень большой стоимостью. Сумма 95% заказов не превышает 28 000, и только 1% заказов на сумму более 58 000.\n",
    "\n",
    "1. Большая часть клиентов оформила за время теста 1 заказ. При этом 5% клиентов сделали 2 заказа и более и только 1% клиентов оформили 4 заказа и более.\n",
    "\n",
    "1. Клиентов, сделавших 5 заказов и более, а также оформивших заказы на сумму более 58 200, считаем аномальными. Поэтому статистические тесты провели для \"сырых\" и \"очищенных\" данных.\n",
    "\n",
    "   Статистические тесты показали:\n",
    "- Есть статистически значимое различия по среднему количеству заказов между группами и по «сырым», и по данным после фильтрации аномалий. Клиенты группы B заказывают чаще (за время проведения теста клиенты из группы В оформили на 15% больше заказов, чем клиенты группы А);\n",
    "\n",
    "- Нет статистически значимого различия по среднему чеку между группами ни по «сырым», ни по данным после фильтрации аномалий, хотя по сырым данным он выше на 26%;\n",
    "\n",
    "- График различия конверсии между группами сообщает, что результаты группы B стабильно выше группы A;\n",
    "\n",
    "- Кумулятивная выручка группы В стабильно превышает кумулятивную выручку группы А и устойчиво растет.\n",
    "\n",
    "Считаю возможным остановить тест и зафиксировать победу группы В."
   ]
  },
  {
   "cell_type": "markdown",
   "id": "10b99a06",
   "metadata": {},
   "source": [
    "<div class=\"alert alert-success\">\n",
    "<h2> Комментарий ревьюера 😊 <a class=\"tocSkip\"> </h2>\n",
    "\n",
    "Содержательный вывод по проделанной работе!)"
   ]
  },
  {
   "cell_type": "markdown",
   "id": "5e1052d0",
   "metadata": {},
   "source": [
    "<div style=\"border:solid Purple 2px; padding: 40px\">\n",
    "\n",
    "<h2> Общий комментарий ревьюера 😊<a class=\"tocSkip\"> </h2>\n",
    "    <br/>\n",
    "Зоя, ты проделала большую работу, и все основные задачи в рамках проекта решены, это отличная работа! Особенно хочу выделить  подробные выводы, очень точное использование функций и отличная визуализация) Ты даешь подробное описание своих действий и приводишь аргументацию, это очень хорошо. \n",
    "    \n",
    "Необходимо доработать:\n",
    "    \n",
    "* Добавить оформление к графикам\n",
    "* Остальные комментарии ты найдешь в работе\n",
    "    \n",
    " \n",
    "**Желаю удачи и жду твой проект на повторное ревью! Если вдруг у тебя возникнут вопросы, то я с радостью отвечу на них.    😊**\n",
    "    \n",
    "![gif](https://i.gifer.com/378.gif)\n",
    "    \n",
    "<br>   \n",
    "             \n",
    "**Дополнительные материалы:**\n",
    " \n",
    "[Вебинары под эгидой Практикума](https://vk.com/yandex.praktikum?w=wall-176471180_2144), \n",
    "    \n",
    "[Лекции Анатолия Карпова 1](https://www.youtube.com/watch?v=jnFVmtaeSA0&list=WL&index=19&t=2s) [2](https://www.youtube.com/watch?v=gljfGAkgX_o&list=WL&index=4)\n",
    "    \n",
    "Материалы [gopractice](https://gopractice.ru/summary/)\n",
    "\n",
    "Лекцию Карта статистических методов [Смотреть видео](https://www.youtube.com/watch?v=-zps6hm0nX8&t=1269s)\n",
    "        \n",
    "</div>"
   ]
  },
  {
   "cell_type": "code",
   "execution_count": null,
   "id": "0b066281",
   "metadata": {},
   "outputs": [],
   "source": []
  }
 ],
 "metadata": {
  "ExecuteTimeLog": [
   {
    "duration": 1140,
    "start_time": "2022-12-27T17:58:12.450Z"
   },
   {
    "duration": 63,
    "start_time": "2022-12-27T17:58:13.592Z"
   },
   {
    "duration": 89,
    "start_time": "2022-12-27T17:58:13.656Z"
   },
   {
    "duration": 12,
    "start_time": "2022-12-27T17:58:13.747Z"
   },
   {
    "duration": 11,
    "start_time": "2022-12-27T17:58:13.760Z"
   },
   {
    "duration": 109,
    "start_time": "2022-12-27T17:58:13.773Z"
   },
   {
    "duration": 82,
    "start_time": "2022-12-27T17:58:13.884Z"
   },
   {
    "duration": 7,
    "start_time": "2022-12-27T17:58:13.967Z"
   },
   {
    "duration": 15,
    "start_time": "2022-12-27T17:58:13.975Z"
   },
   {
    "duration": 11,
    "start_time": "2022-12-27T17:58:13.993Z"
   },
   {
    "duration": 133,
    "start_time": "2022-12-27T17:58:14.006Z"
   },
   {
    "duration": 6,
    "start_time": "2022-12-27T17:58:14.140Z"
   },
   {
    "duration": 151,
    "start_time": "2022-12-27T17:58:14.147Z"
   },
   {
    "duration": 8,
    "start_time": "2022-12-27T17:58:14.299Z"
   },
   {
    "duration": 269,
    "start_time": "2022-12-27T17:58:14.309Z"
   },
   {
    "duration": 292,
    "start_time": "2022-12-27T17:58:14.579Z"
   },
   {
    "duration": 226,
    "start_time": "2022-12-27T17:58:14.873Z"
   },
   {
    "duration": 207,
    "start_time": "2022-12-27T17:58:15.101Z"
   },
   {
    "duration": 325,
    "start_time": "2022-12-27T17:58:15.310Z"
   },
   {
    "duration": 212,
    "start_time": "2022-12-27T17:58:15.638Z"
   },
   {
    "duration": 226,
    "start_time": "2022-12-27T17:58:15.852Z"
   },
   {
    "duration": 406,
    "start_time": "2022-12-27T17:58:16.080Z"
   },
   {
    "duration": 130,
    "start_time": "2022-12-27T17:58:16.488Z"
   },
   {
    "duration": 10,
    "start_time": "2022-12-27T17:58:16.620Z"
   },
   {
    "duration": 146,
    "start_time": "2022-12-27T17:58:16.632Z"
   },
   {
    "duration": 139,
    "start_time": "2022-12-27T17:58:16.779Z"
   },
   {
    "duration": 132,
    "start_time": "2022-12-27T17:58:16.920Z"
   },
   {
    "duration": 8,
    "start_time": "2022-12-27T17:58:17.055Z"
   },
   {
    "duration": 186,
    "start_time": "2022-12-27T17:58:17.065Z"
   },
   {
    "duration": 10,
    "start_time": "2022-12-27T17:58:17.253Z"
   },
   {
    "duration": 10,
    "start_time": "2022-12-27T17:58:17.264Z"
   },
   {
    "duration": 29,
    "start_time": "2022-12-27T17:58:17.296Z"
   },
   {
    "duration": 14,
    "start_time": "2022-12-27T17:58:17.327Z"
   },
   {
    "duration": 64,
    "start_time": "2022-12-27T18:04:46.120Z"
   }
  ],
  "kernelspec": {
   "display_name": "Python 3 (ipykernel)",
   "language": "python",
   "name": "python3"
  },
  "language_info": {
   "codemirror_mode": {
    "name": "ipython",
    "version": 3
   },
   "file_extension": ".py",
   "mimetype": "text/x-python",
   "name": "python",
   "nbconvert_exporter": "python",
   "pygments_lexer": "ipython3",
   "version": "3.9.5"
  },
  "toc": {
   "base_numbering": 1,
   "nav_menu": {},
   "number_sections": true,
   "sideBar": true,
   "skip_h1_title": true,
   "title_cell": "Table of Contents",
   "title_sidebar": "Contents",
   "toc_cell": true,
   "toc_position": {
    "height": "calc(100% - 180px)",
    "left": "10px",
    "top": "150px",
    "width": "219.797px"
   },
   "toc_section_display": true,
   "toc_window_display": true
  }
 },
 "nbformat": 4,
 "nbformat_minor": 5
}

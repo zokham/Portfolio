{
 "cells": [
  {
   "cell_type": "markdown",
   "id": "6e33fa0d",
   "metadata": {
    "toc": true
   },
   "source": [
    "<h1>Table of Contents<span class=\"tocSkip\"></span></h1>\n",
    "<div class=\"toc\"><ul class=\"toc-item\"><li><span><a href=\"#Описание-проекта.\" data-toc-modified-id=\"Описание-проекта.-1\"><span class=\"toc-item-num\">1&nbsp;&nbsp;</span>Описание проекта.</a></span></li><li><span><a href=\"#Обзор-данных.\" data-toc-modified-id=\"Обзор-данных.-2\"><span class=\"toc-item-num\">2&nbsp;&nbsp;</span>Обзор данных.</a></span></li><li><span><a href=\"#Предобработка-данных.\" data-toc-modified-id=\"Предобработка-данных.-3\"><span class=\"toc-item-num\">3&nbsp;&nbsp;</span>Предобработка данных.</a></span><ul class=\"toc-item\"><li><span><a href=\"#Расчет-объемов-звонков,-сообщений-и-трафика.\" data-toc-modified-id=\"Расчет-объемов-звонков,-сообщений-и-трафика.-3.1\"><span class=\"toc-item-num\">3.1&nbsp;&nbsp;</span>Расчет объемов звонков, сообщений и трафика.</a></span></li><li><span><a href=\"#Объединение-данных.\" data-toc-modified-id=\"Объединение-данных.-3.2\"><span class=\"toc-item-num\">3.2&nbsp;&nbsp;</span>Объединение данных.</a></span></li><li><span><a href=\"#Выводы.\" data-toc-modified-id=\"Выводы.-3.3\"><span class=\"toc-item-num\">3.3&nbsp;&nbsp;</span>Выводы.</a></span></li></ul></li><li><span><a href=\"#Анализ-расходов-клиента.\" data-toc-modified-id=\"Анализ-расходов-клиента.-4\"><span class=\"toc-item-num\">4&nbsp;&nbsp;</span>Анализ расходов клиента.</a></span><ul class=\"toc-item\"><li><span><a href=\"#В-зависимости-от-тарифного-плана.\" data-toc-modified-id=\"В-зависимости-от-тарифного-плана.-4.1\"><span class=\"toc-item-num\">4.1&nbsp;&nbsp;</span>В зависимости от тарифного плана.</a></span></li><li><span><a href=\"#В-зависимости-от-региона.\" data-toc-modified-id=\"В-зависимости-от-региона.-4.2\"><span class=\"toc-item-num\">4.2&nbsp;&nbsp;</span>В зависимости от региона.</a></span></li><li><span><a href=\"#Выводы:\" data-toc-modified-id=\"Выводы:-4.3\"><span class=\"toc-item-num\">4.3&nbsp;&nbsp;</span>Выводы:</a></span></li></ul></li><li><span><a href=\"#Анализ-выручки.\" data-toc-modified-id=\"Анализ-выручки.-5\"><span class=\"toc-item-num\">5&nbsp;&nbsp;</span>Анализ выручки.</a></span><ul class=\"toc-item\"><li><span><a href=\"#Выводы.\" data-toc-modified-id=\"Выводы.-5.1\"><span class=\"toc-item-num\">5.1&nbsp;&nbsp;</span>Выводы.</a></span></li></ul></li><li><span><a href=\"#Проверка-гипотез.\" data-toc-modified-id=\"Проверка-гипотез.-6\"><span class=\"toc-item-num\">6&nbsp;&nbsp;</span>Проверка гипотез.</a></span><ul class=\"toc-item\"><li><span><a href=\"#Гипотеза-1.\" data-toc-modified-id=\"Гипотеза-1.-6.1\"><span class=\"toc-item-num\">6.1&nbsp;&nbsp;</span>Гипотеза 1.</a></span></li><li><span><a href=\"#Гипотеза-2.\" data-toc-modified-id=\"Гипотеза-2.-6.2\"><span class=\"toc-item-num\">6.2&nbsp;&nbsp;</span>Гипотеза 2.</a></span></li></ul></li><li><span><a href=\"#Общие-выводы.\" data-toc-modified-id=\"Общие-выводы.-7\"><span class=\"toc-item-num\">7&nbsp;&nbsp;</span>Общие выводы.</a></span></li></ul></div>"
   ]
  },
  {
   "cell_type": "markdown",
   "id": "e782864e",
   "metadata": {},
   "source": [
    "# Определение перспективного тарифа для телеком-компании."
   ]
  },
  {
   "cell_type": "markdown",
   "id": "b53ecbc0",
   "metadata": {},
   "source": [
    "## Описание проекта.\n",
    "\n",
    "«Мегалайн» — федеральный оператор сотовой связи. Клиентам предлагают два тарифных плана: \n",
    "\n",
    "**Тариф «Смарт»**\n",
    "- Ежемесячная плата: 550 рублей\n",
    "- Включено 500 минут разговора, 50 сообщений и 15 Гб интернет-трафика\n",
    "- Стоимость услуг сверх тарифного пакета:\n",
    "    - минута разговора: 3 рубля\n",
    "    - сообщение: 3 рубля\n",
    "    - 1 Гб интернет-трафика: 200 рублей\n",
    "\n",
    "**Тариф «Ультра»**\n",
    "- Ежемесячная плата: 1950 рублей\n",
    "- Включено 3000 минут разговора, 1000 сообщений и 30 Гб интернет-трафика\n",
    "- Стоимость услуг сверх тарифного пакета:\n",
    "    - минута разговора: 1 рубль\n",
    "    - сообщение: 1 рубль\n",
    "    - 1 Гб интернет-трафика: 150 рублей\n",
    "\n",
    "Примечание\n",
    "«Мегалайн» всегда округляет секунды до минут, а мегабайты — до гигабайт. Каждый звонок округляется отдельно: даже если он длился всего 1 секунду, будет засчитан как 1 минута.\n",
    "Для веб-трафика отдельные сессии не считаются. Вместо этого общая сумма за месяц округляется в бо́льшую сторону. Если абонент использует 1025 мегабайт в этом месяце, с него возьмут плату за 2 гигабайта. Неиспользованные за предыдущий месяц звонки, смс, интернет на следующий месяц не переносятся.\n",
    "\n",
    "**Заказчик**: коммерческий департамент.\n",
    "**Цель исследования**: определить, какой тариф приносит больше денег, для корректировки рекламного бюджета.\n",
    "\n",
    "Для достижения поставленой цели решим следующие **задачи**:\n",
    "- Возьмем выборку из 500 пользователей \"Мегалайна\".\n",
    "- Проведем обзор и предобработку данных: приведем данные к нужным типам, исправим ошибки.\n",
    "- Изучим пользователей: кто они, откуда, каким тарифом пользуются, сколько звонков и сообщений каждый отправил за 2018 год.\n",
    "- Опишем поведение клиентов оператора.\n",
    "- Проверим гипотезы:\n",
    "    - средняя выручка пользователей тарифов «Ультра» и «Смарт» различаются;\n",
    "    - средняя выручка пользователей из Москвы отличается от выручки пользователей из других регионов.\n",
    "- Сформулируем выводы."
   ]
  },
  {
   "cell_type": "markdown",
   "id": "8257d87f",
   "metadata": {},
   "source": [
    "## Обзор данных."
   ]
  },
  {
   "cell_type": "markdown",
   "id": "908870d7",
   "metadata": {},
   "source": [
    "Импортируем все необходимые бибилиотеки."
   ]
  },
  {
   "cell_type": "code",
   "execution_count": 1,
   "id": "dc882838",
   "metadata": {},
   "outputs": [],
   "source": [
    "import pandas as pd \n",
    "import numpy as np \n",
    "import scipy.stats as st\n",
    "import os \n",
    "import matplotlib.pyplot as plt \n",
    " \n",
    "\n",
    "pd.options.display.float_format = '{:.2f}'.format"
   ]
  },
  {
   "cell_type": "markdown",
   "id": "c4e41600",
   "metadata": {},
   "source": [
    "Прочитаем файлы и сохраним их в переменной df_. Предусмотрим чтение файла из локального хранилища и из облака Яндекс. Выведем на экран 10 первых строк."
   ]
  },
  {
   "cell_type": "code",
   "execution_count": 2,
   "id": "fd2a4fa3",
   "metadata": {},
   "outputs": [],
   "source": [
    "def read_file(file, number):\n",
    "    '''Функция обзора данных. \n",
    "       file - имя файла в формате 'xxxx.csv'\n",
    "       number - целое число.\n",
    "       Считывает файл из облака Яндекс.Практикума или из домашнего каталога с ноутбуком.\n",
    "       Выводит на экран number-строк датафрейма и общую информацию о количестве строк и типах данных.   \n",
    "    '''\n",
    "\n",
    "    if os.path.exists('----' + file): # проверка наличия файла в облаке\n",
    "        df = pd.read_csv('----' + file) # чтение файла с данными и сохранение\n",
    "    else:\n",
    "        try:\n",
    "            df = pd.read_csv(file)\n",
    "        except:\n",
    "            display('Проверьте наличие файла на локальном хранилище!')\n",
    "    \n",
    "    display(df.head(number))  \n",
    "    print()\n",
    "    display(df.info())\n",
    "    print()\n",
    "    \n",
    "    # подсчет уникальных значений по столбцу и вывод их на экран (если количество не превышает 100)\n",
    "    for col in df.columns:\n",
    "        print( col, df[col].nunique())\n",
    "        if df[col].nunique() < 100:\n",
    "            print(df[col].sort_values().unique())\n",
    "        print()\n",
    "    \n",
    "    print('Количество дубликатов', df.duplicated().sum())\n",
    "    \n",
    "    shape = df.shape\n",
    "    \n",
    "    return df, shape"
   ]
  },
  {
   "cell_type": "code",
   "execution_count": 3,
   "id": "089d4f7e",
   "metadata": {},
   "outputs": [
    {
     "data": {
      "text/html": [
       "<div>\n",
       "<style scoped>\n",
       "    .dataframe tbody tr th:only-of-type {\n",
       "        vertical-align: middle;\n",
       "    }\n",
       "\n",
       "    .dataframe tbody tr th {\n",
       "        vertical-align: top;\n",
       "    }\n",
       "\n",
       "    .dataframe thead th {\n",
       "        text-align: right;\n",
       "    }\n",
       "</style>\n",
       "<table border=\"1\" class=\"dataframe\">\n",
       "  <thead>\n",
       "    <tr style=\"text-align: right;\">\n",
       "      <th></th>\n",
       "      <th>messages_included</th>\n",
       "      <th>mb_per_month_included</th>\n",
       "      <th>minutes_included</th>\n",
       "      <th>rub_monthly_fee</th>\n",
       "      <th>rub_per_gb</th>\n",
       "      <th>rub_per_message</th>\n",
       "      <th>rub_per_minute</th>\n",
       "      <th>tariff_name</th>\n",
       "    </tr>\n",
       "  </thead>\n",
       "  <tbody>\n",
       "    <tr>\n",
       "      <th>0</th>\n",
       "      <td>50</td>\n",
       "      <td>15360</td>\n",
       "      <td>500</td>\n",
       "      <td>550</td>\n",
       "      <td>200</td>\n",
       "      <td>3</td>\n",
       "      <td>3</td>\n",
       "      <td>smart</td>\n",
       "    </tr>\n",
       "    <tr>\n",
       "      <th>1</th>\n",
       "      <td>1000</td>\n",
       "      <td>30720</td>\n",
       "      <td>3000</td>\n",
       "      <td>1950</td>\n",
       "      <td>150</td>\n",
       "      <td>1</td>\n",
       "      <td>1</td>\n",
       "      <td>ultra</td>\n",
       "    </tr>\n",
       "  </tbody>\n",
       "</table>\n",
       "</div>"
      ],
      "text/plain": [
       "   messages_included  mb_per_month_included  minutes_included  \\\n",
       "0                 50                  15360               500   \n",
       "1               1000                  30720              3000   \n",
       "\n",
       "   rub_monthly_fee  rub_per_gb  rub_per_message  rub_per_minute tariff_name  \n",
       "0              550         200                3               3       smart  \n",
       "1             1950         150                1               1       ultra  "
      ]
     },
     "metadata": {},
     "output_type": "display_data"
    },
    {
     "name": "stdout",
     "output_type": "stream",
     "text": [
      "\n",
      "<class 'pandas.core.frame.DataFrame'>\n",
      "RangeIndex: 2 entries, 0 to 1\n",
      "Data columns (total 8 columns):\n",
      " #   Column                 Non-Null Count  Dtype \n",
      "---  ------                 --------------  ----- \n",
      " 0   messages_included      2 non-null      int64 \n",
      " 1   mb_per_month_included  2 non-null      int64 \n",
      " 2   minutes_included       2 non-null      int64 \n",
      " 3   rub_monthly_fee        2 non-null      int64 \n",
      " 4   rub_per_gb             2 non-null      int64 \n",
      " 5   rub_per_message        2 non-null      int64 \n",
      " 6   rub_per_minute         2 non-null      int64 \n",
      " 7   tariff_name            2 non-null      object\n",
      "dtypes: int64(7), object(1)\n",
      "memory usage: 256.0+ bytes\n"
     ]
    },
    {
     "data": {
      "text/plain": [
       "None"
      ]
     },
     "metadata": {},
     "output_type": "display_data"
    },
    {
     "name": "stdout",
     "output_type": "stream",
     "text": [
      "\n",
      "messages_included 2\n",
      "[  50 1000]\n",
      "\n",
      "mb_per_month_included 2\n",
      "[15360 30720]\n",
      "\n",
      "minutes_included 2\n",
      "[ 500 3000]\n",
      "\n",
      "rub_monthly_fee 2\n",
      "[ 550 1950]\n",
      "\n",
      "rub_per_gb 2\n",
      "[150 200]\n",
      "\n",
      "rub_per_message 2\n",
      "[1 3]\n",
      "\n",
      "rub_per_minute 2\n",
      "[1 3]\n",
      "\n",
      "tariff_name 2\n",
      "['smart' 'ultra']\n",
      "\n",
      "Количество дубликатов 0\n"
     ]
    }
   ],
   "source": [
    "df_tariffs, shape_tariffs = read_file('----.csv', 5)"
   ]
  },
  {
   "cell_type": "markdown",
   "id": "bfe96795",
   "metadata": {},
   "source": [
    "Информация о тарифах:\n",
    "- `tariff_name` — название тарифа\n",
    "- `rub_monthly_fee` — ежемесячная абонентская плата в рублях\n",
    "- `minutes_included` — количество минут разговора в месяц, включённых в абонентскую плату\n",
    "- `messages_included` — количество сообщений в месяц, включённых в абонентскую плату\n",
    "- `mb_per_month_included` — объём интернет-трафика, включённого в абонентскую плату (в мегабайтах)\n",
    "- `rub_per_minute` — стоимость минуты разговора сверх тарифного пакета (например, если в тарифе 100 минут разговора в месяц, то со 101 минуты будет взиматься плата)\n",
    "- `rub_per_message` — стоимость отправки сообщения сверх тарифного пакета\n",
    "- `rub_per_gb` — стоимость дополнительного гигабайта интернет-трафика сверх тарифного пакета (1 гигабайт = 1024 мегабайта).\n",
    "\n",
    "\n",
    "Данные по тарифным планам не имеют пропусков, заведены корректно, колонки именованы в соответствии со стилем. Количество включенных гигабайт пересчитано в мегабайты.   "
   ]
  },
  {
   "cell_type": "code",
   "execution_count": 4,
   "id": "fb9a2f6d",
   "metadata": {},
   "outputs": [
    {
     "data": {
      "text/html": [
       "<div>\n",
       "<style scoped>\n",
       "    .dataframe tbody tr th:only-of-type {\n",
       "        vertical-align: middle;\n",
       "    }\n",
       "\n",
       "    .dataframe tbody tr th {\n",
       "        vertical-align: top;\n",
       "    }\n",
       "\n",
       "    .dataframe thead th {\n",
       "        text-align: right;\n",
       "    }\n",
       "</style>\n",
       "<table border=\"1\" class=\"dataframe\">\n",
       "  <thead>\n",
       "    <tr style=\"text-align: right;\">\n",
       "      <th></th>\n",
       "      <th>user_id</th>\n",
       "      <th>age</th>\n",
       "      <th>churn_date</th>\n",
       "      <th>city</th>\n",
       "      <th>first_name</th>\n",
       "      <th>last_name</th>\n",
       "      <th>reg_date</th>\n",
       "      <th>tariff</th>\n",
       "    </tr>\n",
       "  </thead>\n",
       "  <tbody>\n",
       "    <tr>\n",
       "      <th>0</th>\n",
       "      <td>1000</td>\n",
       "      <td>52</td>\n",
       "      <td>NaN</td>\n",
       "      <td>Краснодар</td>\n",
       "      <td>Рафаил</td>\n",
       "      <td>Верещагин</td>\n",
       "      <td>2018-05-25</td>\n",
       "      <td>ultra</td>\n",
       "    </tr>\n",
       "    <tr>\n",
       "      <th>1</th>\n",
       "      <td>1001</td>\n",
       "      <td>41</td>\n",
       "      <td>NaN</td>\n",
       "      <td>Москва</td>\n",
       "      <td>Иван</td>\n",
       "      <td>Ежов</td>\n",
       "      <td>2018-11-01</td>\n",
       "      <td>smart</td>\n",
       "    </tr>\n",
       "    <tr>\n",
       "      <th>2</th>\n",
       "      <td>1002</td>\n",
       "      <td>59</td>\n",
       "      <td>NaN</td>\n",
       "      <td>Стерлитамак</td>\n",
       "      <td>Евгений</td>\n",
       "      <td>Абрамович</td>\n",
       "      <td>2018-06-17</td>\n",
       "      <td>smart</td>\n",
       "    </tr>\n",
       "    <tr>\n",
       "      <th>3</th>\n",
       "      <td>1003</td>\n",
       "      <td>23</td>\n",
       "      <td>NaN</td>\n",
       "      <td>Москва</td>\n",
       "      <td>Белла</td>\n",
       "      <td>Белякова</td>\n",
       "      <td>2018-08-17</td>\n",
       "      <td>ultra</td>\n",
       "    </tr>\n",
       "    <tr>\n",
       "      <th>4</th>\n",
       "      <td>1004</td>\n",
       "      <td>68</td>\n",
       "      <td>NaN</td>\n",
       "      <td>Новокузнецк</td>\n",
       "      <td>Татьяна</td>\n",
       "      <td>Авдеенко</td>\n",
       "      <td>2018-05-14</td>\n",
       "      <td>ultra</td>\n",
       "    </tr>\n",
       "  </tbody>\n",
       "</table>\n",
       "</div>"
      ],
      "text/plain": [
       "   user_id  age churn_date         city first_name  last_name    reg_date  \\\n",
       "0     1000   52        NaN    Краснодар     Рафаил  Верещагин  2018-05-25   \n",
       "1     1001   41        NaN       Москва       Иван       Ежов  2018-11-01   \n",
       "2     1002   59        NaN  Стерлитамак    Евгений  Абрамович  2018-06-17   \n",
       "3     1003   23        NaN       Москва      Белла   Белякова  2018-08-17   \n",
       "4     1004   68        NaN  Новокузнецк    Татьяна   Авдеенко  2018-05-14   \n",
       "\n",
       "  tariff  \n",
       "0  ultra  \n",
       "1  smart  \n",
       "2  smart  \n",
       "3  ultra  \n",
       "4  ultra  "
      ]
     },
     "metadata": {},
     "output_type": "display_data"
    },
    {
     "name": "stdout",
     "output_type": "stream",
     "text": [
      "\n",
      "<class 'pandas.core.frame.DataFrame'>\n",
      "RangeIndex: 500 entries, 0 to 499\n",
      "Data columns (total 8 columns):\n",
      " #   Column      Non-Null Count  Dtype \n",
      "---  ------      --------------  ----- \n",
      " 0   user_id     500 non-null    int64 \n",
      " 1   age         500 non-null    int64 \n",
      " 2   churn_date  38 non-null     object\n",
      " 3   city        500 non-null    object\n",
      " 4   first_name  500 non-null    object\n",
      " 5   last_name   500 non-null    object\n",
      " 6   reg_date    500 non-null    object\n",
      " 7   tariff      500 non-null    object\n",
      "dtypes: int64(2), object(6)\n",
      "memory usage: 31.4+ KB\n"
     ]
    },
    {
     "data": {
      "text/plain": [
       "None"
      ]
     },
     "metadata": {},
     "output_type": "display_data"
    },
    {
     "name": "stdout",
     "output_type": "stream",
     "text": [
      "\n",
      "user_id 500\n",
      "\n",
      "age 58\n",
      "[18 19 20 21 22 23 24 25 26 27 28 29 30 31 32 33 34 35 36 37 38 39 40 41\n",
      " 42 43 44 45 46 47 48 49 50 51 52 53 54 55 56 57 58 59 60 61 62 63 64 65\n",
      " 66 67 68 69 70 71 72 73 74 75]\n",
      "\n",
      "churn_date 33\n",
      "['2018-08-17' '2018-08-31' '2018-09-02' '2018-09-26' '2018-09-27'\n",
      " '2018-10-03' '2018-10-04' '2018-10-05' '2018-10-14' '2018-10-25'\n",
      " '2018-10-27' '2018-10-28' '2018-11-07' '2018-11-13' '2018-11-16'\n",
      " '2018-11-21' '2018-11-22' '2018-11-26' '2018-11-27' '2018-11-30'\n",
      " '2018-12-03' '2018-12-09' '2018-12-11' '2018-12-14' '2018-12-16'\n",
      " '2018-12-18' '2018-12-20' '2018-12-21' '2018-12-23' '2018-12-24'\n",
      " '2018-12-25' '2018-12-26' '2018-12-30' nan]\n",
      "\n",
      "city 76\n",
      "['Архангельск' 'Астрахань' 'Балашиха' 'Барнаул' 'Белгород' 'Брянск'\n",
      " 'Владивосток' 'Владикавказ' 'Владимир' 'Волгоград' 'Волжский' 'Вологда'\n",
      " 'Воронеж' 'Грозный' 'Екатеринбург' 'Иваново' 'Ижевск' 'Иркутск' 'Казань'\n",
      " 'Калининград' 'Калуга' 'Кемерово' 'Киров' 'Кострома' 'Краснодар'\n",
      " 'Красноярск' 'Курган' 'Курск' 'Липецк' 'Магнитогорск' 'Махачкала'\n",
      " 'Москва' 'Мурманск' 'Набережные Челны' 'Нижневартовск' 'Нижний Новгород'\n",
      " 'Нижний Тагил' 'Новокузнецк' 'Новороссийск' 'Новосибирск' 'Омск'\n",
      " 'Оренбург' 'Орёл' 'Пенза' 'Пермь' 'Петрозаводск' 'Подольск'\n",
      " 'Ростов-на-Дону' 'Рязань' 'Самара' 'Санкт-Петербург' 'Саранск' 'Саратов'\n",
      " 'Севастополь' 'Смоленск' 'Сочи' 'Ставрополь' 'Стерлитамак' 'Сургут'\n",
      " 'Тамбов' 'Тверь' 'Тольятти' 'Томск' 'Тула' 'Тюмень' 'Улан-Удэ'\n",
      " 'Ульяновск' 'Уфа' 'Хабаровск' 'Химки' 'Чебоксары' 'Челябинск' 'Череповец'\n",
      " 'Чита' 'Якутск' 'Ярославль']\n",
      "\n",
      "first_name 246\n",
      "\n",
      "last_name 419\n",
      "\n",
      "reg_date 270\n",
      "\n",
      "tariff 2\n",
      "['smart' 'ultra']\n",
      "\n",
      "Количество дубликатов 0\n"
     ]
    }
   ],
   "source": [
    "df_users, shape_users = read_file('----.csv', 5)"
   ]
  },
  {
   "cell_type": "code",
   "execution_count": 5,
   "id": "bb52e15f",
   "metadata": {},
   "outputs": [
    {
     "data": {
      "text/plain": [
       "0"
      ]
     },
     "execution_count": 5,
     "metadata": {},
     "output_type": "execute_result"
    }
   ],
   "source": [
    "# проверка на дубликаты без идентификатора и даты прекращения действия тарифа\n",
    "df_users.loc[:, ~df_users.columns.isin(['user_id', 'churn_date'])].duplicated().sum()"
   ]
  },
  {
   "cell_type": "markdown",
   "id": "f84e0962",
   "metadata": {},
   "source": [
    "Имеем данные по 500 пользователям. В соответствии с документацией:\n",
    "- `user_id` — уникальный идентификатор пользователя\n",
    "- `first_name` — имя пользователя\n",
    "- `last_name` — фамилия пользователя\n",
    "- `age` — возраст пользователя (годы)\n",
    "- `reg_date` — дата подключения тарифа (день, месяц, год)\n",
    "- `churn_date` — дата прекращения пользования тарифом (если значение пропущено, то тариф ещё действовал на момент выгрузки данных)\n",
    "- `city` — город проживания пользователя\n",
    "- `tariff` — название тарифного плана.\n",
    "\n",
    "На первый взгляд пропусков нет, у 38 клиентов тариф прекратил действовать до дня выгрузки данных. Даты регистрации и прекращения тарифа хранятся не в формате дат, необходимо преобразование.\n",
    "\n",
    "Возраст клиентов \"Мегалайна\" от 18 до 75 лет. Проживают в 76 городах России, из них Химки, Балашиха, Подольск находятся в непосредственной близости к Москве (города-спутники). "
   ]
  },
  {
   "cell_type": "code",
   "execution_count": 6,
   "id": "4c088640",
   "metadata": {},
   "outputs": [
    {
     "data": {
      "text/html": [
       "<div>\n",
       "<style scoped>\n",
       "    .dataframe tbody tr th:only-of-type {\n",
       "        vertical-align: middle;\n",
       "    }\n",
       "\n",
       "    .dataframe tbody tr th {\n",
       "        vertical-align: top;\n",
       "    }\n",
       "\n",
       "    .dataframe thead th {\n",
       "        text-align: right;\n",
       "    }\n",
       "</style>\n",
       "<table border=\"1\" class=\"dataframe\">\n",
       "  <thead>\n",
       "    <tr style=\"text-align: right;\">\n",
       "      <th></th>\n",
       "      <th>id</th>\n",
       "      <th>call_date</th>\n",
       "      <th>duration</th>\n",
       "      <th>user_id</th>\n",
       "    </tr>\n",
       "  </thead>\n",
       "  <tbody>\n",
       "    <tr>\n",
       "      <th>0</th>\n",
       "      <td>1000_0</td>\n",
       "      <td>2018-07-25</td>\n",
       "      <td>0.00</td>\n",
       "      <td>1000</td>\n",
       "    </tr>\n",
       "    <tr>\n",
       "      <th>1</th>\n",
       "      <td>1000_1</td>\n",
       "      <td>2018-08-17</td>\n",
       "      <td>0.00</td>\n",
       "      <td>1000</td>\n",
       "    </tr>\n",
       "    <tr>\n",
       "      <th>2</th>\n",
       "      <td>1000_2</td>\n",
       "      <td>2018-06-11</td>\n",
       "      <td>2.85</td>\n",
       "      <td>1000</td>\n",
       "    </tr>\n",
       "    <tr>\n",
       "      <th>3</th>\n",
       "      <td>1000_3</td>\n",
       "      <td>2018-09-21</td>\n",
       "      <td>13.80</td>\n",
       "      <td>1000</td>\n",
       "    </tr>\n",
       "    <tr>\n",
       "      <th>4</th>\n",
       "      <td>1000_4</td>\n",
       "      <td>2018-12-15</td>\n",
       "      <td>5.18</td>\n",
       "      <td>1000</td>\n",
       "    </tr>\n",
       "  </tbody>\n",
       "</table>\n",
       "</div>"
      ],
      "text/plain": [
       "       id   call_date  duration  user_id\n",
       "0  1000_0  2018-07-25      0.00     1000\n",
       "1  1000_1  2018-08-17      0.00     1000\n",
       "2  1000_2  2018-06-11      2.85     1000\n",
       "3  1000_3  2018-09-21     13.80     1000\n",
       "4  1000_4  2018-12-15      5.18     1000"
      ]
     },
     "metadata": {},
     "output_type": "display_data"
    },
    {
     "name": "stdout",
     "output_type": "stream",
     "text": [
      "\n",
      "<class 'pandas.core.frame.DataFrame'>\n",
      "RangeIndex: 202607 entries, 0 to 202606\n",
      "Data columns (total 4 columns):\n",
      " #   Column     Non-Null Count   Dtype  \n",
      "---  ------     --------------   -----  \n",
      " 0   id         202607 non-null  object \n",
      " 1   call_date  202607 non-null  object \n",
      " 2   duration   202607 non-null  float64\n",
      " 3   user_id    202607 non-null  int64  \n",
      "dtypes: float64(1), int64(1), object(2)\n",
      "memory usage: 6.2+ MB\n"
     ]
    },
    {
     "data": {
      "text/plain": [
       "None"
      ]
     },
     "metadata": {},
     "output_type": "display_data"
    },
    {
     "name": "stdout",
     "output_type": "stream",
     "text": [
      "\n",
      "id 202607\n",
      "\n",
      "call_date 365\n",
      "\n",
      "duration 2871\n",
      "\n",
      "user_id 492\n",
      "\n",
      "Количество дубликатов 0\n"
     ]
    }
   ],
   "source": [
    "df_calls, shape_calls = read_file('----.csv', 5)"
   ]
  },
  {
   "cell_type": "markdown",
   "id": "d8523ba9",
   "metadata": {},
   "source": [
    "Информация о звонках:\n",
    "- `id` — уникальный номер звонка\n",
    "- `call_date` — дата звонка\n",
    "- `duration` — длительность звонка в минутах\n",
    "- `user_id` — идентификатор пользователя, сделавшего звонок.\n",
    "\n",
    "Информация о звонках представлена за каждый день 2018 года. Дубликатов нет. При этом информация о звонках есть для 492 клтентов из 500, 8 клиентов или не звонят, или данные утеряны. Даты хранятся не в формате дат."
   ]
  },
  {
   "cell_type": "code",
   "execution_count": 7,
   "id": "48740ce3",
   "metadata": {},
   "outputs": [
    {
     "data": {
      "text/html": [
       "<div>\n",
       "<style scoped>\n",
       "    .dataframe tbody tr th:only-of-type {\n",
       "        vertical-align: middle;\n",
       "    }\n",
       "\n",
       "    .dataframe tbody tr th {\n",
       "        vertical-align: top;\n",
       "    }\n",
       "\n",
       "    .dataframe thead th {\n",
       "        text-align: right;\n",
       "    }\n",
       "</style>\n",
       "<table border=\"1\" class=\"dataframe\">\n",
       "  <thead>\n",
       "    <tr style=\"text-align: right;\">\n",
       "      <th></th>\n",
       "      <th>id</th>\n",
       "      <th>message_date</th>\n",
       "      <th>user_id</th>\n",
       "    </tr>\n",
       "  </thead>\n",
       "  <tbody>\n",
       "    <tr>\n",
       "      <th>0</th>\n",
       "      <td>1000_0</td>\n",
       "      <td>2018-06-27</td>\n",
       "      <td>1000</td>\n",
       "    </tr>\n",
       "    <tr>\n",
       "      <th>1</th>\n",
       "      <td>1000_1</td>\n",
       "      <td>2018-10-08</td>\n",
       "      <td>1000</td>\n",
       "    </tr>\n",
       "    <tr>\n",
       "      <th>2</th>\n",
       "      <td>1000_2</td>\n",
       "      <td>2018-08-04</td>\n",
       "      <td>1000</td>\n",
       "    </tr>\n",
       "    <tr>\n",
       "      <th>3</th>\n",
       "      <td>1000_3</td>\n",
       "      <td>2018-06-16</td>\n",
       "      <td>1000</td>\n",
       "    </tr>\n",
       "    <tr>\n",
       "      <th>4</th>\n",
       "      <td>1000_4</td>\n",
       "      <td>2018-12-05</td>\n",
       "      <td>1000</td>\n",
       "    </tr>\n",
       "  </tbody>\n",
       "</table>\n",
       "</div>"
      ],
      "text/plain": [
       "       id message_date  user_id\n",
       "0  1000_0   2018-06-27     1000\n",
       "1  1000_1   2018-10-08     1000\n",
       "2  1000_2   2018-08-04     1000\n",
       "3  1000_3   2018-06-16     1000\n",
       "4  1000_4   2018-12-05     1000"
      ]
     },
     "metadata": {},
     "output_type": "display_data"
    },
    {
     "name": "stdout",
     "output_type": "stream",
     "text": [
      "\n",
      "<class 'pandas.core.frame.DataFrame'>\n",
      "RangeIndex: 123036 entries, 0 to 123035\n",
      "Data columns (total 3 columns):\n",
      " #   Column        Non-Null Count   Dtype \n",
      "---  ------        --------------   ----- \n",
      " 0   id            123036 non-null  object\n",
      " 1   message_date  123036 non-null  object\n",
      " 2   user_id       123036 non-null  int64 \n",
      "dtypes: int64(1), object(2)\n",
      "memory usage: 2.8+ MB\n"
     ]
    },
    {
     "data": {
      "text/plain": [
       "None"
      ]
     },
     "metadata": {},
     "output_type": "display_data"
    },
    {
     "name": "stdout",
     "output_type": "stream",
     "text": [
      "\n",
      "id 123036\n",
      "\n",
      "message_date 364\n",
      "\n",
      "user_id 426\n",
      "\n",
      "Количество дубликатов 0\n"
     ]
    }
   ],
   "source": [
    "df_messages, shape_messages = read_file('----.csv', 5)"
   ]
  },
  {
   "cell_type": "markdown",
   "id": "d5bad3fb",
   "metadata": {},
   "source": [
    "Информация о сообщениях:\n",
    "- `id` — уникальный номер сообщения\n",
    "- `message_date` — дата сообщения\n",
    "- `user_id` — идентификатор пользователя, отправившего сообщение.\n",
    "\n",
    "Пропусков нет. Дубликатов нет. Дата хранится не в формате дат, необходимо преобразовать. Информация о смс 426 клиентов - не все клиенты пользуются смс либо часть данных утеряна. Данные представлены со 2 января по 21 декабря 2018 года."
   ]
  },
  {
   "cell_type": "code",
   "execution_count": 8,
   "id": "4532a05a",
   "metadata": {},
   "outputs": [
    {
     "data": {
      "text/html": [
       "<div>\n",
       "<style scoped>\n",
       "    .dataframe tbody tr th:only-of-type {\n",
       "        vertical-align: middle;\n",
       "    }\n",
       "\n",
       "    .dataframe tbody tr th {\n",
       "        vertical-align: top;\n",
       "    }\n",
       "\n",
       "    .dataframe thead th {\n",
       "        text-align: right;\n",
       "    }\n",
       "</style>\n",
       "<table border=\"1\" class=\"dataframe\">\n",
       "  <thead>\n",
       "    <tr style=\"text-align: right;\">\n",
       "      <th></th>\n",
       "      <th>Unnamed: 0</th>\n",
       "      <th>id</th>\n",
       "      <th>mb_used</th>\n",
       "      <th>session_date</th>\n",
       "      <th>user_id</th>\n",
       "    </tr>\n",
       "  </thead>\n",
       "  <tbody>\n",
       "    <tr>\n",
       "      <th>0</th>\n",
       "      <td>0</td>\n",
       "      <td>1000_0</td>\n",
       "      <td>112.95</td>\n",
       "      <td>2018-11-25</td>\n",
       "      <td>1000</td>\n",
       "    </tr>\n",
       "    <tr>\n",
       "      <th>1</th>\n",
       "      <td>1</td>\n",
       "      <td>1000_1</td>\n",
       "      <td>1052.81</td>\n",
       "      <td>2018-09-07</td>\n",
       "      <td>1000</td>\n",
       "    </tr>\n",
       "    <tr>\n",
       "      <th>2</th>\n",
       "      <td>2</td>\n",
       "      <td>1000_2</td>\n",
       "      <td>1197.26</td>\n",
       "      <td>2018-06-25</td>\n",
       "      <td>1000</td>\n",
       "    </tr>\n",
       "    <tr>\n",
       "      <th>3</th>\n",
       "      <td>3</td>\n",
       "      <td>1000_3</td>\n",
       "      <td>550.27</td>\n",
       "      <td>2018-08-22</td>\n",
       "      <td>1000</td>\n",
       "    </tr>\n",
       "    <tr>\n",
       "      <th>4</th>\n",
       "      <td>4</td>\n",
       "      <td>1000_4</td>\n",
       "      <td>302.56</td>\n",
       "      <td>2018-09-24</td>\n",
       "      <td>1000</td>\n",
       "    </tr>\n",
       "  </tbody>\n",
       "</table>\n",
       "</div>"
      ],
      "text/plain": [
       "   Unnamed: 0      id  mb_used session_date  user_id\n",
       "0           0  1000_0   112.95   2018-11-25     1000\n",
       "1           1  1000_1  1052.81   2018-09-07     1000\n",
       "2           2  1000_2  1197.26   2018-06-25     1000\n",
       "3           3  1000_3   550.27   2018-08-22     1000\n",
       "4           4  1000_4   302.56   2018-09-24     1000"
      ]
     },
     "metadata": {},
     "output_type": "display_data"
    },
    {
     "name": "stdout",
     "output_type": "stream",
     "text": [
      "\n",
      "<class 'pandas.core.frame.DataFrame'>\n",
      "RangeIndex: 149396 entries, 0 to 149395\n",
      "Data columns (total 5 columns):\n",
      " #   Column        Non-Null Count   Dtype  \n",
      "---  ------        --------------   -----  \n",
      " 0   Unnamed: 0    149396 non-null  int64  \n",
      " 1   id            149396 non-null  object \n",
      " 2   mb_used       149396 non-null  float64\n",
      " 3   session_date  149396 non-null  object \n",
      " 4   user_id       149396 non-null  int64  \n",
      "dtypes: float64(1), int64(2), object(2)\n",
      "memory usage: 5.7+ MB\n"
     ]
    },
    {
     "data": {
      "text/plain": [
       "None"
      ]
     },
     "metadata": {},
     "output_type": "display_data"
    },
    {
     "name": "stdout",
     "output_type": "stream",
     "text": [
      "\n",
      "Unnamed: 0 149396\n",
      "\n",
      "id 149396\n",
      "\n",
      "mb_used 70003\n",
      "\n",
      "session_date 365\n",
      "\n",
      "user_id 497\n",
      "\n",
      "Количество дубликатов 0\n"
     ]
    }
   ],
   "source": [
    "df_internet, shape_internet = read_file('-----.csv', 5)"
   ]
  },
  {
   "cell_type": "markdown",
   "id": "ff7c87b4",
   "metadata": {},
   "source": [
    "Выводы:\n",
    "1. Имеются данные по 500 клиентам (их имя, возраст, регион, тарифный план и срок его действия). \n",
    "2. В отдельных файлах имеются данные по объему звонков, сообщений и интеренет-трафика. Вероятно существуют клиенты, которые пользуются только частью услуг (например, не отправляют сообщения).\n",
    "3. Даты во всех файлах необходимо преобразовать в формат datetime."
   ]
  },
  {
   "cell_type": "markdown",
   "id": "0c18b42e",
   "metadata": {},
   "source": [
    "Информация об интернет-сессиях:\n",
    "- `id` — уникальный номер сессии\n",
    "- `mb_used` — объём потраченного за сессию интернет-трафика (в мегабайтах)\n",
    "- `session_date` — дата интернет-сессии\n",
    "- `user_id` — идентификатор пользователя.\n",
    "\n",
    "Данные не имеют пропусков и дубликатов. Даты хранятся не в формате дат, необходимо преобразование. Данные об интернет-сессиях представлены по 497 клиентам. Колонка Unnamed не несет смысловой нагрузки (индексы), ее можно удалить."
   ]
  },
  {
   "cell_type": "markdown",
   "id": "44ee4fd0",
   "metadata": {},
   "source": [
    "## Предобработка данных."
   ]
  },
  {
   "cell_type": "code",
   "execution_count": 9,
   "id": "cb18db6f",
   "metadata": {},
   "outputs": [],
   "source": [
    "# преобразование дат в формат datetime\n",
    "df_users['churn_date'] = pd.to_datetime(df_users['churn_date'])\n",
    "df_users['reg_date'] = pd.to_datetime(df_users['reg_date'])\n",
    "df_calls['call_date'] = pd.to_datetime(df_calls['call_date'])\n",
    "df_messages['message_date'] = pd.to_datetime(df_messages['message_date'])\n",
    "df_internet['session_date'] = pd.to_datetime(df_internet['session_date'])"
   ]
  },
  {
   "cell_type": "code",
   "execution_count": 10,
   "id": "f6e4a4e0",
   "metadata": {},
   "outputs": [],
   "source": [
    "# удаление неинформативной колонки\n",
    "df_internet = df_internet.drop(columns='Unnamed: 0')"
   ]
  },
  {
   "cell_type": "code",
   "execution_count": 11,
   "id": "2b116e29",
   "metadata": {},
   "outputs": [
    {
     "name": "stdout",
     "output_type": "stream",
     "text": [
      "<class 'pandas.core.frame.DataFrame'>\n",
      "RangeIndex: 500 entries, 0 to 499\n",
      "Data columns (total 8 columns):\n",
      " #   Column      Non-Null Count  Dtype         \n",
      "---  ------      --------------  -----         \n",
      " 0   user_id     500 non-null    int64         \n",
      " 1   age         500 non-null    int64         \n",
      " 2   churn_date  38 non-null     datetime64[ns]\n",
      " 3   city        500 non-null    object        \n",
      " 4   first_name  500 non-null    object        \n",
      " 5   last_name   500 non-null    object        \n",
      " 6   reg_date    500 non-null    datetime64[ns]\n",
      " 7   tariff      500 non-null    object        \n",
      "dtypes: datetime64[ns](2), int64(2), object(4)\n",
      "memory usage: 31.4+ KB\n"
     ]
    }
   ],
   "source": [
    "df_users.info()"
   ]
  },
  {
   "cell_type": "code",
   "execution_count": 12,
   "id": "3cc549a9",
   "metadata": {},
   "outputs": [
    {
     "name": "stdout",
     "output_type": "stream",
     "text": [
      "<class 'pandas.core.frame.DataFrame'>\n",
      "RangeIndex: 202607 entries, 0 to 202606\n",
      "Data columns (total 4 columns):\n",
      " #   Column     Non-Null Count   Dtype         \n",
      "---  ------     --------------   -----         \n",
      " 0   id         202607 non-null  object        \n",
      " 1   call_date  202607 non-null  datetime64[ns]\n",
      " 2   duration   202607 non-null  float64       \n",
      " 3   user_id    202607 non-null  int64         \n",
      "dtypes: datetime64[ns](1), float64(1), int64(1), object(1)\n",
      "memory usage: 6.2+ MB\n"
     ]
    }
   ],
   "source": [
    "df_calls.info()"
   ]
  },
  {
   "cell_type": "code",
   "execution_count": 13,
   "id": "cceae781",
   "metadata": {},
   "outputs": [
    {
     "name": "stdout",
     "output_type": "stream",
     "text": [
      "<class 'pandas.core.frame.DataFrame'>\n",
      "RangeIndex: 123036 entries, 0 to 123035\n",
      "Data columns (total 3 columns):\n",
      " #   Column        Non-Null Count   Dtype         \n",
      "---  ------        --------------   -----         \n",
      " 0   id            123036 non-null  object        \n",
      " 1   message_date  123036 non-null  datetime64[ns]\n",
      " 2   user_id       123036 non-null  int64         \n",
      "dtypes: datetime64[ns](1), int64(1), object(1)\n",
      "memory usage: 2.8+ MB\n"
     ]
    }
   ],
   "source": [
    "df_messages.info()"
   ]
  },
  {
   "cell_type": "code",
   "execution_count": 14,
   "id": "f612f527",
   "metadata": {},
   "outputs": [
    {
     "name": "stdout",
     "output_type": "stream",
     "text": [
      "<class 'pandas.core.frame.DataFrame'>\n",
      "RangeIndex: 149396 entries, 0 to 149395\n",
      "Data columns (total 4 columns):\n",
      " #   Column        Non-Null Count   Dtype         \n",
      "---  ------        --------------   -----         \n",
      " 0   id            149396 non-null  object        \n",
      " 1   mb_used       149396 non-null  float64       \n",
      " 2   session_date  149396 non-null  datetime64[ns]\n",
      " 3   user_id       149396 non-null  int64         \n",
      "dtypes: datetime64[ns](1), float64(1), int64(1), object(1)\n",
      "memory usage: 4.6+ MB\n"
     ]
    }
   ],
   "source": [
    "df_internet.info()"
   ]
  },
  {
   "cell_type": "code",
   "execution_count": 15,
   "id": "7d3fd329",
   "metadata": {},
   "outputs": [
    {
     "data": {
      "text/plain": [
       "<AxesSubplot:>"
      ]
     },
     "execution_count": 15,
     "metadata": {},
     "output_type": "execute_result"
    },
    {
     "data": {
      "image/png": "[encoded data removed]",
      "text/plain": [
       "<Figure size 432x288 with 1 Axes>"
      ]
     },
     "metadata": {
      "needs_background": "light"
     },
     "output_type": "display_data"
    }
   ],
   "source": [
    "df_calls['duration'].hist(bins=50)"
   ]
  },
  {
   "cell_type": "code",
   "execution_count": 16,
   "id": "0d5bb3ea",
   "metadata": {},
   "outputs": [
    {
     "data": {
      "text/plain": [
       "count   202607.00\n",
       "mean         6.76\n",
       "std          5.84\n",
       "min          0.00\n",
       "25%          1.30\n",
       "50%          6.00\n",
       "75%         10.70\n",
       "max         38.00\n",
       "Name: duration, dtype: float64"
      ]
     },
     "execution_count": 16,
     "metadata": {},
     "output_type": "execute_result"
    }
   ],
   "source": [
    "df_calls['duration'].describe()"
   ]
  },
  {
   "cell_type": "markdown",
   "id": "4f462324",
   "metadata": {},
   "source": [
    "Длительность звонков клиентов варьируется от 0 до 38 минут. Всреднем звонок длится 6-7 минут, 50% звонков длятся не более 10 минут и не менее 1 минуты. На гистаграмме выделяются звонки длителностью 0 минут - это пропущенные звонки, и звонки длительность более 20 минут - они очень редки. "
   ]
  },
  {
   "cell_type": "code",
   "execution_count": 17,
   "id": "bfe74635",
   "metadata": {},
   "outputs": [
    {
     "data": {
      "text/plain": [
       "<AxesSubplot:>"
      ]
     },
     "execution_count": 17,
     "metadata": {},
     "output_type": "execute_result"
    },
    {
     "data": {
      "image/png": "[encoded data removed]",
      "text/plain": [
       "<Figure size 432x288 with 1 Axes>"
      ]
     },
     "metadata": {
      "needs_background": "light"
     },
     "output_type": "display_data"
    }
   ],
   "source": [
    "df_internet['mb_used'].hist(bins=50)"
   ]
  },
  {
   "cell_type": "code",
   "execution_count": 18,
   "id": "bed70ded",
   "metadata": {},
   "outputs": [
    {
     "data": {
      "text/plain": [
       "count   149396.00\n",
       "mean       370.19\n",
       "std        278.30\n",
       "min          0.00\n",
       "25%        138.19\n",
       "50%        348.01\n",
       "75%        559.55\n",
       "max       1724.83\n",
       "Name: mb_used, dtype: float64"
      ]
     },
     "execution_count": 18,
     "metadata": {},
     "output_type": "execute_result"
    }
   ],
   "source": [
    "df_internet['mb_used'].describe()"
   ]
  },
  {
   "cell_type": "code",
   "execution_count": 19,
   "id": "1963645e",
   "metadata": {},
   "outputs": [
    {
     "data": {
      "text/plain": [
       "0.13118155773916304"
      ]
     },
     "execution_count": 19,
     "metadata": {},
     "output_type": "execute_result"
    }
   ],
   "source": [
    "len(df_internet[df_internet['mb_used'] == 0])/shape_internet[0]"
   ]
  },
  {
   "cell_type": "markdown",
   "id": "593d8362",
   "metadata": {},
   "source": [
    "Всреднем в интернет-сессию клиент тратит 370 Мб. В данных присутствуюи сессии с нулевым расходом. Стоит обратиться к поставщику данных, в каких случаях фиксируется факт сессии без расхода трафика, или с какого объема начинается тарификация. Возможно, ошибочное открытие программы (открыл и сразу же закрыл) мы фиксируем как начало сессии, но потраченные килобайты не запоминаем, только Мб. Или это сбой тарификации. Или это бесплатные сессии (например, бесплатный доступ к соцсетям).\n",
    "\n",
    "Если удалить нулевые значения, то мы потеряем 13% данных. При этом средняя продолжительность интернет-сессии возрастет. Оставим информацию как есть (считаем нулевые сессии бесплатными или слишком короткими для тарификации)."
   ]
  },
  {
   "cell_type": "markdown",
   "id": "329a494f",
   "metadata": {},
   "source": [
    "Посмотрим на уникальность идентификаторов."
   ]
  },
  {
   "cell_type": "code",
   "execution_count": 20,
   "id": "398a5b79",
   "metadata": {},
   "outputs": [
    {
     "data": {
      "text/plain": [
       "set()"
      ]
     },
     "execution_count": 20,
     "metadata": {},
     "output_type": "execute_result"
    }
   ],
   "source": [
    "set(df_calls['user_id']).difference(df_users['user_id'])"
   ]
  },
  {
   "cell_type": "code",
   "execution_count": 21,
   "id": "2c58974a",
   "metadata": {},
   "outputs": [
    {
     "data": {
      "text/plain": [
       "set()"
      ]
     },
     "execution_count": 21,
     "metadata": {},
     "output_type": "execute_result"
    }
   ],
   "source": [
    "set(df_messages['user_id']).difference(df_users['user_id'])"
   ]
  },
  {
   "cell_type": "code",
   "execution_count": 22,
   "id": "6bce092f",
   "metadata": {},
   "outputs": [
    {
     "data": {
      "text/plain": [
       "set()"
      ]
     },
     "execution_count": 22,
     "metadata": {},
     "output_type": "execute_result"
    }
   ],
   "source": [
    "set(df_internet['user_id']).difference(df_users['user_id'])"
   ]
  },
  {
   "cell_type": "markdown",
   "id": "1e971232",
   "metadata": {},
   "source": [
    "Все пользователи, представленые в таблицах по звонкам, сообщениям и интернет-трафику, имеются в таблице с портретами клиента. Данные можно объединять."
   ]
  },
  {
   "cell_type": "markdown",
   "id": "6cc7e924",
   "metadata": {},
   "source": [
    "### Расчет объемов звонков, сообщений и трафика.\n",
    "Посчитаем для каждого клиента:\n",
    "- количество сделанных звонков и израсходованных минут разговора по месяцам;\n",
    "- количество отправленных сообщений по месяцам;\n",
    "- объем израсходованного интернет-трафика по месяцам."
   ]
  },
  {
   "cell_type": "code",
   "execution_count": 23,
   "id": "88f51aab",
   "metadata": {},
   "outputs": [],
   "source": [
    "# извлечение месяца из даты\n",
    "df_calls['call_month'] = df_calls['call_date'].dt.month\n",
    "df_messages['message_month'] = df_messages['message_date'].dt.month\n",
    "df_internet['session_month'] = df_internet['session_date'].dt.month"
   ]
  },
  {
   "cell_type": "code",
   "execution_count": 24,
   "id": "2233a085",
   "metadata": {},
   "outputs": [],
   "source": [
    "# округление продолжительности звонка в большую сторону (в соответствии с правилами тарификации)\n",
    "df_calls['duration'] = np.ceil(df_calls['duration']).astype(int)"
   ]
  },
  {
   "cell_type": "code",
   "execution_count": 25,
   "id": "4794606e",
   "metadata": {},
   "outputs": [
    {
     "data": {
      "text/html": [
       "<div>\n",
       "<style scoped>\n",
       "    .dataframe tbody tr th:only-of-type {\n",
       "        vertical-align: middle;\n",
       "    }\n",
       "\n",
       "    .dataframe tbody tr th {\n",
       "        vertical-align: top;\n",
       "    }\n",
       "\n",
       "    .dataframe thead th {\n",
       "        text-align: right;\n",
       "    }\n",
       "</style>\n",
       "<table border=\"1\" class=\"dataframe\">\n",
       "  <thead>\n",
       "    <tr style=\"text-align: right;\">\n",
       "      <th></th>\n",
       "      <th>user_id</th>\n",
       "      <th>month</th>\n",
       "      <th>cnt_duration</th>\n",
       "      <th>sum_duration</th>\n",
       "    </tr>\n",
       "  </thead>\n",
       "  <tbody>\n",
       "    <tr>\n",
       "      <th>644</th>\n",
       "      <td>1102</td>\n",
       "      <td>10</td>\n",
       "      <td>70</td>\n",
       "      <td>540</td>\n",
       "    </tr>\n",
       "    <tr>\n",
       "      <th>498</th>\n",
       "      <td>1079</td>\n",
       "      <td>9</td>\n",
       "      <td>86</td>\n",
       "      <td>603</td>\n",
       "    </tr>\n",
       "    <tr>\n",
       "      <th>2884</th>\n",
       "      <td>1454</td>\n",
       "      <td>12</td>\n",
       "      <td>67</td>\n",
       "      <td>514</td>\n",
       "    </tr>\n",
       "    <tr>\n",
       "      <th>826</th>\n",
       "      <td>1133</td>\n",
       "      <td>11</td>\n",
       "      <td>88</td>\n",
       "      <td>690</td>\n",
       "    </tr>\n",
       "    <tr>\n",
       "      <th>2222</th>\n",
       "      <td>1356</td>\n",
       "      <td>12</td>\n",
       "      <td>130</td>\n",
       "      <td>897</td>\n",
       "    </tr>\n",
       "    <tr>\n",
       "      <th>333</th>\n",
       "      <td>1054</td>\n",
       "      <td>5</td>\n",
       "      <td>108</td>\n",
       "      <td>737</td>\n",
       "    </tr>\n",
       "  </tbody>\n",
       "</table>\n",
       "</div>"
      ],
      "text/plain": [
       "      user_id  month  cnt_duration  sum_duration\n",
       "644      1102     10            70           540\n",
       "498      1079      9            86           603\n",
       "2884     1454     12            67           514\n",
       "826      1133     11            88           690\n",
       "2222     1356     12           130           897\n",
       "333      1054      5           108           737"
      ]
     },
     "execution_count": 25,
     "metadata": {},
     "output_type": "execute_result"
    }
   ],
   "source": [
    "# подсчет количества звонков и их общей продолжительности по месяцам\n",
    "calls = df_calls.pivot_table(index=['user_id', 'call_month'], \n",
    "                     values='duration', \n",
    "                     aggfunc=['count','sum'])\\\n",
    "    .reset_index()\\\n",
    "# уберем мульти-индекс\n",
    "calls.columns = ['user_id','month','cnt_duration', 'sum_duration']\n",
    "calls.sample(6)"
   ]
  },
  {
   "cell_type": "code",
   "execution_count": 26,
   "id": "2721f4b4",
   "metadata": {},
   "outputs": [
    {
     "data": {
      "text/html": [
       "<div>\n",
       "<style scoped>\n",
       "    .dataframe tbody tr th:only-of-type {\n",
       "        vertical-align: middle;\n",
       "    }\n",
       "\n",
       "    .dataframe tbody tr th {\n",
       "        vertical-align: top;\n",
       "    }\n",
       "\n",
       "    .dataframe thead th {\n",
       "        text-align: right;\n",
       "    }\n",
       "</style>\n",
       "<table border=\"1\" class=\"dataframe\">\n",
       "  <thead>\n",
       "    <tr style=\"text-align: right;\">\n",
       "      <th></th>\n",
       "      <th>user_id</th>\n",
       "      <th>month</th>\n",
       "      <th>cnt_msg</th>\n",
       "    </tr>\n",
       "  </thead>\n",
       "  <tbody>\n",
       "    <tr>\n",
       "      <th>287</th>\n",
       "      <td>1055</td>\n",
       "      <td>2</td>\n",
       "      <td>25</td>\n",
       "    </tr>\n",
       "    <tr>\n",
       "      <th>2134</th>\n",
       "      <td>1400</td>\n",
       "      <td>9</td>\n",
       "      <td>51</td>\n",
       "    </tr>\n",
       "    <tr>\n",
       "      <th>25</th>\n",
       "      <td>1004</td>\n",
       "      <td>10</td>\n",
       "      <td>165</td>\n",
       "    </tr>\n",
       "    <tr>\n",
       "      <th>1161</th>\n",
       "      <td>1221</td>\n",
       "      <td>11</td>\n",
       "      <td>26</td>\n",
       "    </tr>\n",
       "    <tr>\n",
       "      <th>543</th>\n",
       "      <td>1098</td>\n",
       "      <td>12</td>\n",
       "      <td>14</td>\n",
       "    </tr>\n",
       "    <tr>\n",
       "      <th>1545</th>\n",
       "      <td>1299</td>\n",
       "      <td>9</td>\n",
       "      <td>45</td>\n",
       "    </tr>\n",
       "  </tbody>\n",
       "</table>\n",
       "</div>"
      ],
      "text/plain": [
       "      user_id  month  cnt_msg\n",
       "287      1055      2       25\n",
       "2134     1400      9       51\n",
       "25       1004     10      165\n",
       "1161     1221     11       26\n",
       "543      1098     12       14\n",
       "1545     1299      9       45"
      ]
     },
     "execution_count": 26,
     "metadata": {},
     "output_type": "execute_result"
    }
   ],
   "source": [
    "# подсчет количества смс по месяцам\n",
    "messages = df_messages.pivot_table(index=['user_id', 'message_month'], \n",
    "                     values='id', \n",
    "                     aggfunc=['count'])\\\n",
    "    .reset_index()\\\n",
    "# уберем мульти-индекс\n",
    "messages.columns = ['user_id','month','cnt_msg']\n",
    "messages.sample(6)"
   ]
  },
  {
   "cell_type": "code",
   "execution_count": 27,
   "id": "f6242eae",
   "metadata": {},
   "outputs": [
    {
     "data": {
      "text/html": [
       "<div>\n",
       "<style scoped>\n",
       "    .dataframe tbody tr th:only-of-type {\n",
       "        vertical-align: middle;\n",
       "    }\n",
       "\n",
       "    .dataframe tbody tr th {\n",
       "        vertical-align: top;\n",
       "    }\n",
       "\n",
       "    .dataframe thead th {\n",
       "        text-align: right;\n",
       "    }\n",
       "</style>\n",
       "<table border=\"1\" class=\"dataframe\">\n",
       "  <thead>\n",
       "    <tr style=\"text-align: right;\">\n",
       "      <th></th>\n",
       "      <th>user_id</th>\n",
       "      <th>month</th>\n",
       "      <th>cnt_session</th>\n",
       "      <th>sum_mb</th>\n",
       "      <th>sum_gb</th>\n",
       "    </tr>\n",
       "  </thead>\n",
       "  <tbody>\n",
       "    <tr>\n",
       "      <th>1777</th>\n",
       "      <td>1282</td>\n",
       "      <td>6</td>\n",
       "      <td>39</td>\n",
       "      <td>8309.89</td>\n",
       "      <td>9.00</td>\n",
       "    </tr>\n",
       "    <tr>\n",
       "      <th>2546</th>\n",
       "      <td>1398</td>\n",
       "      <td>12</td>\n",
       "      <td>50</td>\n",
       "      <td>18666.41</td>\n",
       "      <td>19.00</td>\n",
       "    </tr>\n",
       "    <tr>\n",
       "      <th>378</th>\n",
       "      <td>1059</td>\n",
       "      <td>9</td>\n",
       "      <td>53</td>\n",
       "      <td>16964.29</td>\n",
       "      <td>17.00</td>\n",
       "    </tr>\n",
       "    <tr>\n",
       "      <th>2554</th>\n",
       "      <td>1401</td>\n",
       "      <td>1</td>\n",
       "      <td>13</td>\n",
       "      <td>5144.72</td>\n",
       "      <td>6.00</td>\n",
       "    </tr>\n",
       "    <tr>\n",
       "      <th>73</th>\n",
       "      <td>1010</td>\n",
       "      <td>8</td>\n",
       "      <td>45</td>\n",
       "      <td>14463.75</td>\n",
       "      <td>15.00</td>\n",
       "    </tr>\n",
       "    <tr>\n",
       "      <th>2816</th>\n",
       "      <td>1437</td>\n",
       "      <td>10</td>\n",
       "      <td>56</td>\n",
       "      <td>18472.78</td>\n",
       "      <td>19.00</td>\n",
       "    </tr>\n",
       "  </tbody>\n",
       "</table>\n",
       "</div>"
      ],
      "text/plain": [
       "      user_id  month  cnt_session   sum_mb  sum_gb\n",
       "1777     1282      6           39  8309.89    9.00\n",
       "2546     1398     12           50 18666.41   19.00\n",
       "378      1059      9           53 16964.29   17.00\n",
       "2554     1401      1           13  5144.72    6.00\n",
       "73       1010      8           45 14463.75   15.00\n",
       "2816     1437     10           56 18472.78   19.00"
      ]
     },
     "execution_count": 27,
     "metadata": {},
     "output_type": "execute_result"
    }
   ],
   "source": [
    "# подсчет объема интернет-трафика по месяцам\n",
    "internet = df_internet.pivot_table(index=['user_id', 'session_month'], \n",
    "                     values='mb_used', \n",
    "                     aggfunc=['count', 'sum'])\\\n",
    "    .reset_index()\n",
    "\n",
    "# уберем мульти-индекс\n",
    "internet.columns = ['user_id','month','cnt_session', 'sum_mb']\n",
    "\n",
    "# округлим объем трафика до целых ГБ (по правилам тарификации)\n",
    "internet['sum_gb'] = np.ceil(internet['sum_mb'] / 1024)\n",
    "\n",
    "internet.sample(6)"
   ]
  },
  {
   "cell_type": "markdown",
   "id": "574ca598",
   "metadata": {},
   "source": [
    "### Объединение данных."
   ]
  },
  {
   "cell_type": "code",
   "execution_count": 28,
   "id": "c3d4eb71",
   "metadata": {},
   "outputs": [
    {
     "name": "stdout",
     "output_type": "stream",
     "text": [
      "<class 'pandas.core.frame.DataFrame'>\n",
      "Int64Index: 3216 entries, 0 to 3215\n",
      "Data columns (total 15 columns):\n",
      " #   Column        Non-Null Count  Dtype         \n",
      "---  ------        --------------  -----         \n",
      " 0   user_id       3216 non-null   int64         \n",
      " 1   age           3216 non-null   int64         \n",
      " 2   churn_date    189 non-null    datetime64[ns]\n",
      " 3   city          3216 non-null   object        \n",
      " 4   first_name    3216 non-null   object        \n",
      " 5   last_name     3216 non-null   object        \n",
      " 6   reg_date      3216 non-null   datetime64[ns]\n",
      " 7   tariff        3216 non-null   object        \n",
      " 8   month         3214 non-null   float64       \n",
      " 9   cnt_duration  3174 non-null   float64       \n",
      " 10  sum_duration  3174 non-null   float64       \n",
      " 11  cnt_msg       2717 non-null   float64       \n",
      " 12  cnt_session   3203 non-null   float64       \n",
      " 13  sum_mb        3203 non-null   float64       \n",
      " 14  sum_gb        3203 non-null   float64       \n",
      "dtypes: datetime64[ns](2), float64(7), int64(2), object(4)\n",
      "memory usage: 402.0+ KB\n"
     ]
    }
   ],
   "source": [
    "# объединяем данные о звонках, смс и трафике\n",
    "users_profile = calls.merge(messages, on=['user_id','month'], how='outer')\n",
    "users_profile = users_profile.merge(internet, on=['user_id','month'], how='outer')\n",
    "\n",
    "#создаем профиль пользователя (объединяем личные данные с данными о расходах)\n",
    "users_profile = df_users.merge(users_profile, on='user_id', how='left')\n",
    "\n",
    "users_profile.info()"
   ]
  },
  {
   "cell_type": "code",
   "execution_count": 29,
   "id": "12b4b3cb",
   "metadata": {},
   "outputs": [
    {
     "data": {
      "text/html": [
       "<div>\n",
       "<style scoped>\n",
       "    .dataframe tbody tr th:only-of-type {\n",
       "        vertical-align: middle;\n",
       "    }\n",
       "\n",
       "    .dataframe tbody tr th {\n",
       "        vertical-align: top;\n",
       "    }\n",
       "\n",
       "    .dataframe thead th {\n",
       "        text-align: right;\n",
       "    }\n",
       "</style>\n",
       "<table border=\"1\" class=\"dataframe\">\n",
       "  <thead>\n",
       "    <tr style=\"text-align: right;\">\n",
       "      <th></th>\n",
       "      <th>user_id</th>\n",
       "      <th>age</th>\n",
       "      <th>churn_date</th>\n",
       "      <th>city</th>\n",
       "      <th>first_name</th>\n",
       "      <th>last_name</th>\n",
       "      <th>reg_date</th>\n",
       "      <th>tariff</th>\n",
       "      <th>month</th>\n",
       "      <th>cnt_duration</th>\n",
       "      <th>sum_duration</th>\n",
       "      <th>cnt_msg</th>\n",
       "      <th>cnt_session</th>\n",
       "      <th>sum_mb</th>\n",
       "      <th>sum_gb</th>\n",
       "    </tr>\n",
       "  </thead>\n",
       "  <tbody>\n",
       "    <tr>\n",
       "      <th>827</th>\n",
       "      <td>1128</td>\n",
       "      <td>51</td>\n",
       "      <td>2018-12-23</td>\n",
       "      <td>Волжский</td>\n",
       "      <td>Ксения</td>\n",
       "      <td>Агаева</td>\n",
       "      <td>2018-12-15</td>\n",
       "      <td>ultra</td>\n",
       "      <td>NaN</td>\n",
       "      <td>NaN</td>\n",
       "      <td>NaN</td>\n",
       "      <td>NaN</td>\n",
       "      <td>NaN</td>\n",
       "      <td>NaN</td>\n",
       "      <td>NaN</td>\n",
       "    </tr>\n",
       "    <tr>\n",
       "      <th>2335</th>\n",
       "      <td>1371</td>\n",
       "      <td>50</td>\n",
       "      <td>2018-12-30</td>\n",
       "      <td>Омск</td>\n",
       "      <td>Ириней</td>\n",
       "      <td>Трофимов</td>\n",
       "      <td>2018-12-25</td>\n",
       "      <td>smart</td>\n",
       "      <td>NaN</td>\n",
       "      <td>NaN</td>\n",
       "      <td>NaN</td>\n",
       "      <td>NaN</td>\n",
       "      <td>NaN</td>\n",
       "      <td>NaN</td>\n",
       "      <td>NaN</td>\n",
       "    </tr>\n",
       "  </tbody>\n",
       "</table>\n",
       "</div>"
      ],
      "text/plain": [
       "      user_id  age churn_date      city first_name last_name   reg_date  \\\n",
       "827      1128   51 2018-12-23  Волжский     Ксения    Агаева 2018-12-15   \n",
       "2335     1371   50 2018-12-30      Омск     Ириней  Трофимов 2018-12-25   \n",
       "\n",
       "     tariff  month  cnt_duration  sum_duration  cnt_msg  cnt_session  sum_mb  \\\n",
       "827   ultra    NaN           NaN           NaN      NaN          NaN     NaN   \n",
       "2335  smart    NaN           NaN           NaN      NaN          NaN     NaN   \n",
       "\n",
       "      sum_gb  \n",
       "827      NaN  \n",
       "2335     NaN  "
      ]
     },
     "execution_count": 29,
     "metadata": {},
     "output_type": "execute_result"
    }
   ],
   "source": [
    "users_profile[users_profile['month'].isnull()]"
   ]
  },
  {
   "cell_type": "code",
   "execution_count": 30,
   "id": "d375c46e",
   "metadata": {},
   "outputs": [
    {
     "data": {
      "text/html": [
       "<div>\n",
       "<style scoped>\n",
       "    .dataframe tbody tr th:only-of-type {\n",
       "        vertical-align: middle;\n",
       "    }\n",
       "\n",
       "    .dataframe tbody tr th {\n",
       "        vertical-align: top;\n",
       "    }\n",
       "\n",
       "    .dataframe thead th {\n",
       "        text-align: right;\n",
       "    }\n",
       "</style>\n",
       "<table border=\"1\" class=\"dataframe\">\n",
       "  <thead>\n",
       "    <tr style=\"text-align: right;\">\n",
       "      <th></th>\n",
       "      <th>user_id</th>\n",
       "      <th>age</th>\n",
       "      <th>churn_date</th>\n",
       "      <th>city</th>\n",
       "      <th>first_name</th>\n",
       "      <th>last_name</th>\n",
       "      <th>reg_date</th>\n",
       "      <th>tariff</th>\n",
       "      <th>month</th>\n",
       "      <th>cnt_duration</th>\n",
       "      <th>sum_duration</th>\n",
       "      <th>cnt_msg</th>\n",
       "      <th>cnt_session</th>\n",
       "      <th>sum_mb</th>\n",
       "      <th>sum_gb</th>\n",
       "    </tr>\n",
       "  </thead>\n",
       "  <tbody>\n",
       "    <tr>\n",
       "      <th>243</th>\n",
       "      <td>1039</td>\n",
       "      <td>40</td>\n",
       "      <td>NaT</td>\n",
       "      <td>Ярославль</td>\n",
       "      <td>Агнесса</td>\n",
       "      <td>Андреенко</td>\n",
       "      <td>2018-06-21</td>\n",
       "      <td>ultra</td>\n",
       "      <td>6.00</td>\n",
       "      <td>21.00</td>\n",
       "      <td>156.00</td>\n",
       "      <td>62.00</td>\n",
       "      <td>12.00</td>\n",
       "      <td>6348.47</td>\n",
       "      <td>7.00</td>\n",
       "    </tr>\n",
       "    <tr>\n",
       "      <th>1014</th>\n",
       "      <td>1158</td>\n",
       "      <td>45</td>\n",
       "      <td>NaT</td>\n",
       "      <td>Новокузнецк</td>\n",
       "      <td>Игорь</td>\n",
       "      <td>Андрейчук</td>\n",
       "      <td>2018-02-03</td>\n",
       "      <td>smart</td>\n",
       "      <td>10.00</td>\n",
       "      <td>62.00</td>\n",
       "      <td>468.00</td>\n",
       "      <td>62.00</td>\n",
       "      <td>50.00</td>\n",
       "      <td>15521.94</td>\n",
       "      <td>16.00</td>\n",
       "    </tr>\n",
       "    <tr>\n",
       "      <th>2782</th>\n",
       "      <td>1431</td>\n",
       "      <td>70</td>\n",
       "      <td>NaT</td>\n",
       "      <td>Уфа</td>\n",
       "      <td>Елена</td>\n",
       "      <td>Тимофеева</td>\n",
       "      <td>2018-03-16</td>\n",
       "      <td>smart</td>\n",
       "      <td>7.00</td>\n",
       "      <td>42.00</td>\n",
       "      <td>299.00</td>\n",
       "      <td>77.00</td>\n",
       "      <td>60.00</td>\n",
       "      <td>21506.95</td>\n",
       "      <td>22.00</td>\n",
       "    </tr>\n",
       "    <tr>\n",
       "      <th>2473</th>\n",
       "      <td>1386</td>\n",
       "      <td>21</td>\n",
       "      <td>NaT</td>\n",
       "      <td>Новосибирск</td>\n",
       "      <td>Фаддей</td>\n",
       "      <td>Родионов</td>\n",
       "      <td>2018-08-13</td>\n",
       "      <td>smart</td>\n",
       "      <td>10.00</td>\n",
       "      <td>64.00</td>\n",
       "      <td>432.00</td>\n",
       "      <td>43.00</td>\n",
       "      <td>88.00</td>\n",
       "      <td>24877.66</td>\n",
       "      <td>25.00</td>\n",
       "    </tr>\n",
       "    <tr>\n",
       "      <th>1562</th>\n",
       "      <td>1246</td>\n",
       "      <td>27</td>\n",
       "      <td>NaT</td>\n",
       "      <td>Санкт-Петербург</td>\n",
       "      <td>Марта</td>\n",
       "      <td>Ситникова</td>\n",
       "      <td>2018-09-26</td>\n",
       "      <td>smart</td>\n",
       "      <td>12.00</td>\n",
       "      <td>57.00</td>\n",
       "      <td>350.00</td>\n",
       "      <td>16.00</td>\n",
       "      <td>75.00</td>\n",
       "      <td>22003.66</td>\n",
       "      <td>22.00</td>\n",
       "    </tr>\n",
       "  </tbody>\n",
       "</table>\n",
       "</div>"
      ],
      "text/plain": [
       "      user_id  age churn_date             city first_name  last_name  \\\n",
       "243      1039   40        NaT        Ярославль    Агнесса  Андреенко   \n",
       "1014     1158   45        NaT      Новокузнецк      Игорь  Андрейчук   \n",
       "2782     1431   70        NaT              Уфа      Елена  Тимофеева   \n",
       "2473     1386   21        NaT      Новосибирск     Фаддей   Родионов   \n",
       "1562     1246   27        NaT  Санкт-Петербург      Марта  Ситникова   \n",
       "\n",
       "       reg_date tariff  month  cnt_duration  sum_duration  cnt_msg  \\\n",
       "243  2018-06-21  ultra   6.00         21.00        156.00    62.00   \n",
       "1014 2018-02-03  smart  10.00         62.00        468.00    62.00   \n",
       "2782 2018-03-16  smart   7.00         42.00        299.00    77.00   \n",
       "2473 2018-08-13  smart  10.00         64.00        432.00    43.00   \n",
       "1562 2018-09-26  smart  12.00         57.00        350.00    16.00   \n",
       "\n",
       "      cnt_session   sum_mb  sum_gb  \n",
       "243         12.00  6348.47    7.00  \n",
       "1014        50.00 15521.94   16.00  \n",
       "2782        60.00 21506.95   22.00  \n",
       "2473        88.00 24877.66   25.00  \n",
       "1562        75.00 22003.66   22.00  "
      ]
     },
     "execution_count": 30,
     "metadata": {},
     "output_type": "execute_result"
    }
   ],
   "source": [
    "users_profile.sample(n=5)"
   ]
  },
  {
   "cell_type": "markdown",
   "id": "677cd549",
   "metadata": {},
   "source": [
    "При объединении данные скопированы в полном объеме: количество непустых строк объема звонков, смс и трафика соответствует размеру исходных таблиц. \n",
    "\n",
    "Так как существуют клиенты, пользующиеся услугами частично, появились пропуски в данных. Заполним нулями отсутствующие суммарные значения потребленных услуг.\n",
    "\n",
    "Два клиента из выборки не пользовались услугами компании, а расторгли контракты через 5-8 дней со дня регистрации. Заполним пропуски в колонке с месяцем значением месяца регистрации, чтобы посчитать доходы от абонентской платы."
   ]
  },
  {
   "cell_type": "code",
   "execution_count": 31,
   "id": "c76a522b",
   "metadata": {},
   "outputs": [
    {
     "data": {
      "text/plain": [
       "Index(['user_id', 'age', 'churn_date', 'city', 'first_name', 'last_name',\n",
       "       'reg_date', 'tariff', 'month', 'cnt_duration', 'sum_duration',\n",
       "       'cnt_msg', 'cnt_session', 'sum_mb', 'sum_gb'],\n",
       "      dtype='object')"
      ]
     },
     "execution_count": 31,
     "metadata": {},
     "output_type": "execute_result"
    }
   ],
   "source": [
    "users_profile.columns"
   ]
  },
  {
   "cell_type": "code",
   "execution_count": 32,
   "id": "4aa4436e",
   "metadata": {},
   "outputs": [],
   "source": [
    "users_profile['month'] = users_profile['month'].fillna(users_profile['reg_date'].dt.month)\n",
    "\n",
    "users_profile[['cnt_duration', 'sum_duration',\n",
    "       'cnt_msg', 'cnt_session', 'sum_mb', 'sum_gb']] = users_profile[['cnt_duration', 'sum_duration',\n",
    "       'cnt_msg', 'cnt_session', 'sum_mb', 'sum_gb']].fillna(0)"
   ]
  },
  {
   "cell_type": "code",
   "execution_count": 33,
   "id": "17ecf1ab",
   "metadata": {},
   "outputs": [
    {
     "name": "stdout",
     "output_type": "stream",
     "text": [
      "<class 'pandas.core.frame.DataFrame'>\n",
      "Int64Index: 3216 entries, 0 to 3215\n",
      "Data columns (total 15 columns):\n",
      " #   Column        Non-Null Count  Dtype         \n",
      "---  ------        --------------  -----         \n",
      " 0   user_id       3216 non-null   int64         \n",
      " 1   age           3216 non-null   int64         \n",
      " 2   churn_date    189 non-null    datetime64[ns]\n",
      " 3   city          3216 non-null   object        \n",
      " 4   first_name    3216 non-null   object        \n",
      " 5   last_name     3216 non-null   object        \n",
      " 6   reg_date      3216 non-null   datetime64[ns]\n",
      " 7   tariff        3216 non-null   object        \n",
      " 8   month         3216 non-null   float64       \n",
      " 9   cnt_duration  3216 non-null   float64       \n",
      " 10  sum_duration  3216 non-null   float64       \n",
      " 11  cnt_msg       3216 non-null   float64       \n",
      " 12  cnt_session   3216 non-null   float64       \n",
      " 13  sum_mb        3216 non-null   float64       \n",
      " 14  sum_gb        3216 non-null   float64       \n",
      "dtypes: datetime64[ns](2), float64(7), int64(2), object(4)\n",
      "memory usage: 402.0+ KB\n"
     ]
    }
   ],
   "source": [
    "users_profile.info()"
   ]
  },
  {
   "cell_type": "markdown",
   "id": "9ab76fff",
   "metadata": {},
   "source": [
    "Рассчитаем помесячную выручку с каждого пользователя (вычтем бесплатный лимит из суммарного количества звонков, сообщений и интернет-трафика; остаток умножем на значение из тарифного плана; прибавем абонентскую плату, соответствующую тарифному плану)."
   ]
  },
  {
   "cell_type": "code",
   "execution_count": 34,
   "id": "66bbbe37",
   "metadata": {},
   "outputs": [
    {
     "data": {
      "text/html": [
       "<div>\n",
       "<style scoped>\n",
       "    .dataframe tbody tr th:only-of-type {\n",
       "        vertical-align: middle;\n",
       "    }\n",
       "\n",
       "    .dataframe tbody tr th {\n",
       "        vertical-align: top;\n",
       "    }\n",
       "\n",
       "    .dataframe thead th {\n",
       "        text-align: right;\n",
       "    }\n",
       "</style>\n",
       "<table border=\"1\" class=\"dataframe\">\n",
       "  <thead>\n",
       "    <tr style=\"text-align: right;\">\n",
       "      <th></th>\n",
       "      <th>messages_included</th>\n",
       "      <th>mb_per_month_included</th>\n",
       "      <th>minutes_included</th>\n",
       "      <th>rub_monthly_fee</th>\n",
       "      <th>rub_per_gb</th>\n",
       "      <th>rub_per_message</th>\n",
       "      <th>rub_per_minute</th>\n",
       "      <th>gb_per_month_included</th>\n",
       "    </tr>\n",
       "    <tr>\n",
       "      <th>tariff_name</th>\n",
       "      <th></th>\n",
       "      <th></th>\n",
       "      <th></th>\n",
       "      <th></th>\n",
       "      <th></th>\n",
       "      <th></th>\n",
       "      <th></th>\n",
       "      <th></th>\n",
       "    </tr>\n",
       "  </thead>\n",
       "  <tbody>\n",
       "    <tr>\n",
       "      <th>smart</th>\n",
       "      <td>50</td>\n",
       "      <td>15360</td>\n",
       "      <td>500</td>\n",
       "      <td>550</td>\n",
       "      <td>200</td>\n",
       "      <td>3</td>\n",
       "      <td>3</td>\n",
       "      <td>15.00</td>\n",
       "    </tr>\n",
       "    <tr>\n",
       "      <th>ultra</th>\n",
       "      <td>1000</td>\n",
       "      <td>30720</td>\n",
       "      <td>3000</td>\n",
       "      <td>1950</td>\n",
       "      <td>150</td>\n",
       "      <td>1</td>\n",
       "      <td>1</td>\n",
       "      <td>30.00</td>\n",
       "    </tr>\n",
       "  </tbody>\n",
       "</table>\n",
       "</div>"
      ],
      "text/plain": [
       "             messages_included  mb_per_month_included  minutes_included  \\\n",
       "tariff_name                                                               \n",
       "smart                       50                  15360               500   \n",
       "ultra                     1000                  30720              3000   \n",
       "\n",
       "             rub_monthly_fee  rub_per_gb  rub_per_message  rub_per_minute  \\\n",
       "tariff_name                                                                 \n",
       "smart                    550         200                3               3   \n",
       "ultra                   1950         150                1               1   \n",
       "\n",
       "             gb_per_month_included  \n",
       "tariff_name                         \n",
       "smart                        15.00  \n",
       "ultra                        30.00  "
      ]
     },
     "execution_count": 34,
     "metadata": {},
     "output_type": "execute_result"
    }
   ],
   "source": [
    "# установим наименование тарифа в качестве индекса\n",
    "df_tariffs.set_index('tariff_name', inplace=True)\n",
    "\n",
    "# определим количество предоплаченных ГБ\n",
    "df_tariffs['gb_per_month_included'] = df_tariffs['mb_per_month_included'] / 1024\n",
    "\n",
    "df_tariffs"
   ]
  },
  {
   "cell_type": "code",
   "execution_count": 35,
   "id": "5f53cc9d",
   "metadata": {},
   "outputs": [],
   "source": [
    "def payment(x, service_used, service_cost, service_prepayed):\n",
    "    '''Принимает на вход имя колонок в датафреймах:\n",
    "    service_used - имя колонки с объемом потребленной услуги,\n",
    "    service_cost - имя колонки со стоимостью услуги,\n",
    "    service_prepayed - имя колонки с предоплаченным объем услуги.   \n",
    "    x - строка из датафрейма\n",
    "    \n",
    "    Рассчитывает разницу между предоплаченным и потребленным объемом услуги,\n",
    "    превышение предоплаченного объема умножает на тариф.\n",
    "'''\n",
    "    \n",
    "    return max(0, x[service_used] - df_tariffs.loc[x['tariff'], service_prepayed])\\\n",
    "             * df_tariffs.loc[x['tariff'],service_cost]"
   ]
  },
  {
   "cell_type": "code",
   "execution_count": 36,
   "id": "26ca8763",
   "metadata": {},
   "outputs": [],
   "source": [
    "# стоимость дополнительных минут\n",
    "users_profile['minutes_pay'] = users_profile.apply(lambda x: payment(x,'sum_duration',\\\n",
    "                                                                     'rub_per_minute',\\\n",
    "                                                                    'minutes_included'), axis=1)\n",
    "\n",
    "# стоимость дополнительных смс\n",
    "users_profile['msg_pay'] = users_profile.apply(lambda x: payment(x,'cnt_msg',\\\n",
    "                                                                     'rub_per_message',\\\n",
    "                  \n",
    "                                                                 'messages_included'), axis=1)\n",
    "# стоимость дополнительного трафика\n",
    "users_profile['gb_pay'] = users_profile.apply(lambda x: payment(x,'sum_gb',\\\n",
    "                                                                     'rub_per_gb',\\\n",
    "                                                                    'gb_per_month_included'), axis=1)\n",
    "\n",
    "# рассчитаем сумму доходов с каждого клиента\n",
    "users_profile['month_pay'] = users_profile.apply(lambda x: payment(x,'sum_duration',\\\n",
    "                                                                     'rub_per_minute',\\\n",
    "                                                                    'minutes_included'), axis=1) +\\\n",
    "    users_profile.apply(lambda x: payment(x,'cnt_msg',\\\n",
    "                                            'rub_per_message',\\\n",
    "                                            'messages_included'), axis=1) +\\\n",
    "    users_profile.apply(lambda x: payment(x,'sum_gb',\\\n",
    "                                            'rub_per_gb',\\\n",
    "                                            'gb_per_month_included'), axis=1) +\\\n",
    "    users_profile.apply(lambda x: df_tariffs.loc[x['tariff'], 'rub_monthly_fee'], axis=1)\n"
   ]
  },
  {
   "cell_type": "markdown",
   "id": "b70c0d48",
   "metadata": {},
   "source": [
    "Для проверки второй гипотезы разделим клиентов на две группы: пользователи из Москвы и МО (Балашиха, Химки, Подольск), пользователи из других городов."
   ]
  },
  {
   "cell_type": "code",
   "execution_count": 37,
   "id": "e5cd8754",
   "metadata": {},
   "outputs": [],
   "source": [
    "# создаем признак Москва - Регионы\n",
    "users_profile['capital'] = users_profile.apply(lambda x: x['city'] in ['Москва', 'Химки', 'Балашиха', 'Подольск'], axis=1)\n"
   ]
  },
  {
   "cell_type": "code",
   "execution_count": 38,
   "id": "e16f348f",
   "metadata": {},
   "outputs": [
    {
     "data": {
      "text/html": [
       "<div>\n",
       "<style scoped>\n",
       "    .dataframe tbody tr th:only-of-type {\n",
       "        vertical-align: middle;\n",
       "    }\n",
       "\n",
       "    .dataframe tbody tr th {\n",
       "        vertical-align: top;\n",
       "    }\n",
       "\n",
       "    .dataframe thead th {\n",
       "        text-align: right;\n",
       "    }\n",
       "</style>\n",
       "<table border=\"1\" class=\"dataframe\">\n",
       "  <thead>\n",
       "    <tr style=\"text-align: right;\">\n",
       "      <th></th>\n",
       "      <th>user_id</th>\n",
       "      <th>age</th>\n",
       "      <th>churn_date</th>\n",
       "      <th>city</th>\n",
       "      <th>first_name</th>\n",
       "      <th>last_name</th>\n",
       "      <th>reg_date</th>\n",
       "      <th>tariff</th>\n",
       "      <th>month</th>\n",
       "      <th>cnt_duration</th>\n",
       "      <th>sum_duration</th>\n",
       "      <th>cnt_msg</th>\n",
       "      <th>cnt_session</th>\n",
       "      <th>sum_mb</th>\n",
       "      <th>sum_gb</th>\n",
       "      <th>minutes_pay</th>\n",
       "      <th>msg_pay</th>\n",
       "      <th>gb_pay</th>\n",
       "      <th>month_pay</th>\n",
       "      <th>capital</th>\n",
       "    </tr>\n",
       "  </thead>\n",
       "  <tbody>\n",
       "    <tr>\n",
       "      <th>2665</th>\n",
       "      <td>1415</td>\n",
       "      <td>41</td>\n",
       "      <td>NaT</td>\n",
       "      <td>Москва</td>\n",
       "      <td>Андрей</td>\n",
       "      <td>Лукин</td>\n",
       "      <td>2018-06-29</td>\n",
       "      <td>ultra</td>\n",
       "      <td>8.00</td>\n",
       "      <td>82.00</td>\n",
       "      <td>593.00</td>\n",
       "      <td>37.00</td>\n",
       "      <td>60.00</td>\n",
       "      <td>32715.30</td>\n",
       "      <td>32.00</td>\n",
       "      <td>0.00</td>\n",
       "      <td>0.00</td>\n",
       "      <td>300.00</td>\n",
       "      <td>2250.00</td>\n",
       "      <td>True</td>\n",
       "    </tr>\n",
       "    <tr>\n",
       "      <th>1617</th>\n",
       "      <td>1254</td>\n",
       "      <td>75</td>\n",
       "      <td>2018-08-17</td>\n",
       "      <td>Москва</td>\n",
       "      <td>Александра</td>\n",
       "      <td>Сухарева</td>\n",
       "      <td>2018-01-04</td>\n",
       "      <td>ultra</td>\n",
       "      <td>8.00</td>\n",
       "      <td>31.00</td>\n",
       "      <td>175.00</td>\n",
       "      <td>0.00</td>\n",
       "      <td>24.00</td>\n",
       "      <td>11966.72</td>\n",
       "      <td>12.00</td>\n",
       "      <td>0.00</td>\n",
       "      <td>0.00</td>\n",
       "      <td>0.00</td>\n",
       "      <td>1950.00</td>\n",
       "      <td>True</td>\n",
       "    </tr>\n",
       "    <tr>\n",
       "      <th>2373</th>\n",
       "      <td>1375</td>\n",
       "      <td>53</td>\n",
       "      <td>NaT</td>\n",
       "      <td>Пенза</td>\n",
       "      <td>Мария</td>\n",
       "      <td>Акимычева</td>\n",
       "      <td>2018-01-04</td>\n",
       "      <td>ultra</td>\n",
       "      <td>5.00</td>\n",
       "      <td>133.00</td>\n",
       "      <td>961.00</td>\n",
       "      <td>79.00</td>\n",
       "      <td>42.00</td>\n",
       "      <td>20299.32</td>\n",
       "      <td>20.00</td>\n",
       "      <td>0.00</td>\n",
       "      <td>0.00</td>\n",
       "      <td>0.00</td>\n",
       "      <td>1950.00</td>\n",
       "      <td>False</td>\n",
       "    </tr>\n",
       "    <tr>\n",
       "      <th>400</th>\n",
       "      <td>1063</td>\n",
       "      <td>45</td>\n",
       "      <td>2018-12-11</td>\n",
       "      <td>Тула</td>\n",
       "      <td>Таира</td>\n",
       "      <td>Климова</td>\n",
       "      <td>2018-04-12</td>\n",
       "      <td>ultra</td>\n",
       "      <td>12.00</td>\n",
       "      <td>36.00</td>\n",
       "      <td>231.00</td>\n",
       "      <td>0.00</td>\n",
       "      <td>11.00</td>\n",
       "      <td>5579.28</td>\n",
       "      <td>6.00</td>\n",
       "      <td>0.00</td>\n",
       "      <td>0.00</td>\n",
       "      <td>0.00</td>\n",
       "      <td>1950.00</td>\n",
       "      <td>False</td>\n",
       "    </tr>\n",
       "    <tr>\n",
       "      <th>456</th>\n",
       "      <td>1071</td>\n",
       "      <td>20</td>\n",
       "      <td>2018-08-31</td>\n",
       "      <td>Омск</td>\n",
       "      <td>Гектор</td>\n",
       "      <td>Чумаков</td>\n",
       "      <td>2018-01-09</td>\n",
       "      <td>smart</td>\n",
       "      <td>8.00</td>\n",
       "      <td>39.00</td>\n",
       "      <td>229.00</td>\n",
       "      <td>19.00</td>\n",
       "      <td>37.00</td>\n",
       "      <td>13950.89</td>\n",
       "      <td>14.00</td>\n",
       "      <td>0.00</td>\n",
       "      <td>0.00</td>\n",
       "      <td>0.00</td>\n",
       "      <td>550.00</td>\n",
       "      <td>False</td>\n",
       "    </tr>\n",
       "  </tbody>\n",
       "</table>\n",
       "</div>"
      ],
      "text/plain": [
       "      user_id  age churn_date    city  first_name  last_name   reg_date  \\\n",
       "2665     1415   41        NaT  Москва      Андрей      Лукин 2018-06-29   \n",
       "1617     1254   75 2018-08-17  Москва  Александра   Сухарева 2018-01-04   \n",
       "2373     1375   53        NaT   Пенза       Мария  Акимычева 2018-01-04   \n",
       "400      1063   45 2018-12-11    Тула       Таира    Климова 2018-04-12   \n",
       "456      1071   20 2018-08-31    Омск      Гектор    Чумаков 2018-01-09   \n",
       "\n",
       "     tariff  month  cnt_duration  sum_duration  cnt_msg  cnt_session   sum_mb  \\\n",
       "2665  ultra   8.00         82.00        593.00    37.00        60.00 32715.30   \n",
       "1617  ultra   8.00         31.00        175.00     0.00        24.00 11966.72   \n",
       "2373  ultra   5.00        133.00        961.00    79.00        42.00 20299.32   \n",
       "400   ultra  12.00         36.00        231.00     0.00        11.00  5579.28   \n",
       "456   smart   8.00         39.00        229.00    19.00        37.00 13950.89   \n",
       "\n",
       "      sum_gb  minutes_pay  msg_pay  gb_pay  month_pay  capital  \n",
       "2665   32.00         0.00     0.00  300.00    2250.00     True  \n",
       "1617   12.00         0.00     0.00    0.00    1950.00     True  \n",
       "2373   20.00         0.00     0.00    0.00    1950.00    False  \n",
       "400     6.00         0.00     0.00    0.00    1950.00    False  \n",
       "456    14.00         0.00     0.00    0.00     550.00    False  "
      ]
     },
     "execution_count": 38,
     "metadata": {},
     "output_type": "execute_result"
    }
   ],
   "source": [
    "users_profile.sample(n=5)"
   ]
  },
  {
   "cell_type": "markdown",
   "id": "fbc25e7b",
   "metadata": {},
   "source": [
    "### Выводы.\n",
    "\n",
    "В предобработке данных мы:\n",
    "1. Преобразовали даты в формат datetime.\n",
    "2. Округлили продолжительность каждого звонка в большую сторону (в соответствии с правилами тарификации).\n",
    "3. Округлили суммарную продолжительность интренет-сессий за месяц до Гб в большую сторону (в соответствиии с правилами тарификации).\n",
    "4. Рассчитали помесячные суммарные значения для каждого клиента количества звонков и их продолжительность в минутах, количество смс, объем потраченного интернет-трафика в Гб.\n",
    "5. Объединили данные в единый датафрейм. Если клиент не пользовался услугой в течении месяца, присвоили значение 0. \n",
    "5. Распределили клиентов на две группы по территори проживания: Москва и МО / Регионы.\n",
    "6. Посчитали суммарные ежемесячные расходы каждого клиента."
   ]
  },
  {
   "cell_type": "markdown",
   "id": "229e2192",
   "metadata": {},
   "source": [
    "## Анализ расходов клиента."
   ]
  },
  {
   "cell_type": "code",
   "execution_count": 39,
   "id": "a6f3325a",
   "metadata": {},
   "outputs": [
    {
     "data": {
      "text/html": [
       "<div>\n",
       "<style scoped>\n",
       "    .dataframe tbody tr th:only-of-type {\n",
       "        vertical-align: middle;\n",
       "    }\n",
       "\n",
       "    .dataframe tbody tr th {\n",
       "        vertical-align: top;\n",
       "    }\n",
       "\n",
       "    .dataframe thead th {\n",
       "        text-align: right;\n",
       "    }\n",
       "</style>\n",
       "<table border=\"1\" class=\"dataframe\">\n",
       "  <thead>\n",
       "    <tr style=\"text-align: right;\">\n",
       "      <th></th>\n",
       "      <th>user_id</th>\n",
       "      <th>age</th>\n",
       "      <th>month</th>\n",
       "      <th>cnt_duration</th>\n",
       "      <th>sum_duration</th>\n",
       "      <th>cnt_msg</th>\n",
       "      <th>cnt_session</th>\n",
       "      <th>sum_mb</th>\n",
       "      <th>sum_gb</th>\n",
       "      <th>minutes_pay</th>\n",
       "      <th>msg_pay</th>\n",
       "      <th>gb_pay</th>\n",
       "      <th>month_pay</th>\n",
       "    </tr>\n",
       "  </thead>\n",
       "  <tbody>\n",
       "    <tr>\n",
       "      <th>count</th>\n",
       "      <td>3216.00</td>\n",
       "      <td>3216.00</td>\n",
       "      <td>3216.00</td>\n",
       "      <td>3216.00</td>\n",
       "      <td>3216.00</td>\n",
       "      <td>3216.00</td>\n",
       "      <td>3216.00</td>\n",
       "      <td>3216.00</td>\n",
       "      <td>3216.00</td>\n",
       "      <td>3216.00</td>\n",
       "      <td>3216.00</td>\n",
       "      <td>3216.00</td>\n",
       "      <td>3216.00</td>\n",
       "    </tr>\n",
       "    <tr>\n",
       "      <th>mean</th>\n",
       "      <td>1251.59</td>\n",
       "      <td>46.64</td>\n",
       "      <td>8.32</td>\n",
       "      <td>63.00</td>\n",
       "      <td>450.96</td>\n",
       "      <td>38.26</td>\n",
       "      <td>46.45</td>\n",
       "      <td>17196.91</td>\n",
       "      <td>17.29</td>\n",
       "      <td>86.51</td>\n",
       "      <td>12.06</td>\n",
       "      <td>451.10</td>\n",
       "      <td>1528.90</td>\n",
       "    </tr>\n",
       "    <tr>\n",
       "      <th>std</th>\n",
       "      <td>144.65</td>\n",
       "      <td>16.58</td>\n",
       "      <td>2.91</td>\n",
       "      <td>33.26</td>\n",
       "      <td>242.10</td>\n",
       "      <td>36.15</td>\n",
       "      <td>18.89</td>\n",
       "      <td>7580.75</td>\n",
       "      <td>7.41</td>\n",
       "      <td>219.17</td>\n",
       "      <td>34.52</td>\n",
       "      <td>684.02</td>\n",
       "      <td>798.22</td>\n",
       "    </tr>\n",
       "    <tr>\n",
       "      <th>min</th>\n",
       "      <td>1000.00</td>\n",
       "      <td>18.00</td>\n",
       "      <td>1.00</td>\n",
       "      <td>0.00</td>\n",
       "      <td>0.00</td>\n",
       "      <td>0.00</td>\n",
       "      <td>0.00</td>\n",
       "      <td>0.00</td>\n",
       "      <td>0.00</td>\n",
       "      <td>0.00</td>\n",
       "      <td>0.00</td>\n",
       "      <td>0.00</td>\n",
       "      <td>550.00</td>\n",
       "    </tr>\n",
       "    <tr>\n",
       "      <th>25%</th>\n",
       "      <td>1125.00</td>\n",
       "      <td>32.00</td>\n",
       "      <td>6.00</td>\n",
       "      <td>40.00</td>\n",
       "      <td>282.00</td>\n",
       "      <td>9.00</td>\n",
       "      <td>35.00</td>\n",
       "      <td>12478.76</td>\n",
       "      <td>13.00</td>\n",
       "      <td>0.00</td>\n",
       "      <td>0.00</td>\n",
       "      <td>0.00</td>\n",
       "      <td>750.00</td>\n",
       "    </tr>\n",
       "    <tr>\n",
       "      <th>50%</th>\n",
       "      <td>1253.00</td>\n",
       "      <td>46.00</td>\n",
       "      <td>9.00</td>\n",
       "      <td>62.00</td>\n",
       "      <td>443.00</td>\n",
       "      <td>30.00</td>\n",
       "      <td>48.00</td>\n",
       "      <td>16937.82</td>\n",
       "      <td>17.00</td>\n",
       "      <td>0.00</td>\n",
       "      <td>0.00</td>\n",
       "      <td>0.00</td>\n",
       "      <td>1653.50</td>\n",
       "    </tr>\n",
       "    <tr>\n",
       "      <th>75%</th>\n",
       "      <td>1378.25</td>\n",
       "      <td>62.00</td>\n",
       "      <td>11.00</td>\n",
       "      <td>82.00</td>\n",
       "      <td>589.00</td>\n",
       "      <td>57.00</td>\n",
       "      <td>59.00</td>\n",
       "      <td>21422.38</td>\n",
       "      <td>21.00</td>\n",
       "      <td>0.00</td>\n",
       "      <td>0.00</td>\n",
       "      <td>800.00</td>\n",
       "      <td>1950.00</td>\n",
       "    </tr>\n",
       "    <tr>\n",
       "      <th>max</th>\n",
       "      <td>1499.00</td>\n",
       "      <td>75.00</td>\n",
       "      <td>12.00</td>\n",
       "      <td>244.00</td>\n",
       "      <td>1673.00</td>\n",
       "      <td>224.00</td>\n",
       "      <td>118.00</td>\n",
       "      <td>49745.69</td>\n",
       "      <td>49.00</td>\n",
       "      <td>2805.00</td>\n",
       "      <td>279.00</td>\n",
       "      <td>4600.00</td>\n",
       "      <td>6770.00</td>\n",
       "    </tr>\n",
       "  </tbody>\n",
       "</table>\n",
       "</div>"
      ],
      "text/plain": [
       "       user_id     age   month  cnt_duration  sum_duration  cnt_msg  \\\n",
       "count  3216.00 3216.00 3216.00       3216.00       3216.00  3216.00   \n",
       "mean   1251.59   46.64    8.32         63.00        450.96    38.26   \n",
       "std     144.65   16.58    2.91         33.26        242.10    36.15   \n",
       "min    1000.00   18.00    1.00          0.00          0.00     0.00   \n",
       "25%    1125.00   32.00    6.00         40.00        282.00     9.00   \n",
       "50%    1253.00   46.00    9.00         62.00        443.00    30.00   \n",
       "75%    1378.25   62.00   11.00         82.00        589.00    57.00   \n",
       "max    1499.00   75.00   12.00        244.00       1673.00   224.00   \n",
       "\n",
       "       cnt_session   sum_mb  sum_gb  minutes_pay  msg_pay  gb_pay  month_pay  \n",
       "count      3216.00  3216.00 3216.00      3216.00  3216.00 3216.00    3216.00  \n",
       "mean         46.45 17196.91   17.29        86.51    12.06  451.10    1528.90  \n",
       "std          18.89  7580.75    7.41       219.17    34.52  684.02     798.22  \n",
       "min           0.00     0.00    0.00         0.00     0.00    0.00     550.00  \n",
       "25%          35.00 12478.76   13.00         0.00     0.00    0.00     750.00  \n",
       "50%          48.00 16937.82   17.00         0.00     0.00    0.00    1653.50  \n",
       "75%          59.00 21422.38   21.00         0.00     0.00  800.00    1950.00  \n",
       "max         118.00 49745.69   49.00      2805.00   279.00 4600.00    6770.00  "
      ]
     },
     "execution_count": 39,
     "metadata": {},
     "output_type": "execute_result"
    }
   ],
   "source": [
    "users_profile.describe()"
   ]
  },
  {
   "cell_type": "markdown",
   "id": "5e279031",
   "metadata": {},
   "source": [
    "- Всреднем клиенты из выборки тратят 450 минут в месяц (среднее и медиана довольно близки - разница составляет 7 минут). 75% клиентов разговаривают менее 590 минут в месяц, менее 280 минут в месяц тратят только 25% пользователей. Существуют клиент(ы) тратящие в месяц более 1600 минут. \n",
    "- Медианный расход смс 30 штук в месяц (1 шт в день). 75% аудитории отправляет до 57 смс в месяц, не более 2 в день. Максимальный расход 224 см в месяц (более 7 штук в день). 25% клиентов отправляет до 9 смс в месяц (менее 2 в неделю). Существуют клиенты, которые не пользуются смс.\n",
    "- Средний расход трафика составил 17 Гб в месяц. Существуют клиенты, которые не пользуются мобильным интернетом. 75% клиентов тратят более 13 Гб интернет-трафика в месяц. 25% клиентов тратят более 21 Гб в месяц.\n",
    "- 75% клиентов ежемесячно не платят за дополнительные минуты и смс. 25% клиентов платят сверх тарифа 800 рублей и более за интернет-трафик. "
   ]
  },
  {
   "cell_type": "markdown",
   "id": "7337a08b",
   "metadata": {},
   "source": [
    "### В зависимости от тарифного плана."
   ]
  },
  {
   "cell_type": "code",
   "execution_count": 40,
   "id": "199a2782",
   "metadata": {},
   "outputs": [],
   "source": [
    "def service_analyze(column, service, measure, limit):\n",
    "    '''\n",
    "    Строит гистограммы использования услуги для тарифов \"smart\" и \"ultra\".\n",
    "    \n",
    "    column - Series с данными для построения гистограммы, \n",
    "    service - наименование услуги (для заголовков графиков), \n",
    "    measure - единица измерения услуги (для подписей оси ОХ), \n",
    "    limit - наименование колонки, где хранятся данные по включенному в тариф лимиту расхода по услуге.\n",
    "    \n",
    "    '''\n",
    "    \n",
    "    # задаём размер сетки для графиков\n",
    "    plt.figure(figsize=(15, 10))\n",
    "    \n",
    "    # в таблице графиков — два столбца и две строки, четыре ячейки\n",
    "    # в первой строим расход услуги (например, минут разговора) клиентов тарифного плана smart\n",
    "    ax1 = plt.subplot(2, 2, 1)\n",
    "    users_profile.query('tariff == \"smart\"')[column].hist(\n",
    "        bins=50, ax=ax1)\n",
    "    \n",
    "    # строим линию включенного в тариф объема услуги\n",
    "    plt.axvline(df_tariffs.loc['smart', limit], color='r') \n",
    "    \n",
    "    # рассчитываем среднее, дисперсию и среднеквадритачное отклонение\n",
    "    mean1 = round(users_profile.query('tariff == \"smart\"')[column].mean(),2)\n",
    "    median1 = round(users_profile.query('tariff == \"smart\"')[column].median(),2)\n",
    "    var1 = round(np.var(users_profile.query('tariff == \"smart\"')[column], ddof=1),2)\n",
    "    std1 =  round(np.std(users_profile.query('tariff == \"smart\"')[column], ddof=1), 2)\n",
    "    # отображаем их на графике\n",
    "    ax1.annotate(f'Средний расход:{mean1}\\nМедиана:{median1}\\nДисперсия:{var1}\\nСтандартное отклонение:{std1}', xy=(0.5,0.85), xycoords='axes fraction')\n",
    "\n",
    "    # подписываем ось ОХ и наименование графика\n",
    "    plt.xlabel(measure)\n",
    "    plt.title(f'Расход {service} на тарифном плане smart.')\n",
    "    \n",
    "\n",
    "    # во второй ячейке строим расход услуги (минут разговора) клиентов тарифного плана ultra\n",
    "    # вертикальная ось — от графика из первой ячейки\n",
    "    ax2 = plt.subplot(2, 2, 2, sharey=ax1)\n",
    "    users_profile.query('tariff == \"ultra\"')[column].hist(\n",
    "        bins=50, ax=ax2)\n",
    "    \n",
    "    plt.axvline(df_tariffs.loc['ultra', limit], color='r') \n",
    "    \n",
    "    mean2 = round(users_profile.query('tariff == \"ultra\"')[column].mean(),2)\n",
    "    median2 = round(users_profile.query('tariff == \"ultra\"')[column].median(),2)\n",
    "    var2 = round(np.var(users_profile.query('tariff == \"ultra\"')[column], ddof=1),2)\n",
    "    std2 =  round(np.std(users_profile.query('tariff == \"ultra\"')[column], ddof=1), 2)\n",
    "    \n",
    "    plt.xlabel(measure)\n",
    "    plt.title(f'Расход {service} на тарифном плане ultra.')\n",
    "    ax2.annotate(f'Средний расход:{mean2}\\nМедиана:{median2}\\nДисперсия:{var2}\\nСтандартное отклонение:{std2}', xy=(0.5,0.85), xycoords='axes fraction')\n",
    "\n",
    "\n",
    "    # в третьей ячейке строим обе гистрограммы\n",
    "    ax3 = plt.subplot(2, 2, 3)\n",
    "    users_profile.query('tariff == \"smart\"')[column].hist(\n",
    "        bins=50, alpha=1, ax=ax3)\n",
    "    users_profile.query('tariff == \"ultra\"')[column].hist(\n",
    "        bins=50, alpha=0.5, ax=ax3)\n",
    "      \n",
    "    plt.xlabel(measure)\n",
    "    plt.legend(['smart', 'ultra'])\n",
    "    plt.title(f'Расход {service}.')\n",
    "    \n",
    "    # в четвертой ячейке строим обе гистрограммы, нормированные\n",
    "    ax4 = plt.subplot(2, 2, 4)\n",
    "    users_profile.query('tariff == \"smart\"')[column].hist(\n",
    "        bins=50, alpha=1, density = True, fill=False, histtype='step', ax=ax4)\n",
    "    users_profile.query('tariff == \"ultra\"')[column].hist(\n",
    "        bins=50, alpha=0.5, density = True, fill=False, histtype='step', ax=ax4)\n",
    "      \n",
    "    plt.xlabel(measure)\n",
    "    plt.legend(['smart', 'ultra'])\n",
    "    plt.title(f'Расход {service}.')\n",
    "    \n",
    "    \n",
    "    plt.grid(True)\n",
    "    plt.tight_layout()\n",
    "    plt.show() "
   ]
  },
  {
   "cell_type": "code",
   "execution_count": 41,
   "id": "f88fa7a5",
   "metadata": {},
   "outputs": [
    {
     "data": {
      "image/png": "[encoded data removed]",
      "text/plain": [
       "<Figure size 1080x720 with 4 Axes>"
      ]
     },
     "metadata": {
      "needs_background": "light"
     },
     "output_type": "display_data"
    }
   ],
   "source": [
    "service_analyze('sum_duration', 'минут', 'минуты', 'minutes_included')"
   ]
  },
  {
   "cell_type": "markdown",
   "id": "f48019f5",
   "metadata": {},
   "source": [
    "- Распределения расхода минут разговора похожи на нормальные со скосом влево для тарифного плана \"смарт\" и  вправо для тарифного плана \"ультра\". Таким образом достаточно большое количество клиентов с планом \"смарт\" экономно расходуют минуты разговора, а клиенты плана \"ультра\" склонные поболтать (что ожидаемо при разнице включенных минут разговора более чем в 5 раз).\n",
    "- Количество пропущенных звонков на тарифном плане \"ультра\" в 1,5 раза выше, чем на тарифном плане \"смарт\". Клиенты \"ультра\" почти в 3 раза чаще пропускают звонки.\n",
    "- Почти 50% клиентов тарифного плана \"смарт\" расходуют более 550 включенных в тариф минут. 99% клиентов \"ультра\" расходуют менее 50% включенных в тариф минут. Клиенты \"ультра\" никогда не платят за использованные минуты разговора сверх тарифа. \n",
    "- Среди клиентов \"смарт\" встречается расход минут более чес в 1,5 раза превышающий лимит.\n",
    "- Клиенты \"ультра\" ожидаемо чаще расходуют более 750 минут разговора в месяц.\n",
    "- Среднеквадратичное отклонение на тирифном плане \"ультра\" достаточно высокое по сравнению с медианой - 318 минут, что свидетельствует о стремлении распределения к равномерному (колокол не высокий). "
   ]
  },
  {
   "cell_type": "code",
   "execution_count": 42,
   "id": "96744bcd",
   "metadata": {},
   "outputs": [
    {
     "data": {
      "image/png": "[encoded data removed]",
      "text/plain": [
       "<Figure size 1080x720 with 4 Axes>"
      ]
     },
     "metadata": {
      "needs_background": "light"
     },
     "output_type": "display_data"
    }
   ],
   "source": [
    "service_analyze('cnt_msg', 'смс', 'шт.', 'messages_included')"
   ]
  },
  {
   "cell_type": "code",
   "execution_count": 43,
   "id": "0d821c6d",
   "metadata": {},
   "outputs": [
    {
     "data": {
      "text/plain": [
       "count   2230.00\n",
       "mean      33.37\n",
       "std       28.23\n",
       "min        0.00\n",
       "25%       10.00\n",
       "50%       28.00\n",
       "75%       51.00\n",
       "max      143.00\n",
       "Name: cnt_msg, dtype: float64"
      ]
     },
     "execution_count": 43,
     "metadata": {},
     "output_type": "execute_result"
    }
   ],
   "source": [
    "users_profile.query('tariff == \"smart\"')['cnt_msg'].describe()"
   ]
  },
  {
   "cell_type": "markdown",
   "id": "a7e1578e",
   "metadata": {},
   "source": [
    "- Распределение месячного расхода смс похоже на нормальное, с длинным хвостом вправо и большим пиком клиентов, не пользующихся данной услугой.\n",
    "- Количество клиентов, не пользующихся смс, на тарифе \"смарт\" в 1,5 раз больше, чем на тарифе \"ультра\". При этом доли таких клиентов примерно одинаковые.\n",
    "- Клиенты \"смарт\" всреднем отправляют 1 смс в день или меньше (медиана составила 28 смс, среднее 33 смс), а клиенты \"ультра\" больше 1 смс в день (медиана составила 38 смс, среднее - 49 смс).\n",
    "- Клиенты \"ультра\" никогда не платят за смс сверх тарифа. 99% клиентов расходуют 20% смс включенных в тариф.\n",
    "- 25% клиентов \"смарт\" ежемясячно платят за дополнительный расход смс.\n",
    "- При расходе до 75 смс в месяц превалируют клиенты \"сматр\", свыше 75 смс в месяц восновном тратят клиенты \"ультра\". Более 150 смс в месяц тратят только клиенты \"ультра\"."
   ]
  },
  {
   "cell_type": "code",
   "execution_count": 44,
   "id": "c3572a0d",
   "metadata": {},
   "outputs": [
    {
     "data": {
      "image/png": "[encoded data removed]",
      "text/plain": [
       "<Figure size 1080x720 with 4 Axes>"
      ]
     },
     "metadata": {
      "needs_background": "light"
     },
     "output_type": "display_data"
    }
   ],
   "source": [
    "service_analyze('sum_gb', 'интернет-трафика', 'Гб', 'gb_per_month_included')"
   ]
  },
  {
   "cell_type": "code",
   "execution_count": 45,
   "id": "94c4ffda",
   "metadata": {},
   "outputs": [
    {
     "data": {
      "text/plain": [
       "count   986.00\n",
       "mean     19.47\n",
       "std       9.87\n",
       "min       0.00\n",
       "25%      12.00\n",
       "50%      19.00\n",
       "75%      27.00\n",
       "max      49.00\n",
       "Name: sum_gb, dtype: float64"
      ]
     },
     "execution_count": 45,
     "metadata": {},
     "output_type": "execute_result"
    }
   ],
   "source": [
    "users_profile.query('tariff == \"ultra\"')['sum_gb'].describe()"
   ]
  },
  {
   "cell_type": "code",
   "execution_count": 46,
   "id": "d3b07291",
   "metadata": {},
   "outputs": [
    {
     "data": {
      "text/plain": [
       "30.0"
      ]
     },
     "execution_count": 46,
     "metadata": {},
     "output_type": "execute_result"
    }
   ],
   "source": [
    "users_profile.query('tariff == \"ultra\"')['sum_gb'].quantile (.85)"
   ]
  },
  {
   "cell_type": "markdown",
   "id": "54b69162",
   "metadata": {},
   "source": [
    "- Распределения расхода интернет-трафика близки к нормальному распределению. \n",
    "- У клиентов \"смарт\" на графиках наблюдаются регулярные провалы в расходе трафика, в отличае от клиентов \"ультра\". Стоит дополнительно изучить их трафик и причины провалов.\n",
    "- 50% клиентов \"смарт\" расходуют более 17 Гб интернета в месяц, то есть оплачивают дополнительно 2 Гб и более. Средний расход ежемесячный интернета 16 Гб, что на 1 Гб превышает включенный в тариф лимит.25% клиентов \"смарт\" дополнительно оплачивают более 10 Гб интернета в месяц.\n",
    "- Средний расход интернет-трафика клиентов \"ультра\" 19.5 Гб, что на 9.5 Гб меньше включенного в тариф. Т.о. 50% клиентов не платят за дополнительный объем интернета. 15% клиентов \"ультра\" платят за дополнительный расход интернет-трафика. 25% клиентов \"ультра\" расходуют менее 12 Гб трафика\n",
    "- Более 25 Гб в месяц восновном тратят клиенты \"ультра\". Более 40 Гб в месяц тратят только клиенты \"ультра\"."
   ]
  },
  {
   "cell_type": "markdown",
   "id": "66bd7c4c",
   "metadata": {},
   "source": [
    "### В зависимости от региона."
   ]
  },
  {
   "cell_type": "code",
   "execution_count": 47,
   "id": "c9f6c6eb",
   "metadata": {},
   "outputs": [],
   "source": [
    "def service_analyze_region(column, service, measure, limit):\n",
    "    '''\n",
    "    Строит гистограммы использования услуги для тарифов \"smart\" и \"ultra\" \n",
    "    с разбивкой на региональную принадлежностть клиентов.\n",
    "    \n",
    "    column - Series с данными для построения гистограммы, \n",
    "    service - наименование услуги (для заголовков графиков), \n",
    "    measure - единица измерения услуги (для подписей оси ОХ), \n",
    "    limit - наименование колонки, где хранятся данные по включенному в тариф лимиту расхода по услуге.\n",
    "    \n",
    "    '''\n",
    "    \n",
    "    # задаём размер сетки для графиков\n",
    "    plt.figure(figsize=(15, 20))\n",
    "    \n",
    "    # в таблице графиков — два столбца и три строки, шесть ячеек\n",
    "    # в первой строим расход минут разговора клиентов тарифного плана smart из Москвы\n",
    "    ax1 = plt.subplot(3, 3, 1)\n",
    "    users_profile.query('tariff == \"smart\" & capital == True')[column].hist(\n",
    "        bins=50, ax=ax1)\n",
    "    \n",
    "    mean1 = round(users_profile.query('tariff == \"smart\" & capital == True')[column].mean(),2)\n",
    "    median1 = round(users_profile.query('tariff == \"smart\" & capital == True')[column].median(),2)\n",
    "    var1 = round(np.var(users_profile.query('tariff == \"smart\" & capital == True')[column], ddof=1),2)\n",
    "    std1 =  round(np.std(users_profile.query('tariff == \"smart\" & capital == True')[column], ddof=1), 2)\n",
    "\n",
    "    plt.xlabel(measure)\n",
    "    plt.title(f'Расход {service} smart в Москве.')\n",
    "    ax1.annotate(f'Средний расход:{mean1}\\nМедиана:{median1}\\nДисперсия:{var1}\\nСтандартное отклонение:{std1}', xy=(0.1,0.85), xycoords='axes fraction')\n",
    "    \n",
    "    # во второй ячейке строим расход минут разговора клиентов тарифного плана smart из Регионов\n",
    "    # вертикальная ось — от графика из первой ячейки\n",
    "    ax2 = plt.subplot(3, 3, 2, sharey=ax1)\n",
    "    users_profile.query('tariff == \"smart\" & capital == False')[column].hist(\n",
    "        bins=50, ax=ax2)\n",
    "    \n",
    "    mean2 = round(users_profile.query('tariff == \"smart\" & capital == False')[column].mean(),2)\n",
    "    median2 = round(users_profile.query('tariff == \"smart\" & capital == False')[column].median(),2)\n",
    "    var2 = round(np.var(users_profile.query('tariff == \"smart\" & capital == False')[column], ddof=1),2)\n",
    "    std2 =  round(np.std(users_profile.query('tariff == \"smart\" & capital == False')[column], ddof=1), 2)\n",
    "\n",
    "    plt.xlabel(measure)\n",
    "    plt.title(f'Расход {service} smart в Регионах.')\n",
    "    ax2.annotate(f'Средний расход:{mean2}\\nМедиана:{median2}\\nДисперсия:{var2}\\nСтандартное отклонение:{std2}', xy=(0.1,0.85), xycoords='axes fraction')\n",
    "    \n",
    "    #  ячейке три строим нормированный расход минут разговора клиентов тарифного плана smart\n",
    "    ax3 = plt.subplot(3, 3, 3)\n",
    "    users_profile.query('tariff == \"smart\" & capital == False')[column].hist(\n",
    "        bins=50, density = True, fill=False, histtype='step', ax=ax3)\n",
    "    users_profile.query('tariff == \"smart\" & capital == True')[column].hist(\n",
    "        bins=50, density = True, fill=False, histtype='step', ax=ax3)\n",
    "\n",
    "    plt.legend(['Regions', 'Moscow'])\n",
    "    plt.xlabel(measure)\n",
    "    plt.title(f'Расход {service} smart.')\n",
    "    plt.axvline(df_tariffs.loc['smart', limit], color='r') \n",
    "    \n",
    "    # в четвертой ячейке строим расход минут разговора клиентов тарифного плана ultra в Москве\n",
    "    ax4 = plt.subplot(3, 3, 4)\n",
    "    users_profile.query('tariff == \"ultra\" & capital == True')[column].hist(\n",
    "        bins=50, ax=ax4)\n",
    "    \n",
    "    mean3 = round(users_profile.query('tariff == \"ultra\" & capital == True')[column].mean(),2)\n",
    "    median3 = round(users_profile.query('tariff == \"ultra\" & capital == True')[column].median(),2)\n",
    "    var3 = round(np.var(users_profile.query('tariff == \"ultra\" & capital == True')[column], ddof=1),2)\n",
    "    std3 =  round(np.std(users_profile.query('tariff == \"ultra\" & capital == True')[column], ddof=1), 2)\n",
    "    \n",
    "    plt.xlabel(measure)\n",
    "    plt.title(f'Расход {service} ultra в Москве.')\n",
    "    ax4.annotate(f'Средний расход:{mean3} \\nМедиана: {median3}\\nДисперсия: {var3}\\nСтандартное отклонение: {std3}', xy=(0.1,0.85), xycoords='axes fraction')\n",
    "\n",
    "    # в пятой ячейке строим расход минут разговора клиентов тарифного плана ultra из Регионов\n",
    "    # вертикальная ось — от графика из четвертой ячейки\n",
    "    ax5 = plt.subplot(3, 3, 5, sharey=ax4)\n",
    "    users_profile.query('tariff == \"ultra\" & capital == False')[column].hist(\n",
    "        bins=50, ax=ax5)\n",
    "    \n",
    "    mean4 = round(users_profile.query('tariff == \"ultra\" & capital == False')[column].mean(),2)\n",
    "    median4 = round(users_profile.query('tariff == \"ultra\" & capital == False')[column].median(),2)\n",
    "    var4 = round(np.var(users_profile.query('tariff == \"ultra\" & capital == False')[column], ddof=1),2)\n",
    "    std4 =  round(np.std(users_profile.query('tariff == \"ultra\" & capital == False')[column], ddof=1), 2)\n",
    "\n",
    "    plt.xlabel(measure)\n",
    "    plt.title(f'Расход {service} ultra в Регионах.')\n",
    "    ax5.annotate(f'Средний расход: {mean4}\\nМедиана: {median4}\\nДисперсия: {var4}\\nСтандартное отклонение: {std4}', xy=(0.1,0.85), xycoords='axes fraction')\n",
    "    \n",
    "    #  ячейке шесть строим нормированный расход минут разговора клиентов тарифного плана ultra\n",
    "    ax6 = plt.subplot(3, 3, 6)\n",
    "    users_profile.query('tariff == \"ultra\" & capital == False')[column].hist(\n",
    "        bins=50, density = True, fill=False, histtype='step', ax=ax6)\n",
    "    users_profile.query('tariff == \"ultra\" & capital == True')[column].hist(\n",
    "        bins=50, density = True, fill=False, histtype='step', ax=ax6)\n",
    "\n",
    "    plt.legend(['Regions', 'Moscow'])\n",
    "    plt.xlabel(measure)\n",
    "    plt.title(f'Расход {service} ultra.')\n",
    "    \n",
    "    # в седьмой ячейке строим обе гистрограммы для клиентов из Москвы\n",
    "    ax7 = plt.subplot(3, 3, 7)\n",
    "    users_profile.query('tariff == \"smart\" & capital == True')[column].hist(\n",
    "        bins=50, alpha=1, ax=ax7)\n",
    "    users_profile.query('tariff == \"ultra\" & capital == True')[column].hist(\n",
    "        bins=50, alpha=0.5, ax=ax7)\n",
    "    \n",
    "    plt.legend(['smart', 'ultra'])  \n",
    "    plt.xlabel(measure)\n",
    "    plt.title(f'Расход {service} в Москве.')\n",
    "    \n",
    "    # в восьмой ячейке строим обе гистрограммы для клиентов из Регионов\n",
    "    # вертикальная ось — от графика из седьмой ячейки\n",
    "    ax8 = plt.subplot(3, 3, 8, sharey=ax7)\n",
    "    users_profile.query('tariff == \"smart\" & capital == False')[column].hist(\n",
    "        bins=50, alpha=1, ax=ax8)\n",
    "    users_profile.query('tariff == \"ultra\" & capital == False')[column].hist(\n",
    "        bins=50, alpha=0.5, ax=ax8)\n",
    "    \n",
    "    plt.legend(['smart', 'ultra'])\n",
    "    plt.xlabel(measure)\n",
    "    plt.title(f'Расход {service} в Регионах.')\n",
    "\n",
    "    # в ячейке девять строим нормированный расход минут разговора клиентов\n",
    "    ax9 = plt.subplot(3, 3, 9)\n",
    "    users_profile.query('tariff == \"smart\" & capital == True')[column].hist(\n",
    "        bins=50, alpha=1, density = True, fill=False, histtype='step', ax=ax9)\n",
    "    users_profile.query('tariff == \"ultra\" & capital == True')[column].hist(\n",
    "        bins=50, alpha=0.5, density = True, fill=False, histtype='step', ax=ax9)\n",
    "    users_profile.query('tariff == \"smart\" & capital == False')[column].hist(\n",
    "        bins=50, alpha=1, density = True, fill=False, histtype='step', ax=ax9)\n",
    "    users_profile.query('tariff == \"ultra\" & capital == False')[column].hist(\n",
    "        bins=50, alpha=0.5, density = True, fill=False, histtype='step', ax=ax9)\n",
    "    \n",
    "    plt.legend(['Moscow_smart','Moscow_ultra','Regions_smart', 'Regions_ultra'])\n",
    "    plt.xlabel(measure)\n",
    "    plt.title(f'Расход {service}.')\n",
    "    \n",
    "    plt.grid(True)\n",
    "    plt.subplots_adjust(hspace=0.2)\n",
    "    plt.show() \n"
   ]
  },
  {
   "cell_type": "code",
   "execution_count": 48,
   "id": "f08599bd",
   "metadata": {},
   "outputs": [
    {
     "data": {
      "image/png": "[encoded data removed]",
      "text/plain": [
       "<Figure size 1080x1440 with 9 Axes>"
      ]
     },
     "metadata": {
      "needs_background": "light"
     },
     "output_type": "display_data"
    }
   ],
   "source": [
    "service_analyze_region('sum_duration', 'минут', 'минуты', 'minutes_included')"
   ]
  },
  {
   "cell_type": "markdown",
   "id": "b2135993",
   "metadata": {},
   "source": [
    "- Поведение пользователей на тарифном плане \"смарт\" в Москве и Регионах очень похожи. Более 50% клиентов из обоих сегментов не превышают месячный лимит звонков. В Москве клиенты \"смарт\" не пропускаю звонков, что необычно - стоит проверить техническую сторону фиксации продолжительности звонка. Более 600 минут в месяц чаще тратят клиенты из Москвы, а более 800 - из Регионов, но их доля не велика. Средний ежемесячный расход минут клиентов \"смарт\" в Регионах больше чем в Москве - медиана в Москве 415, в Регионах 424 минута.\n",
    "- Клиенты \"ультра\" в Регионах пропускают очень много звонков (по сравнению с клиентами из других сегментов). Стоит обратить внимание не техническую составляющую проблемы. Средний ежемесячный расход минут клиентов \"ультра\" в Регионах меньше чем в Москве - медиана в Москве 553, в Регионах 501 минута."
   ]
  },
  {
   "cell_type": "code",
   "execution_count": 49,
   "id": "6a8ac6a2",
   "metadata": {},
   "outputs": [
    {
     "data": {
      "image/png": "[encoded data removed]",
      "text/plain": [
       "<Figure size 1080x1440 with 9 Axes>"
      ]
     },
     "metadata": {
      "needs_background": "light"
     },
     "output_type": "display_data"
    }
   ],
   "source": [
    "service_analyze_region('cnt_msg', 'смс', 'шт.', 'messages_included')"
   ]
  },
  {
   "cell_type": "code",
   "execution_count": 50,
   "id": "865c5629",
   "metadata": {
    "scrolled": true
   },
   "outputs": [
    {
     "data": {
      "text/plain": [
       "count   425.00\n",
       "mean     28.52\n",
       "std      27.36\n",
       "min       0.00\n",
       "25%       3.00\n",
       "50%      24.00\n",
       "75%      41.00\n",
       "81%      50.00\n",
       "max     109.00\n",
       "Name: cnt_msg, dtype: float64"
      ]
     },
     "execution_count": 50,
     "metadata": {},
     "output_type": "execute_result"
    }
   ],
   "source": [
    "users_profile.query('tariff == \"smart\" and capital == True')['cnt_msg'].describe(percentiles=[.25,.50,.75,.81])"
   ]
  },
  {
   "cell_type": "code",
   "execution_count": 51,
   "id": "d6cc82ff",
   "metadata": {},
   "outputs": [
    {
     "data": {
      "text/plain": [
       "count   1805.00\n",
       "mean      34.51\n",
       "std       28.32\n",
       "min        0.00\n",
       "25%       11.00\n",
       "50%       30.00\n",
       "73%       50.00\n",
       "max      143.00\n",
       "Name: cnt_msg, dtype: float64"
      ]
     },
     "execution_count": 51,
     "metadata": {},
     "output_type": "execute_result"
    }
   ],
   "source": [
    "users_profile.query('tariff == \"smart\" and capital == False')['cnt_msg'].describe(percentiles=[.25,.50,.73])"
   ]
  },
  {
   "cell_type": "markdown",
   "id": "4e120976",
   "metadata": {},
   "source": [
    "- Клиенты \"смарт\" в Москве чаще не пользуются смс, чем клиенты \"смарт\" в Регионах. А клиенты \"ультра\" наоборот.\n",
    "- Средний расход смс на тарифе \"смарт\" в Москве ниже, чем в Регионах (медиана равна 24 и 30 смс соответственно). На тарифе \"ультра\" наоборот в Москве тратят больше, чем в Регионах (медиана равна 41 и 37 смс соответственно). \n",
    "- 19% клиентов \"смарт\" в Москве и 27% в Регионах платят за смс сверх тарифа. На тарифе \"ультра\" 99% клиентов расходуют не более 200 смс в месяц (20% от лимита) и никто не платит за дополнительные смс. \n",
    "- В Москве клиенты \"смарт\" внимательнее относятся к дополнительным расходам. После 50 смс (лимит) доля клиентов, отправляющих смс, резко снижается. В регионах такого мы не наблюдаем."
   ]
  },
  {
   "cell_type": "code",
   "execution_count": 52,
   "id": "870108ab",
   "metadata": {},
   "outputs": [
    {
     "data": {
      "image/png": "[encoded data removed]",
      "text/plain": [
       "<Figure size 1080x1440 with 9 Axes>"
      ]
     },
     "metadata": {
      "needs_background": "light"
     },
     "output_type": "display_data"
    }
   ],
   "source": [
    "service_analyze_region('sum_gb', 'интернет-трафика', 'Гб', 'gb_per_month_included')"
   ]
  },
  {
   "cell_type": "code",
   "execution_count": 53,
   "id": "e988407e",
   "metadata": {},
   "outputs": [
    {
     "data": {
      "text/plain": [
       "count   1805.00\n",
       "mean      16.39\n",
       "std        5.84\n",
       "min        0.00\n",
       "25%       13.00\n",
       "35%       15.00\n",
       "50%       17.00\n",
       "75%       20.00\n",
       "max       38.00\n",
       "Name: sum_gb, dtype: float64"
      ]
     },
     "execution_count": 53,
     "metadata": {},
     "output_type": "execute_result"
    }
   ],
   "source": [
    "users_profile.query('tariff == \"smart\" and capital == False')['sum_gb'].describe(percentiles=[.25,.35,.50,.75])"
   ]
  },
  {
   "cell_type": "code",
   "execution_count": 54,
   "id": "bf62b1c6",
   "metadata": {},
   "outputs": [
    {
     "data": {
      "text/plain": [
       "count   425.00\n",
       "mean     16.04\n",
       "std       5.37\n",
       "min       1.00\n",
       "25%      13.00\n",
       "40%      15.00\n",
       "50%      16.00\n",
       "75%      20.00\n",
       "max      35.00\n",
       "Name: sum_gb, dtype: float64"
      ]
     },
     "execution_count": 54,
     "metadata": {},
     "output_type": "execute_result"
    }
   ],
   "source": [
    "users_profile.query('tariff == \"smart\" and capital == True')['sum_gb'].describe(percentiles=[.25,.40,.50,.75])"
   ]
  },
  {
   "cell_type": "code",
   "execution_count": 55,
   "id": "34ee5d38",
   "metadata": {},
   "outputs": [
    {
     "data": {
      "text/plain": [
       "count   751.00\n",
       "mean     19.04\n",
       "std       9.93\n",
       "min       0.00\n",
       "25%      12.00\n",
       "50%      19.00\n",
       "75%      26.00\n",
       "87%      30.00\n",
       "max      49.00\n",
       "Name: sum_gb, dtype: float64"
      ]
     },
     "execution_count": 55,
     "metadata": {},
     "output_type": "execute_result"
    }
   ],
   "source": [
    "users_profile.query('tariff == \"ultra\" and capital == False')['sum_gb'].describe(percentiles=[.25,.50,.75,.87])"
   ]
  },
  {
   "cell_type": "code",
   "execution_count": 56,
   "id": "89384c5d",
   "metadata": {},
   "outputs": [
    {
     "data": {
      "text/plain": [
       "count   235.00\n",
       "mean     20.86\n",
       "std       9.57\n",
       "min       1.00\n",
       "25%      13.00\n",
       "50%      21.00\n",
       "75%      28.00\n",
       "81%      30.00\n",
       "max      44.00\n",
       "Name: sum_gb, dtype: float64"
      ]
     },
     "execution_count": 56,
     "metadata": {},
     "output_type": "execute_result"
    }
   ],
   "source": [
    "users_profile.query('tariff == \"ultra\" and capital == True')['sum_gb'].describe(percentiles=[.25,.50,.75,.81])"
   ]
  },
  {
   "cell_type": "markdown",
   "id": "a7161026",
   "metadata": {},
   "source": [
    "- Клиенты \"смарт\" в Москве всреднем расходуют чуть меньше интернет-трафика чем в Регионах (медианны равны 16 и 17 Гб соответственно). Только 35% клиентов в Москве и 40% в Регионах не выходят за включенный лимит интернет-трафика. \n",
    "- Клиенты \"ультра\" в Москве расходуют всреднем больше Регионов (21 Гб против 19 Гб). 13% клиентов \"ультра\" в Москве и 19% в Регионах ежемясячно тратят более 30 Гб интернета включенного в тариф.\n",
    "- В Москве нет клиентов, которые не пользовались бы интернетом, а в Регионах есть. В регионах клиенты \"ультра\" чаще не пользуются интернетом, чем клиенты \"смарт\"."
   ]
  },
  {
   "cell_type": "markdown",
   "id": "c2ab31b0",
   "metadata": {},
   "source": [
    "### Выводы:\n",
    "- Все **клиенты из выборки** пользуются мобильной связью. Часть клиентов не использует мобильный интернет и/или отправку смс. Всреднем ежемесячно клиенты из выборки разговаривают 7.5 часов (450 минут), отправляют 30 смс и расходуют 17Гб интернет-трафика. 75% клиентов ежемесячно укладываются в тарифные лимиты по продолжительности звонков и смс. Одновременно существуют клиенты, разговаривающие более 26 часов в месяц. 25% клиентов ежемясячно перерасходуют включенный в тариф лимит интернет-трафика.\n",
    "\n",
    "Минуты разговора:\n",
    "- Поведение пользователей на тарифном плане \"смарт\" в Москве и Регионах очень похожи. Почти 50% клиентов из обоих сегментов превышают месячный лимит звонков. Среди клиентов \"смарт\" встречается расход минут более чем в 1,5 раза превышающий лимит. Средний ежемесячный расход минут клиентов \"смарт\" в Регионах больше чем в Москве на 9 минут (медиана в Москве 415 мин, в Регионах 424 минуты).\n",
    "- 99% клиентов \"ультра\" расходуют менее 50% включенных в тариф минут. Клиенты \"ультра\" никогда не платят за использованные минуты разговора сверх тарифа. Средний ежемесячный расход минут клиентов \"ультра\" в Регионах меньше чем в Москве на 50 минут (медианное время 553 мин. против 501 мин.). Клиенты \"ультра\" ожидаемо чаще расходуют более 750 минут разговора в месяц.\n",
    "- В Москве клиенты \"смарт\" не пропускаю звонков. Клиенты \"ультра\" в Регионах пропускают очень много звонков (по сравнению с клиентами из других сегментов). Стоит обратить внимание не техническую составляющую проблемы. \n",
    "\n",
    "Смс:\n",
    "- Количество клиентов, не пользующихся смс, на тарифе \"смарт\" в 1,5 раз больше, чем на тарифе \"ультра\". При этом доли таких клиентов примерно одинаковые. Клиенты \"смарт\" в Москве чаще не пользуются смс, чем клиенты \"смарт\" в Регионах. А клиенты \"ультра\" наоборот.\n",
    "- Клиенты \"смарт\" всреднем отправляют 1 смс в день или меньше. Средний расход смс на тарифе \"смарт\" в Москве ниже, чем в Регионах (медиана равна 24 и 30 смс соответственно). 25% клиентов \"смарт\" ежемясячно платят за дополнительный расход смс (19% клиентов \"смарт\" в Москве и 27% в Регионах).\n",
    "- Клиенты \"ультра\" всреднем отправляют более 1 смс в день: в Москве больше, чем в Регионах (медиана равна 41 и 37 смс соответственно). Клиенты \"ультра\" никогда не платят за смс сверх тарифа. 99% клиентов расходуют 20% смс включенных в тариф.\n",
    "- При расходе до 75 смс в месяц превалируют клиенты \"сматр\", свыше 75 смс в месяц восновном тратят клиенты \"ультра\". Более 150 смс в месяц тратят только клиенты \"ультра\". \n",
    "- В Москве клиенты \"смарт\" внимательнее относятся к дополнительным расходам. После 50 смс (лимит) доля клиентов, отправляющих смс, резко снижается. В регионах такого мы не наблюдаем.\n",
    "\n",
    "Интренет-трафик: \n",
    "- У клиентов \"смарт\" на графиках наблюдаются регулярные провалы в расходе трафика, в отличае от клиентов \"ультра\". Стоит дополнительно изучить их трафик и причины провалов.\n",
    "- Средний ежемесячный расход  интернета на тарифе \"смарт\" составляет 16 Гб, что на 1 Гб превышает включенный в тариф лимит. Клиенты \"смарт\" в Москве всреднем расходуют чуть меньше интернет-трафика чем в Регионах (медианны равны 16 и 17 Гб соответственно). 50% клиентов \"смарт\" расходуют более 17 Гб интернета в месяц, то есть оплачивают дополнительно 2 Гб и более. 25% клиентов \"смарт\" дополнительно оплачивают более 10 Гб интернета в месяц. Только 35% клиентов в Москве и 40% в Регионах не выходят за включенный лимит интернет-трафика.\n",
    "- Средний расход интернет-трафика клиентов \"ультра\" 19.5 Гб, что на 9.5 Гб меньше включенного в тариф. Клиенты \"ультра\" в Москве расходуют всреднем больше Регионов (21 Гб против 19 Гб). Т.о. 50% клиентов не платят за дополнительный объем интернета. 15% клиентов \"ультра\" платят за дополнительный расход интернет-трафика (13% клиентов \"ультра\" в Москве и 19% в Регионах ежемясячно тратят более 30 Гб интернета включенного в тариф). 25% клиентов \"ультра\" расходуют менее 12 Гб трафика.\n",
    "- В Москве нет клиентов, которые не пользовались бы интернетом, а в Регионах есть. В регионах клиенты \"ультра\" чаще не пользуются интернетом, чем клиенты \"смарт\"."
   ]
  },
  {
   "cell_type": "markdown",
   "id": "7db36ff4",
   "metadata": {},
   "source": [
    "## Анализ выручки."
   ]
  },
  {
   "cell_type": "code",
   "execution_count": 57,
   "id": "b4780672",
   "metadata": {},
   "outputs": [
    {
     "data": {
      "image/png": "[encoded data removed]",
      "text/plain": [
       "<Figure size 1080x1080 with 8 Axes>"
      ]
     },
     "metadata": {
      "needs_background": "light"
     },
     "output_type": "display_data"
    }
   ],
   "source": [
    "# задаём размер сетки для графиков\n",
    "plt.figure(figsize=(15, 15))\n",
    "    \n",
    "# в таблице графиков — два столбца и четыре строки, восемь ячеек\n",
    "# в первой строим оплату минут разговора клиентами тарифного плана smart\n",
    "ax1 = plt.subplot(4, 2, 1)\n",
    "users_profile.query('tariff == \"smart\"')['minutes_pay'].hist(\n",
    "        bins=50, ax=ax1)\n",
    " \n",
    "# рассчитываем среднее, дисперсию и среднеквадритачное отклонение\n",
    "mean1 = round(users_profile.query('tariff == \"smart\"')['minutes_pay'].mean(),2)\n",
    "median1 = round(users_profile.query('tariff == \"smart\"')['minutes_pay'].median(),2)\n",
    "var1 = round(np.var(users_profile.query('tariff == \"smart\"')['minutes_pay'], ddof=1),2)\n",
    "std1 =  round(np.std(users_profile.query('tariff == \"smart\"')['minutes_pay'], ddof=1), 2)\n",
    "# отображаем их на графике\n",
    "ax1.annotate(f'Средний расход:{mean1}\\nМедиана:{median1}\\nДисперсия:{var1}\\nСтандартное отклонение:{std1}', xy=(0.5,0.7), xycoords='axes fraction')\n",
    "\n",
    "# подписываем ось ОХ и наименование графика\n",
    "plt.xlabel('рубли')\n",
    "plt.title(f'Оплата дополнительных минут разговора \\nна тарифном плане smart.')\n",
    "    \n",
    "\n",
    "# во второй ячейке строим оплату минут разговора клиентами тарифного плана ultra\n",
    "# вертикальная ось — от графика из первой ячейки\n",
    "ax2 = plt.subplot(4, 2, 2, sharey=ax1)\n",
    "users_profile.query('tariff == \"ultra\"')['minutes_pay'].hist(\n",
    "        bins=50, ax=ax2)\n",
    "\n",
    "# рассчитываем среднее, дисперсию и среднеквадритачное отклонение\n",
    "mean2 = round(users_profile.query('tariff == \"ultra\"')['minutes_pay'].mean(),2)\n",
    "median2 = round(users_profile.query('tariff == \"ultra\"')['minutes_pay'].median(),2)\n",
    "var2 = round(np.var(users_profile.query('tariff == \"ultra\"')['minutes_pay'], ddof=1),2)\n",
    "std2 =  round(np.std(users_profile.query('tariff == \"ultra\"')['minutes_pay'], ddof=1), 2)\n",
    "    \n",
    "plt.xlabel('рубли')\n",
    "plt.title(f'Оплата дополнительных минут разговора \\nна тарифном плане ultra.')\n",
    "ax2.annotate(f'Средний расход:{mean2}\\nМедиана:{median2}\\nДисперсия:{var2}\\nСтандартное отклонение:{std2}', xy=(0.5,0.7), xycoords='axes fraction')\n",
    "\n",
    "\n",
    "# в третьей ячейке строим оплату смс клиентами тарифного плана smart\n",
    "ax3 = plt.subplot(4, 2, 3)\n",
    "users_profile.query('tariff == \"smart\"')['msg_pay'].hist(\n",
    "        bins=50, ax=ax3)\n",
    " \n",
    "# рассчитываем среднее, дисперсию и среднеквадритачное отклонение\n",
    "mean3 = round(users_profile.query('tariff == \"smart\"')['msg_pay'].mean(),2)\n",
    "median3 = round(users_profile.query('tariff == \"smart\"')['msg_pay'].median(),2)\n",
    "var3 = round(np.var(users_profile.query('tariff == \"smart\"')['msg_pay'], ddof=1),2)\n",
    "std3 =  round(np.std(users_profile.query('tariff == \"smart\"')['msg_pay'], ddof=1), 2)\n",
    "# отображаем их на графике\n",
    "ax3.annotate(f'Средний расход:{mean3}\\nМедиана:{median3}\\nДисперсия:{var3}\\nСтандартное отклонение:{std3}', xy=(0.5,0.7), xycoords='axes fraction')\n",
    "\n",
    "# подписываем ось ОХ и наименование графика\n",
    "plt.xlabel('рубли')\n",
    "plt.title(f'Оплата дополнительных смс \\nна тарифном плане smart.')\n",
    "       \n",
    "    \n",
    "# в четвертой ячейке строим оплату смс клиентами тарифного плана ultra\n",
    "# вертикальная ось — от графика из третьей ячейки\n",
    "ax4 = plt.subplot(4, 2, 4, sharey=ax3)\n",
    "users_profile.query('tariff == \"ultra\"')['msg_pay'].hist(\n",
    "        bins=50, ax=ax4)\n",
    "\n",
    "# рассчитываем среднее, дисперсию и среднеквадритачное отклонение\n",
    "mean4 = round(users_profile.query('tariff == \"ultra\"')['msg_pay'].mean(),2)\n",
    "median4 = round(users_profile.query('tariff == \"ultra\"')['msg_pay'].median(),2)\n",
    "var4 = round(np.var(users_profile.query('tariff == \"ultra\"')['msg_pay'], ddof=1),2)\n",
    "std4 =  round(np.std(users_profile.query('tariff == \"ultra\"')['msg_pay'], ddof=1), 2)\n",
    "    \n",
    "plt.xlabel('рубли')\n",
    "plt.title(f'Оплата дополнительных смс \\nна тарифном плане ultra.')\n",
    "ax4.annotate(f'Средний расход:{mean4}\\nМедиана:{median4}\\nДисперсия:{var4}\\nСтандартное отклонение:{std4}', xy=(0.5,0.7), xycoords='axes fraction')\n",
    "   \n",
    "# в пятой ячейке строим оплату доплнительного интернет-трафика клиентами тарифного плана smart\n",
    "ax5 = plt.subplot(4, 2, 5)\n",
    "users_profile.query('tariff == \"smart\"')['gb_pay'].hist(\n",
    "        bins=50, ax=ax5)\n",
    " \n",
    "# рассчитываем среднее, дисперсию и среднеквадритачное отклонение\n",
    "mean5 = round(users_profile.query('tariff == \"smart\"')['gb_pay'].mean(),2)\n",
    "median5 = round(users_profile.query('tariff == \"smart\"')['gb_pay'].median(),2)\n",
    "var5 = round(np.var(users_profile.query('tariff == \"smart\"')['gb_pay'], ddof=1),2)\n",
    "std5 =  round(np.std(users_profile.query('tariff == \"smart\"')['gb_pay'], ddof=1), 2)\n",
    "# отображаем их на графике\n",
    "ax5.annotate(f'Средний расход:{mean5}\\nМедиана:{median5}\\nДисперсия:{var5}\\nСтандартное отклонение:{std5}', xy=(0.5,0.7), xycoords='axes fraction')\n",
    "\n",
    "# подписываем ось ОХ и наименование графика\n",
    "plt.xlabel('рубли')\n",
    "plt.title(f'Оплата дополнительных Гб \\nна тарифном плане smart.')\n",
    "       \n",
    "    \n",
    "# в шестой ячейке строим оплату доплнительного интернет-трафика клиентами тарифного плана ultra\n",
    "# вертикальная ось — от графика из пятой ячейки\n",
    "ax6 = plt.subplot(4, 2, 6, sharey=ax5)\n",
    "users_profile.query('tariff == \"ultra\"')['gb_pay'].hist(\n",
    "        bins=50, ax=ax6)\n",
    "\n",
    "# рассчитываем среднее, дисперсию и среднеквадритачное отклонение\n",
    "mean6 = round(users_profile.query('tariff == \"ultra\"')['gb_pay'].mean(),2)\n",
    "median6 = round(users_profile.query('tariff == \"ultra\"')['gb_pay'].median(),2)\n",
    "var6 = round(np.var(users_profile.query('tariff == \"ultra\"')['gb_pay'], ddof=1),2)\n",
    "std6 =  round(np.std(users_profile.query('tariff == \"ultra\"')['gb_pay'], ddof=1), 2)\n",
    "    \n",
    "plt.xlabel('рубли')\n",
    "plt.title(f'Оплата дополнительных Гб \\nна тарифном плане ultra.')\n",
    "ax6.annotate(f'Средний расход:{mean6}\\nМедиана:{median6}\\nДисперсия:{var6}\\nСтандартное отклонение:{std6}', xy=(0.5,0.7), xycoords='axes fraction')\n",
    "       \n",
    "# в седьмой ячейке строим оплату  клиентами тарифного плана smart\n",
    "ax7 = plt.subplot(4, 2, 7)\n",
    "users_profile.query('tariff == \"smart\"')['month_pay'].hist(\n",
    "        bins=50, ax=ax7)\n",
    " \n",
    "# рассчитываем среднее, дисперсию и среднеквадритачное отклонение\n",
    "mean7 = round(users_profile.query('tariff == \"smart\"')['month_pay'].mean(),2)\n",
    "median7 = round(users_profile.query('tariff == \"smart\"')['month_pay'].median(),2)\n",
    "var7 = round(np.var(users_profile.query('tariff == \"smart\"')['month_pay'], ddof=1),2)\n",
    "std7 =  round(np.std(users_profile.query('tariff == \"smart\"')['month_pay'], ddof=1), 2)\n",
    "# отображаем их на графике\n",
    "ax7.annotate(f'Средний расход:{mean7}\\nМедиана:{median7}\\nДисперсия:{var7}\\nСтандартное отклонение:{std7}', xy=(0.5,0.7), xycoords='axes fraction')\n",
    "\n",
    "# подписываем ось ОХ и наименование графика\n",
    "plt.xlabel('рубли')\n",
    "plt.title(f'Оплата на тарифном плане smart.')\n",
    "       \n",
    "    \n",
    "# в восьмой ячейке строим оплату клиентами тарифного плана ultra\n",
    "# вертикальная ось — от графика из шестой ячейки\n",
    "ax8 = plt.subplot(4, 2, 8, sharey=ax7)\n",
    "users_profile.query('tariff == \"ultra\"')['month_pay'].hist(\n",
    "        bins=50, ax=ax8)\n",
    "\n",
    "# рассчитываем среднее, дисперсию и среднеквадритачное отклонение\n",
    "mean8 = round(users_profile.query('tariff == \"ultra\"')['month_pay'].mean(),2)\n",
    "median8 = round(users_profile.query('tariff == \"ultra\"')['month_pay'].median(),2)\n",
    "var8 = round(np.var(users_profile.query('tariff == \"ultra\"')['month_pay'], ddof=1),2)\n",
    "std8 =  round(np.std(users_profile.query('tariff == \"ultra\"')['month_pay'], ddof=1), 2)\n",
    "    \n",
    "plt.xlabel('рубли')\n",
    "plt.title(f'Оплата на тарифном плане ultra.')\n",
    "ax8.annotate(f'Средний расход:{mean8}\\nМедиана:{median8}\\nДисперсия:{var8}\\nСтандартное отклонение:{std8}', xy=(0.5,0.7), xycoords='axes fraction')\n",
    "     \n",
    "plt.grid(True)\n",
    "plt.tight_layout()\n",
    "plt.show() "
   ]
  },
  {
   "cell_type": "code",
   "execution_count": 58,
   "id": "32c198c7",
   "metadata": {
    "scrolled": true
   },
   "outputs": [
    {
     "data": {
      "text/plain": [
       "1.6051223597282962"
      ]
     },
     "execution_count": 58,
     "metadata": {},
     "output_type": "execute_result"
    }
   ],
   "source": [
    "mean8/mean7"
   ]
  },
  {
   "cell_type": "code",
   "execution_count": 59,
   "id": "cb913f9c",
   "metadata": {},
   "outputs": [
    {
     "data": {
      "text/plain": [
       "count   2230.00\n",
       "mean    1289.64\n",
       "std      818.37\n",
       "min      550.00\n",
       "45%      950.00\n",
       "50%     1021.00\n",
       "80%     1950.00\n",
       "max     6770.00\n",
       "Name: month_pay, dtype: float64"
      ]
     },
     "execution_count": 59,
     "metadata": {},
     "output_type": "execute_result"
    }
   ],
   "source": [
    "users_profile.query('tariff == \"smart\"')['month_pay'].describe(percentiles=[.45,.80])"
   ]
  },
  {
   "cell_type": "markdown",
   "id": "43303308",
   "metadata": {},
   "source": [
    "Клиенты тарифного плана \"смарт\" ежмесячно дополнительно платят за услуги компании: 125 рублей за минуты разговора, 18 рублей за смс и 600 рублей за интрент. Клиенты тарифного плана \"ультра\" дополнительно платят только за интернет, всреднем 120 рублей. Но за счет разницы в абонентской плате средний доход от клиентов \"ультра\" составляет 2070 рублей и превышет средний доход от клиентов \"смарт\" (1290 рублей) на 60,5%. Только 20% клиентов \"сматр\" платят сумму равную абоненсткой плате \"ультра\" или больше. Одновременно 45% клиентов \"смарт\" платят не более 950 рублей в месяц (то есть половину абонентской платы \"ультра\")"
   ]
  },
  {
   "cell_type": "code",
   "execution_count": 60,
   "id": "e1e39685",
   "metadata": {},
   "outputs": [
    {
     "data": {
      "text/plain": [
       "<AxesSubplot:title={'center':'Динамика выручки'}, xlabel='month', ylabel='рубли'>"
      ]
     },
     "execution_count": 60,
     "metadata": {},
     "output_type": "execute_result"
    },
    {
     "data": {
      "image/png": "[encoded data removed]",
      "text/plain": [
       "<Figure size 432x288 with 1 Axes>"
      ]
     },
     "metadata": {
      "needs_background": "light"
     },
     "output_type": "display_data"
    }
   ],
   "source": [
    "users_profile.pivot_table(index='month', columns='tariff', values='month_pay').plot(kind='line',\n",
    "                                                                                   grid=True,\n",
    "                                                                                   title='Динамика выручки',\n",
    "                                                                                   ylabel='рубли')"
   ]
  },
  {
   "cell_type": "markdown",
   "id": "077a5f55",
   "metadata": {},
   "source": [
    "Объем выручки за 2018 год имеет тенденцию к увеличению. Причем выручка от клиентов \"ультра\" возросла примерно на 10%, а выручка от клиентов \"смарт\" более чем на 100%."
   ]
  },
  {
   "cell_type": "code",
   "execution_count": 61,
   "id": "a2f43d16",
   "metadata": {},
   "outputs": [],
   "source": [
    "# считаем оплату сверх тарифа\n",
    "users_profile['pay'] = users_profile['minutes_pay'] + users_profile['msg_pay'] + users_profile['gb_pay']\n",
    "\n",
    "# считаем оплату по тарифу\n",
    "users_profile['tariff_pay'] = users_profile['month_pay'] - users_profile['pay']\n",
    "\n",
    "# формируем таблицу доходов от клиентов в разрезе месяца начала действия контракта, месяца платежа и типа тарифа\n",
    "users_pay = users_profile.groupby(['month','tariff'])\\\n",
    "        .agg({'pay': 'sum', 'month_pay':'sum', 'tariff_pay':'sum'})\\\n",
    "        .reset_index()\n",
    "\n",
    "# считаем долю оплаты сверх тарифа и по тарифу в выручке\n",
    "users_pay['%_extra_pay'] = round(users_pay['pay'] / users_pay['month_pay'] * 100, 2)\n",
    "users_pay['%_tariff_pay'] = round(users_pay['tariff_pay'] / users_pay['month_pay'] * 100, 2)"
   ]
  },
  {
   "cell_type": "code",
   "execution_count": 62,
   "id": "2e0d2f8f",
   "metadata": {},
   "outputs": [
    {
     "data": {
      "text/plain": [
       "<AxesSubplot:title={'center':'Динамика доли оплаты сверх тарифа'}, xlabel='month', ylabel='%'>"
      ]
     },
     "execution_count": 62,
     "metadata": {},
     "output_type": "execute_result"
    },
    {
     "data": {
      "image/png": "[encoded data removed]",
      "text/plain": [
       "<Figure size 576x288 with 1 Axes>"
      ]
     },
     "metadata": {
      "needs_background": "light"
     },
     "output_type": "display_data"
    }
   ],
   "source": [
    "# строим динамику доли оплаты сверх тарифа в доходах компании\n",
    "users_pay\\\n",
    "    .pivot_table(index='month', \n",
    "                columns=['tariff'], \n",
    "                values='%_extra_pay')\\\n",
    "    .plot(kind='bar',\n",
    "         grid=True,\n",
    "         title='Динамика доли оплаты сверх тарифа',\n",
    "         ylabel='%',\n",
    "         figsize=(8, 4))"
   ]
  },
  {
   "cell_type": "code",
   "execution_count": 63,
   "id": "f1d2c405",
   "metadata": {},
   "outputs": [
    {
     "data": {
      "text/plain": [
       "count   12.00\n",
       "mean    51.22\n",
       "std     11.95\n",
       "min     23.75\n",
       "25%     50.30\n",
       "50%     54.69\n",
       "75%     58.52\n",
       "max     65.09\n",
       "Name: %_extra_pay, dtype: float64"
      ]
     },
     "execution_count": 63,
     "metadata": {},
     "output_type": "execute_result"
    }
   ],
   "source": [
    "users_pay.query('tariff == \"smart\"')['%_extra_pay'].describe()"
   ]
  },
  {
   "cell_type": "code",
   "execution_count": 64,
   "id": "d68583cf",
   "metadata": {},
   "outputs": [
    {
     "data": {
      "text/plain": [
       "count   12.00\n",
       "mean     4.66\n",
       "std      2.65\n",
       "min      0.00\n",
       "25%      3.06\n",
       "50%      4.86\n",
       "75%      6.49\n",
       "max      8.77\n",
       "Name: %_extra_pay, dtype: float64"
      ]
     },
     "execution_count": 64,
     "metadata": {},
     "output_type": "execute_result"
    }
   ],
   "source": [
    "users_pay.query('tariff == \"ultra\"')['%_extra_pay'].describe()"
   ]
  },
  {
   "cell_type": "markdown",
   "id": "e7cc28da",
   "metadata": {},
   "source": [
    "Доля оплаты услуг сверх тарифа для тарифного плана \"ультра\" хоть и расла в течении 2018 года, но не превышает 9%. На тарифном плане \"смарт\" доля доходов от продажи услуг сверх тарифа за год выросла с 24 до 65%."
   ]
  },
  {
   "cell_type": "code",
   "execution_count": 65,
   "id": "a321d6c6",
   "metadata": {},
   "outputs": [
    {
     "data": {
      "text/plain": [
       "<AxesSubplot:title={'center':'Динамика оплаты сверх тарифа'}, xlabel='month', ylabel='рубли'>"
      ]
     },
     "execution_count": 65,
     "metadata": {},
     "output_type": "execute_result"
    },
    {
     "data": {
      "image/png": "[encoded data removed]",
      "text/plain": [
       "<Figure size 576x288 with 1 Axes>"
      ]
     },
     "metadata": {
      "needs_background": "light"
     },
     "output_type": "display_data"
    }
   ],
   "source": [
    "# строим динамику дохода за оплату услуг сверх тарифа\n",
    "users_pay\\\n",
    "    .pivot_table(index='month', \n",
    "                columns=['tariff'], \n",
    "                values='pay')\\\n",
    "    .plot(kind='bar',\n",
    "         grid=True,\n",
    "         title='Динамика оплаты сверх тарифа',\n",
    "         ylabel='рубли',\n",
    "         figsize=(8, 4))"
   ]
  },
  {
   "cell_type": "code",
   "execution_count": 66,
   "id": "a1b4b0fe",
   "metadata": {},
   "outputs": [
    {
     "data": {
      "text/plain": [
       "count       12.00\n",
       "mean    137450.08\n",
       "std     105486.89\n",
       "min       5825.00\n",
       "25%      47061.00\n",
       "50%     121361.50\n",
       "75%     196381.25\n",
       "max     346615.00\n",
       "Name: pay, dtype: float64"
      ]
     },
     "execution_count": 66,
     "metadata": {},
     "output_type": "execute_result"
    }
   ],
   "source": [
    "users_pay.query('tariff == \"smart\"')['pay'].describe()"
   ]
  },
  {
   "cell_type": "code",
   "execution_count": 67,
   "id": "423d8fff",
   "metadata": {},
   "outputs": [
    {
     "data": {
      "text/plain": [
       "59.504721030042916"
      ]
     },
     "execution_count": 67,
     "metadata": {},
     "output_type": "execute_result"
    }
   ],
   "source": [
    "users_pay.query('tariff == \"smart\"')['pay'].max()/users_pay.query('tariff == \"smart\"')['pay'].min()"
   ]
  },
  {
   "cell_type": "code",
   "execution_count": 68,
   "id": "76819f84",
   "metadata": {},
   "outputs": [
    {
     "data": {
      "text/plain": [
       "count      12.00\n",
       "mean     9862.50\n",
       "std      8104.83\n",
       "min         0.00\n",
       "25%      2737.50\n",
       "50%      8025.00\n",
       "75%     14512.50\n",
       "max     26250.00\n",
       "Name: pay, dtype: float64"
      ]
     },
     "execution_count": 68,
     "metadata": {},
     "output_type": "execute_result"
    }
   ],
   "source": [
    "users_pay.query('tariff == \"ultra\"')['pay'].describe()"
   ]
  },
  {
   "cell_type": "markdown",
   "id": "a9354b96",
   "metadata": {},
   "source": [
    "В абсолютных значениях выручка от оплаты дополнительных услуг на тарифе \"смарт\" за год выросла в 60 раз с 5800 до 346000 рублей. На тарифном плане \"ультра\"  максимальная выручка от продажи дополнительных услуг составила 26000 рублей."
   ]
  },
  {
   "cell_type": "code",
   "execution_count": 69,
   "id": "54cafcc6",
   "metadata": {},
   "outputs": [
    {
     "data": {
      "text/plain": [
       "<AxesSubplot:title={'center':'Динамика доли оплаты по тарифу'}, xlabel='month', ylabel='%'>"
      ]
     },
     "execution_count": 69,
     "metadata": {},
     "output_type": "execute_result"
    },
    {
     "data": {
      "image/png": "[encoded data removed]",
      "text/plain": [
       "<Figure size 576x288 with 1 Axes>"
      ]
     },
     "metadata": {
      "needs_background": "light"
     },
     "output_type": "display_data"
    }
   ],
   "source": [
    "# строим динамику доли оплаты по тарифу в доходах компании\n",
    "users_pay\\\n",
    "    .pivot_table(index='month', \n",
    "                columns=['tariff'], \n",
    "                values='%_tariff_pay')\\\n",
    "    .plot(kind='bar',\n",
    "         grid=True,\n",
    "         title='Динамика доли оплаты по тарифу',\n",
    "         ylabel='%',\n",
    "         figsize=(8, 4))"
   ]
  },
  {
   "cell_type": "code",
   "execution_count": 70,
   "id": "18ccc1b8",
   "metadata": {},
   "outputs": [
    {
     "data": {
      "text/plain": [
       "<AxesSubplot:title={'center':'Динамика оплаты по тарифу'}, xlabel='month', ylabel='рубли'>"
      ]
     },
     "execution_count": 70,
     "metadata": {},
     "output_type": "execute_result"
    },
    {
     "data": {
      "image/png": "[encoded data removed]",
      "text/plain": [
       "<Figure size 576x288 with 1 Axes>"
      ]
     },
     "metadata": {
      "needs_background": "light"
     },
     "output_type": "display_data"
    }
   ],
   "source": [
    "# строим динамику дохода за оплату услуг по тарифу\n",
    "users_pay\\\n",
    "    .pivot_table(index='month', \n",
    "                columns=['tariff'], \n",
    "                values='tariff_pay')\\\n",
    "    .plot(kind='bar',\n",
    "         grid=True,\n",
    "         title='Динамика оплаты по тарифу',\n",
    "         ylabel='рубли',\n",
    "         figsize=(8, 4))"
   ]
  },
  {
   "cell_type": "code",
   "execution_count": 71,
   "id": "578030e8",
   "metadata": {},
   "outputs": [
    {
     "data": {
      "text/plain": [
       "9.941176470588236"
      ]
     },
     "execution_count": 71,
     "metadata": {},
     "output_type": "execute_result"
    }
   ],
   "source": [
    "users_pay.query('tariff == \"smart\"')['tariff_pay'].max()/users_pay.query('tariff == \"smart\"')['tariff_pay'].min()"
   ]
  },
  {
   "cell_type": "code",
   "execution_count": 72,
   "id": "fc7dced5",
   "metadata": {},
   "outputs": [
    {
     "data": {
      "text/plain": [
       "15.555555555555555"
      ]
     },
     "execution_count": 72,
     "metadata": {},
     "output_type": "execute_result"
    }
   ],
   "source": [
    "users_pay.query('tariff == \"ultra\"')['tariff_pay'].max()/users_pay.query('tariff == \"ultra\"')['tariff_pay'].min()"
   ]
  },
  {
   "cell_type": "markdown",
   "id": "42ee143c",
   "metadata": {},
   "source": [
    "Не смортря на то, что в выручке компании падает доля дохода от продажи тарифов, абсолютные поступления растут для обоих тарифных планов за счет роста числа клиентов. Выручка от продажи тарифов возрасла в 10 раз на тарифном плане \"смарт\" и в 15 раз на тарифном плане \"ультра\"."
   ]
  },
  {
   "cell_type": "markdown",
   "id": "26688e22",
   "metadata": {},
   "source": [
    "### Выводы."
   ]
  },
  {
   "cell_type": "markdown",
   "id": "13039896",
   "metadata": {},
   "source": [
    "Клиенты тарифного плана \"смарт\" ежмесячно дополнительно платят за услуги компании: 125 рублей за минуты разговора, 18 рублей за смс и 600 рублей за интрент. Клиенты тарифного плана \"ультра\" дополнительно платят только за интернет, всреднем 120 рублей. Но за счет разницы в абонентской плате средний доход от клиентов \"ультра\" составляет 2070 рублей и превышет средний доход от клиентов \"смарт\" (1290 рублей) на 60,5%. Только 20% клиентов \"сматр\" платят сумму равную абоненсткой плате \"ультра\" или больше. Одновременно 45% клиентов \"смарт\" платят не более 950 рублей в месяц (то есть половину абонентской платы \"ультра\")\n",
    " \n",
    "Объем выручки за 2018 год имеет тенденцию к увеличению. Причем выручка от клиентов \"ультра\" возросла примерно на 10%, а выручка от клиентов \"смарт\" более чем на 100%.\n",
    "\n",
    "Доля оплаты услуг сверх тарифа растет: для тарифного плана \"ультра\" не превышает 9%, на тарифном плане \"смарт\" выросла с 24 до 65%. В абсолютных значениях выручка от оплаты дополнительных услуг на тарифе \"смарт\" за год выросла в 60 раз с 5800 до 346000 рублей. На тарифном плане \"ультра\"  максимальная выручка от продажи дополнительных услуг составила 26000 рублей.\n",
    "\n",
    "В выручке компании падает доля дохода от продажи тарифов, но абсолютные поступления растут для обоих тарифных планов за счет роста числа клиентов. Выручка от продажи тарифов возрасла в 10 раз на тарифном плане \"смарт\" и в 15 раз на тарифном плане \"ультра\"."
   ]
  },
  {
   "cell_type": "markdown",
   "id": "ec7befb6",
   "metadata": {},
   "source": [
    "## Проверка гипотез."
   ]
  },
  {
   "cell_type": "code",
   "execution_count": 73,
   "id": "19b8d996",
   "metadata": {
    "scrolled": true
   },
   "outputs": [
    {
     "data": {
      "text/plain": [
       "2.3557046979865772"
      ]
     },
     "execution_count": 73,
     "metadata": {},
     "output_type": "execute_result"
    }
   ],
   "source": [
    "# определяем во сколько раз больше пользователей \"смарт\" чем пользователей \"ультра\"\n",
    "users_profile.query('tariff == \"smart\"')['user_id'].nunique() / users_profile.query('tariff == \"ultra\"')['user_id'].nunique()"
   ]
  },
  {
   "cell_type": "code",
   "execution_count": 74,
   "id": "b4cebee8",
   "metadata": {},
   "outputs": [
    {
     "data": {
      "text/plain": [
       "3.7169811320754715"
      ]
     },
     "execution_count": 74,
     "metadata": {},
     "output_type": "execute_result"
    }
   ],
   "source": [
    "# определяем во сколько раз больше пользователей из Регионов чем пользователей из Москвы\n",
    "users_profile.query('capital == False')['user_id'].nunique() / users_profile.query('capital == True')['user_id'].nunique()"
   ]
  },
  {
   "cell_type": "markdown",
   "id": "65dbdeb5",
   "metadata": {},
   "source": [
    "### Гипотеза 1.\n",
    "Cредняя выручка пользователей тарифов «Ультра» и «Смарт» различаются.\n",
    "\n",
    "\n",
    "H0: средня выручка от пользователей тарифа \"Смарт\" = средней выручке от пользоватлей тарифа \"Ультра\n",
    "\n",
    "Н1: средня выручка от пользователей тарифа \"Смарт\" != средней выручке от пользоватлей тарифа \"Ультра\n",
    "\n",
    "\n",
    "Количество клиентов тарифного плана \"Смарт\" превышает количество клиентов тарифного плана \"Ультра\" в 2.4 раза. Для проверки гипотезы применим статистический тест scipy.stats.ttest_ind() с дополнительным параметром equal_var = False, который используется при неравенстве объемов выборки и дисперсий."
   ]
  },
  {
   "cell_type": "code",
   "execution_count": 75,
   "id": "18fa5d0e",
   "metadata": {},
   "outputs": [
    {
     "name": "stdout",
     "output_type": "stream",
     "text": [
      "p-значение: 1.927011394420941e-250\n"
     ]
    }
   ],
   "source": [
    "alpha = .05 # критический уровень статистической значимости\n",
    "# если p-value окажется меньше него - отвергнем гипотезу\n",
    "\n",
    "results = st.ttest_ind(\n",
    "    users_profile.query('tariff == \"smart\"')['month_pay'], \n",
    "    users_profile.query('tariff == \"ultra\"')['month_pay'],\n",
    "    equal_var = False)\n",
    "\n",
    "print('p-значение:', results.pvalue)\n"
   ]
  },
  {
   "cell_type": "markdown",
   "id": "3446e428",
   "metadata": {},
   "source": [
    "Рассчитанное р-значение в много раз меньше критического уровня статистической значимости. Значит нулевую гипотезу стоит отвергнуть и принять альтернативную гипотезу."
   ]
  },
  {
   "cell_type": "code",
   "execution_count": 76,
   "id": "c6992c8f",
   "metadata": {},
   "outputs": [
    {
     "data": {
      "text/plain": [
       "count   2230.00\n",
       "mean    1289.64\n",
       "std      818.37\n",
       "min      550.00\n",
       "25%      550.00\n",
       "50%     1021.00\n",
       "75%     1750.00\n",
       "max     6770.00\n",
       "Name: month_pay, dtype: float64"
      ]
     },
     "execution_count": 76,
     "metadata": {},
     "output_type": "execute_result"
    }
   ],
   "source": [
    "users_profile.query('tariff == \"smart\"')['month_pay'].describe()"
   ]
  },
  {
   "cell_type": "code",
   "execution_count": 77,
   "id": "b52845e2",
   "metadata": {},
   "outputs": [
    {
     "data": {
      "text/plain": [
       "count    986.00\n",
       "mean    2070.03\n",
       "std      376.02\n",
       "min     1950.00\n",
       "25%     1950.00\n",
       "50%     1950.00\n",
       "75%     1950.00\n",
       "max     4800.00\n",
       "Name: month_pay, dtype: float64"
      ]
     },
     "execution_count": 77,
     "metadata": {},
     "output_type": "execute_result"
    }
   ],
   "source": [
    "users_profile.query('tariff == \"ultra\"')['month_pay'].describe()"
   ]
  },
  {
   "cell_type": "markdown",
   "id": "6b8ad39e",
   "metadata": {},
   "source": [
    "### Гипотеза 2.\n",
    "Средняя выручка пользователей из Москвы отличается от выручки пользователей из других регионов.\n",
    "\n",
    "H0: средня выручка от пользователей из Москвы = средней выручке от пользоватлей из Регионов\n",
    "\n",
    "Н1: редня выручка от пользователей из Москвы != средней выручке от пользоватлей из Регионов\n",
    "\n",
    "\n",
    "Количество клиентов из Регионов в 3.7 раз превышает количество клиентов из Москвы. Для проверки гипотезы применим статистический тест scipy.stats.ttest_ind() с дополнительным параметром equal_var = False, который используется при неравенстве объемов выборки и дисперсий."
   ]
  },
  {
   "cell_type": "code",
   "execution_count": 78,
   "id": "839e50aa",
   "metadata": {},
   "outputs": [
    {
     "name": "stdout",
     "output_type": "stream",
     "text": [
      "p-значение: 0.8553790387533635\n"
     ]
    }
   ],
   "source": [
    "alpha = .05 # критический уровень статистической значимости\n",
    "# если p-value окажется меньше него - отвергнем гипотезу\n",
    "\n",
    "results = st.ttest_ind(\n",
    "    users_profile.query('capital == True')['month_pay'], \n",
    "    users_profile.query('capital == False')['month_pay'],\n",
    "    equal_var = False)\n",
    "\n",
    "print('p-значение:', results.pvalue)"
   ]
  },
  {
   "cell_type": "markdown",
   "id": "2ccef18c",
   "metadata": {},
   "source": [
    "Рассчитанное р-значение превышает критический уровень статистической значимости. Значит нулевую гипотезу не стоит отвергать. Существует 85.5% вероятность получить равные средние при верности нулевой гипотезы."
   ]
  },
  {
   "cell_type": "code",
   "execution_count": 79,
   "id": "2c2763ac",
   "metadata": {},
   "outputs": [
    {
     "data": {
      "text/plain": [
       "count    660.00\n",
       "mean    1524.09\n",
       "std      747.36\n",
       "min      550.00\n",
       "25%      750.00\n",
       "50%     1750.00\n",
       "75%     1950.00\n",
       "max     5321.00\n",
       "Name: month_pay, dtype: float64"
      ]
     },
     "execution_count": 79,
     "metadata": {},
     "output_type": "execute_result"
    }
   ],
   "source": [
    "users_profile.query('capital == True')['month_pay'].describe()"
   ]
  },
  {
   "cell_type": "code",
   "execution_count": 80,
   "id": "f4e7dcff",
   "metadata": {},
   "outputs": [
    {
     "data": {
      "text/plain": [
       "count   2556.00\n",
       "mean    1530.15\n",
       "std      810.98\n",
       "min      550.00\n",
       "25%      750.00\n",
       "50%     1614.00\n",
       "75%     1950.00\n",
       "max     6770.00\n",
       "Name: month_pay, dtype: float64"
      ]
     },
     "execution_count": 80,
     "metadata": {},
     "output_type": "execute_result"
    }
   ],
   "source": [
    "users_profile.query('capital == False')['month_pay'].describe()"
   ]
  },
  {
   "cell_type": "markdown",
   "id": "4f98267d",
   "metadata": {},
   "source": [
    "## Общие выводы."
   ]
  },
  {
   "cell_type": "markdown",
   "id": "2373a3e4",
   "metadata": {},
   "source": [
    "Мы исследовали данные о пользовании услугами федерального оператора сотовой связи \"Мегалайн\". В выборку попали 500 клиентов двух тарифных планов \"Смарт\" и \"Ультра\". \n",
    "\n",
    "Данные о клиентах поступили на анализ в 4 файлах: данные о пользователях (город, возраст, тарифный план, дата регистрации и т.д.), данные о продолжительности звонков, количестве отправленных смс и потраченых Мб интернет-трафика за 2018 год.\n",
    "\n",
    "В предобработке мы преобразовали даты в формат datetime; рассчитали помесячные суммарные значения для каждого клиента количества звонков и их продолжительность в минутах, количество смс, объем потраченного интернет-трафика в Гб (округлив значения в соответствии с правилами тарификации компании); объединили данные в единый датафрейм (если клиент не пользовался услугой в течении месяца, присвоили значение 0); распределили клиентов на две группы по территори проживания (Москва и МО / Регионы), посчитали суммарные ежемесячные расходы каждого клиента.\n",
    "\n",
    "Все клиенты из выборки пользуются мобильной связью. Часть клиентов не использует мобильный интернет и/или отправку смс. Всреднем ежемесячно клиенты из выборки разговаривают 7.5 часов (450 минут), отправляют 30 смс и расходуют 17Гб интернет-трафика. 25% клиентов ежемесячно перерасходуют включенные в тариф лимиты по продолжительности звонков, смс и интернет-трафика. Существуют отдельные клиенты, ежемесячно разговаривающие более 20 часов, отправляющие более 200 смс, расходующие более 40 Гб интернет-трафика. \n",
    "\n",
    "Минуты разговора:\n",
    "- Поведение пользователей на тарифном плане \"смарт\" в Москве и Регионах очень похожи. Почти 50% клиентов из обоих сегментов превышают месячный лимит звонков. Среди клиентов \"смарт\" встречается расход минут более чем в 1,5 раза превышающий лимит. Средний ежемесячный расход минут клиентов \"смарт\" в Регионах больше чем в Москве на 9 минут (медиана в Москве 415 мин, в Регионах 424 минуты).\n",
    "- 99% клиентов \"ультра\" расходуют менее 50% включенных в тариф минут. Клиенты \"ультра\" никогда не платят за использованные минуты разговора сверх тарифа. Средний ежемесячный расход минут клиентов \"ультра\" в Регионах меньше чем в Москве на 50 минут (медианное время 553 мин. против 501 мин.). Клиенты \"ультра\" ожидаемо чаще расходуют более 750 минут разговора в месяц.\n",
    "- В Москве клиенты \"смарт\" не пропускаю звонков. Клиенты \"ультра\" в Регионах пропускают очень много звонков (по сравнению с клиентами из других сегментов). Стоит обратить внимание не техническую составляющую проблемы. \n",
    "\n",
    "Смс:\n",
    "- Количество клиентов, не пользующихся смс, на тарифе \"смарт\" в 1,5 раз больше, чем на тарифе \"ультра\". При этом доли таких клиентов примерно одинаковые. Клиенты \"смарт\" в Москве чаще не пользуются смс, чем клиенты \"смарт\" в Регионах. А клиенты \"ультра\" наоборот.\n",
    "- Клиенты \"смарт\" всреднем отправляют 1 смс в день или меньше. Средний расход смс на тарифе \"смарт\" в Москве ниже, чем в Регионах (медиана равна 24 и 30 смс соответственно). 25% клиентов \"смарт\" ежемясячно платят за дополнительный расход смс (19% клиентов \"смарт\" в Москве и 27% в Регионах).\n",
    "- Клиенты \"ультра\" всреднем отправляют более 1 смс в день: в Москве больше, чем в Регионах (медиана равна 41 и 37 смс соответственно). Клиенты \"ультра\" никогда не платят за смс сверх тарифа. 99% клиентов расходуют 20% смс включенных в тариф.\n",
    "- При расходе до 75 смс в месяц превалируют клиенты \"сматр\", свыше 75 смс в месяц восновном тратят клиенты \"ультра\". Более 150 смс в месяц тратят только клиенты \"ультра\". \n",
    "- В Москве клиенты \"смарт\" внимательнее относятся к дополнительным расходам. После 50 смс (лимит) доля клиентов, отправляющих смс, резко снижается. В регионах такого мы не наблюдаем.\n",
    "\n",
    "Интренет-трафик: \n",
    "- У клиентов \"смарт\" на графиках наблюдаются регулярные провалы в расходе трафика, в отличае от клиентов \"ультра\". Стоит дополнительно изучить их трафик и причины провалов.\n",
    "- Средний ежемесячный расход  интернета на тарифе \"смарт\" составляет 16 Гб, что на 1 Гб превышает включенный в тариф лимит. Клиенты \"смарт\" в Москве всреднем расходуют чуть меньше интернет-трафика чем в Регионах (медианны равны 16 и 17 Гб соответственно). 50% клиентов \"смарт\" расходуют более 17 Гб интернета в месяц, то есть оплачивают дополнительно 2 Гб и более. 25% клиентов \"смарт\" дополнительно оплачивают более 10 Гб интернета в месяц. Только 35% клиентов в Москве и 40% в Регионах не выходят за включенный лимит интернет-трафика.\n",
    "- Средний расход интернет-трафика клиентов \"ультра\" 19.5 Гб, что на 9.5 Гб меньше включенного в тариф. Клиенты \"ультра\" в Москве расходуют всреднем больше Регионов (21 Гб против 19 Гб). Т.о. 50% клиентов не платят за дополнительный объем интернета. 15% клиентов \"ультра\" платят за дополнительный расход интернет-трафика (13% клиентов \"ультра\" в Москве и 19% в Регионах ежемясячно тратят более 30 Гб интернета включенного в тариф). 25% клиентов \"ультра\" расходуют менее 12 Гб трафика.\n",
    "- В Москве нет клиентов, которые не пользовались бы интернетом, а в Регионах есть. В регионах клиенты \"ультра\" чаще не пользуются интернетом, чем клиенты \"смарт\".\n",
    "\n",
    "Средняя выручка в Москве и регионах не различается, не смотря на то, что клиенты по-разному пользуются нашими услугами. \n",
    "\n",
    "Статистические тесты подтвердили, что средняя выручка от клиентов \"Смарт\" не равна средней выручке от клиентов \"Ультра\". Расчеты на основе выборки показали, что средняя выручка от клиентов \"Ультра\" выше, чем от клиентов \"Смарт\" на 60%. \n",
    "\n",
    "Клиенты тарифного плана \"смарт\" ежмесячно дополнительно платят за услуги компании: 125 рублей за минуты разговора, 18 рублей за смс и 600 рублей за интрент. Клиенты тарифного плана \"ультра\" дополнительно платят только за интернет, всреднем 120 рублей. Но за счет разницы в абонентской плате средний доход от клиентов \"ультра\" составляет 2070 рублей и превышет средний доход от клиентов \"смарт\" (1290 рублей) на 60,5%. Только 20% клиентов \"сматр\" платят сумму равную абоненсткой плате \"ультра\" или больше. Одновременно 45% клиентов \"смарт\" платят не более 950 рублей в месяц (то есть половину абонентской платы \"ультра\")\n",
    " \n",
    "Объем выручки за 2018 год имеет тенденцию к увеличению. Причем выручка от клиентов \"ультра\" возросла примерно на 10%, а выручка от клиентов \"смарт\" более чем на 100%.\n",
    "\n",
    "Доля оплаты услуг сверх тарифа растет: для тарифного плана \"ультра\" не превышает 9%, на тарифном плане \"смарт\" выросла с 24 до 65%. В абсолютных значениях выручка от оплаты дополнительных услуг на тарифе \"смарт\" за год выросла в 60 раз с 5800 до 346000 рублей. На тарифном плане \"ультра\"  максимальная выручка от продажи дополнительных услуг составила 26000 рублей.\n",
    "\n",
    "В выручке компании падает доля дохода от продажи тарифов, но абсолютные поступления растут для обоих тарифных планов за счет роста числа клиентов. Выручка от продажи тарифов возрасла в 10 раз на тарифном плане \"смарт\" и в 15 раз на тарифном плане \"ультра\".\n",
    "\n",
    "**Рекомендации:** Тарифный план \"смарт\" уступает тарифному плану \"ультра\" по показателю \"средний ежемесячный доход\", только за счет большой разницы в абонентской плате. Пока у компании есть резервы наращивания клиентской базы за счет тарифа \"ультра\" стоит этим пользоваться (темп роста пока устойчивый). Тарифный план \"смарт\" пользуется большей популярностью и приносит доход компании за счет оплаты услуг сверх тарифа."
   ]
  }
 ],
 "metadata": {
  "ExecuteTimeLog": [
   {
    "duration": 1303,
    "start_time": "2022-12-02T14:02:39.091Z"
   },
   {
    "duration": 81,
    "start_time": "2022-12-02T14:02:40.396Z"
   },
   {
    "duration": 235,
    "start_time": "2022-12-02T14:02:40.480Z"
   },
   {
    "duration": 161,
    "start_time": "2022-12-02T14:02:40.717Z"
   },
   {
    "duration": 14,
    "start_time": "2022-12-02T14:02:40.881Z"
   },
   {
    "duration": 1200,
    "start_time": "2022-12-02T14:02:40.900Z"
   },
   {
    "duration": 537,
    "start_time": "2022-12-02T14:02:42.102Z"
   },
   {
    "duration": 929,
    "start_time": "2022-12-02T14:02:42.640Z"
   },
   {
    "duration": 119,
    "start_time": "2022-12-02T14:02:43.572Z"
   },
   {
    "duration": 12,
    "start_time": "2022-12-02T14:02:43.693Z"
   },
   {
    "duration": 20,
    "start_time": "2022-12-02T14:02:43.707Z"
   },
   {
    "duration": 35,
    "start_time": "2022-12-02T14:02:43.728Z"
   },
   {
    "duration": 24,
    "start_time": "2022-12-02T14:02:43.768Z"
   },
   {
    "duration": 40,
    "start_time": "2022-12-02T14:02:43.799Z"
   },
   {
    "duration": 41,
    "start_time": "2022-12-02T14:02:43.841Z"
   },
   {
    "duration": 49,
    "start_time": "2022-12-02T14:02:43.883Z"
   },
   {
    "duration": 34,
    "start_time": "2022-12-02T14:02:43.934Z"
   },
   {
    "duration": 97,
    "start_time": "2022-12-02T14:02:43.970Z"
   },
   {
    "duration": 12,
    "start_time": "2022-12-02T14:02:44.069Z"
   },
   {
    "duration": 113,
    "start_time": "2022-12-02T14:02:44.083Z"
   },
   {
    "duration": 64,
    "start_time": "2022-12-02T14:02:44.201Z"
   },
   {
    "duration": 76,
    "start_time": "2022-12-02T14:02:44.268Z"
   },
   {
    "duration": 46,
    "start_time": "2022-12-02T14:02:44.346Z"
   },
   {
    "duration": 32,
    "start_time": "2022-12-02T14:02:44.395Z"
   },
   {
    "duration": 17,
    "start_time": "2022-12-02T14:02:44.430Z"
   },
   {
    "duration": 62,
    "start_time": "2022-12-02T14:02:44.449Z"
   },
   {
    "duration": 12,
    "start_time": "2022-12-02T14:02:44.513Z"
   },
   {
    "duration": 14,
    "start_time": "2022-12-02T14:02:44.527Z"
   },
   {
    "duration": 31,
    "start_time": "2022-12-02T14:02:44.543Z"
   },
   {
    "duration": 46,
    "start_time": "2022-12-02T14:02:44.577Z"
   },
   {
    "duration": 7,
    "start_time": "2022-12-02T14:02:44.625Z"
   },
   {
    "duration": 955,
    "start_time": "2022-12-02T14:02:44.633Z"
   },
   {
    "duration": 44,
    "start_time": "2022-12-02T14:02:45.590Z"
   },
   {
    "duration": 37,
    "start_time": "2022-12-02T14:02:45.636Z"
   },
   {
    "duration": 75,
    "start_time": "2022-12-02T14:02:45.675Z"
   },
   {
    "duration": 23,
    "start_time": "2022-12-02T14:02:45.754Z"
   },
   {
    "duration": 1636,
    "start_time": "2022-12-02T14:02:45.784Z"
   },
   {
    "duration": 1524,
    "start_time": "2022-12-02T14:02:47.422Z"
   },
   {
    "duration": 19,
    "start_time": "2022-12-02T14:02:48.947Z"
   },
   {
    "duration": 1570,
    "start_time": "2022-12-02T14:02:48.968Z"
   },
   {
    "duration": 33,
    "start_time": "2022-12-02T14:02:50.543Z"
   },
   {
    "duration": 46,
    "start_time": "2022-12-02T14:02:50.580Z"
   },
   {
    "duration": 58,
    "start_time": "2022-12-02T14:02:50.629Z"
   },
   {
    "duration": 2823,
    "start_time": "2022-12-02T14:02:50.689Z"
   },
   {
    "duration": 2473,
    "start_time": "2022-12-02T14:02:53.514Z"
   },
   {
    "duration": 17,
    "start_time": "2022-12-02T14:02:55.997Z"
   },
   {
    "duration": 16,
    "start_time": "2022-12-02T14:02:56.016Z"
   },
   {
    "duration": 2589,
    "start_time": "2022-12-02T14:02:56.033Z"
   },
   {
    "duration": 13,
    "start_time": "2022-12-02T14:02:58.623Z"
   },
   {
    "duration": 34,
    "start_time": "2022-12-02T14:02:58.638Z"
   },
   {
    "duration": 46,
    "start_time": "2022-12-02T14:02:58.673Z"
   },
   {
    "duration": 13,
    "start_time": "2022-12-02T14:02:58.721Z"
   },
   {
    "duration": 21,
    "start_time": "2022-12-02T14:02:58.736Z"
   },
   {
    "duration": 26,
    "start_time": "2022-12-02T14:02:58.763Z"
   },
   {
    "duration": 23,
    "start_time": "2022-12-02T14:02:58.791Z"
   },
   {
    "duration": 13,
    "start_time": "2022-12-02T14:02:58.817Z"
   },
   {
    "duration": 14,
    "start_time": "2022-12-02T14:02:58.832Z"
   },
   {
    "duration": 16,
    "start_time": "2022-12-02T14:02:58.848Z"
   },
   {
    "duration": 57,
    "start_time": "2022-12-02T14:02:58.866Z"
   },
   {
    "duration": 17,
    "start_time": "2022-12-02T14:02:58.926Z"
   },
   {
    "duration": 1061,
    "start_time": "2022-12-04T16:15:47.937Z"
   },
   {
    "duration": 62,
    "start_time": "2022-12-04T16:15:49.000Z"
   },
   {
    "duration": 126,
    "start_time": "2022-12-04T16:15:49.064Z"
   },
   {
    "duration": 101,
    "start_time": "2022-12-04T16:15:49.192Z"
   },
   {
    "duration": 7,
    "start_time": "2022-12-04T16:15:49.295Z"
   },
   {
    "duration": 534,
    "start_time": "2022-12-04T16:15:49.304Z"
   },
   {
    "duration": 441,
    "start_time": "2022-12-04T16:15:49.840Z"
   },
   {
    "duration": 403,
    "start_time": "2022-12-04T16:15:50.283Z"
   },
   {
    "duration": 82,
    "start_time": "2022-12-04T16:15:50.688Z"
   },
   {
    "duration": 10,
    "start_time": "2022-12-04T16:15:50.773Z"
   },
   {
    "duration": 14,
    "start_time": "2022-12-04T16:15:50.785Z"
   },
   {
    "duration": 25,
    "start_time": "2022-12-04T16:15:50.801Z"
   },
   {
    "duration": 33,
    "start_time": "2022-12-04T16:15:50.828Z"
   },
   {
    "duration": 21,
    "start_time": "2022-12-04T16:15:50.863Z"
   },
   {
    "duration": 222,
    "start_time": "2022-12-04T16:15:50.886Z"
   },
   {
    "duration": 18,
    "start_time": "2022-12-04T16:15:51.110Z"
   },
   {
    "duration": 204,
    "start_time": "2022-12-04T16:15:51.129Z"
   },
   {
    "duration": 20,
    "start_time": "2022-12-04T16:15:51.335Z"
   },
   {
    "duration": 9,
    "start_time": "2022-12-04T16:15:51.356Z"
   },
   {
    "duration": 19,
    "start_time": "2022-12-04T16:15:51.366Z"
   },
   {
    "duration": 17,
    "start_time": "2022-12-04T16:15:51.387Z"
   },
   {
    "duration": 19,
    "start_time": "2022-12-04T16:15:51.406Z"
   },
   {
    "duration": 72,
    "start_time": "2022-12-04T16:15:51.427Z"
   },
   {
    "duration": 7,
    "start_time": "2022-12-04T16:15:51.501Z"
   },
   {
    "duration": 73,
    "start_time": "2022-12-04T16:15:51.510Z"
   },
   {
    "duration": 34,
    "start_time": "2022-12-04T16:15:51.585Z"
   },
   {
    "duration": 58,
    "start_time": "2022-12-04T16:15:51.621Z"
   },
   {
    "duration": 24,
    "start_time": "2022-12-04T16:15:51.683Z"
   },
   {
    "duration": 14,
    "start_time": "2022-12-04T16:15:51.708Z"
   },
   {
    "duration": 32,
    "start_time": "2022-12-04T16:15:51.724Z"
   },
   {
    "duration": 10,
    "start_time": "2022-12-04T16:15:51.758Z"
   },
   {
    "duration": 7,
    "start_time": "2022-12-04T16:15:51.770Z"
   },
   {
    "duration": 12,
    "start_time": "2022-12-04T16:15:51.778Z"
   },
   {
    "duration": 10,
    "start_time": "2022-12-04T16:15:51.792Z"
   },
   {
    "duration": 7,
    "start_time": "2022-12-04T16:15:51.804Z"
   },
   {
    "duration": 701,
    "start_time": "2022-12-04T16:15:51.813Z"
   },
   {
    "duration": 43,
    "start_time": "2022-12-04T16:15:52.516Z"
   },
   {
    "duration": 17,
    "start_time": "2022-12-04T16:15:52.561Z"
   },
   {
    "duration": 39,
    "start_time": "2022-12-04T16:15:52.579Z"
   },
   {
    "duration": 11,
    "start_time": "2022-12-04T16:15:52.620Z"
   },
   {
    "duration": 1300,
    "start_time": "2022-12-04T16:15:52.655Z"
   },
   {
    "duration": 1324,
    "start_time": "2022-12-04T16:15:53.957Z"
   },
   {
    "duration": 10,
    "start_time": "2022-12-04T16:15:55.283Z"
   },
   {
    "duration": 1205,
    "start_time": "2022-12-04T16:15:55.294Z"
   },
   {
    "duration": 12,
    "start_time": "2022-12-04T16:15:56.501Z"
   },
   {
    "duration": 8,
    "start_time": "2022-12-04T16:15:56.515Z"
   },
   {
    "duration": 45,
    "start_time": "2022-12-04T16:15:56.525Z"
   },
   {
    "duration": 2161,
    "start_time": "2022-12-04T16:15:56.571Z"
   },
   {
    "duration": 2098,
    "start_time": "2022-12-04T16:15:58.735Z"
   },
   {
    "duration": 21,
    "start_time": "2022-12-04T16:16:00.835Z"
   },
   {
    "duration": 30,
    "start_time": "2022-12-04T16:16:00.857Z"
   },
   {
    "duration": 2283,
    "start_time": "2022-12-04T16:16:00.889Z"
   },
   {
    "duration": 11,
    "start_time": "2022-12-04T16:16:03.174Z"
   },
   {
    "duration": 28,
    "start_time": "2022-12-04T16:16:03.186Z"
   },
   {
    "duration": 17,
    "start_time": "2022-12-04T16:16:03.216Z"
   },
   {
    "duration": 28,
    "start_time": "2022-12-04T16:16:03.234Z"
   },
   {
    "duration": 2042,
    "start_time": "2022-12-04T16:16:03.264Z"
   },
   {
    "duration": 4,
    "start_time": "2022-12-04T16:16:05.308Z"
   },
   {
    "duration": 32,
    "start_time": "2022-12-04T16:16:05.314Z"
   },
   {
    "duration": 207,
    "start_time": "2022-12-04T16:16:05.348Z"
   },
   {
    "duration": 13,
    "start_time": "2022-12-04T16:16:05.556Z"
   },
   {
    "duration": 255,
    "start_time": "2022-12-04T16:16:05.571Z"
   },
   {
    "duration": 11,
    "start_time": "2022-12-04T16:16:05.827Z"
   },
   {
    "duration": 49,
    "start_time": "2022-12-04T16:16:05.840Z"
   },
   {
    "duration": 258,
    "start_time": "2022-12-04T16:16:05.890Z"
   },
   {
    "duration": 11,
    "start_time": "2022-12-04T16:16:06.150Z"
   },
   {
    "duration": 36,
    "start_time": "2022-12-04T16:16:06.162Z"
   },
   {
    "duration": 39,
    "start_time": "2022-12-04T16:16:06.199Z"
   },
   {
    "duration": 278,
    "start_time": "2022-12-04T16:16:06.240Z"
   },
   {
    "duration": 228,
    "start_time": "2022-12-04T16:16:06.519Z"
   },
   {
    "duration": 11,
    "start_time": "2022-12-04T16:16:06.748Z"
   },
   {
    "duration": 23,
    "start_time": "2022-12-04T16:16:06.761Z"
   },
   {
    "duration": 39,
    "start_time": "2022-12-04T16:16:06.786Z"
   },
   {
    "duration": 15,
    "start_time": "2022-12-04T16:16:06.826Z"
   },
   {
    "duration": 49,
    "start_time": "2022-12-04T16:16:06.843Z"
   },
   {
    "duration": 41,
    "start_time": "2022-12-04T16:16:06.894Z"
   },
   {
    "duration": 55,
    "start_time": "2022-12-04T16:16:06.937Z"
   },
   {
    "duration": 29,
    "start_time": "2022-12-04T16:16:06.995Z"
   },
   {
    "duration": 31,
    "start_time": "2022-12-04T16:16:07.026Z"
   },
   {
    "duration": 30,
    "start_time": "2022-12-04T16:16:07.059Z"
   },
   {
    "duration": 99,
    "start_time": "2022-12-04T16:45:14.436Z"
   },
   {
    "duration": 30,
    "start_time": "2022-12-04T16:45:19.897Z"
   },
   {
    "duration": 239,
    "start_time": "2022-12-04T16:45:42.707Z"
   },
   {
    "duration": 1077,
    "start_time": "2022-12-04T16:46:04.804Z"
   },
   {
    "duration": 62,
    "start_time": "2022-12-04T16:46:05.883Z"
   },
   {
    "duration": 65,
    "start_time": "2022-12-04T16:46:05.947Z"
   },
   {
    "duration": 52,
    "start_time": "2022-12-04T16:46:06.014Z"
   },
   {
    "duration": 7,
    "start_time": "2022-12-04T16:46:06.069Z"
   },
   {
    "duration": 516,
    "start_time": "2022-12-04T16:46:06.078Z"
   },
   {
    "duration": 247,
    "start_time": "2022-12-04T16:46:06.596Z"
   },
   {
    "duration": 326,
    "start_time": "2022-12-04T16:46:06.845Z"
   },
   {
    "duration": 70,
    "start_time": "2022-12-04T16:46:07.173Z"
   },
   {
    "duration": 15,
    "start_time": "2022-12-04T16:46:07.244Z"
   },
   {
    "duration": 17,
    "start_time": "2022-12-04T16:46:07.261Z"
   },
   {
    "duration": 20,
    "start_time": "2022-12-04T16:46:07.279Z"
   },
   {
    "duration": 13,
    "start_time": "2022-12-04T16:46:07.301Z"
   },
   {
    "duration": 38,
    "start_time": "2022-12-04T16:46:07.317Z"
   },
   {
    "duration": 211,
    "start_time": "2022-12-04T16:46:07.357Z"
   },
   {
    "duration": 14,
    "start_time": "2022-12-04T16:46:07.570Z"
   },
   {
    "duration": 188,
    "start_time": "2022-12-04T16:46:07.586Z"
   },
   {
    "duration": 13,
    "start_time": "2022-12-04T16:46:07.775Z"
   },
   {
    "duration": 8,
    "start_time": "2022-12-04T16:46:07.790Z"
   },
   {
    "duration": 22,
    "start_time": "2022-12-04T16:46:07.799Z"
   },
   {
    "duration": 40,
    "start_time": "2022-12-04T16:46:07.823Z"
   },
   {
    "duration": 23,
    "start_time": "2022-12-04T16:46:07.864Z"
   },
   {
    "duration": 58,
    "start_time": "2022-12-04T16:46:07.889Z"
   },
   {
    "duration": 8,
    "start_time": "2022-12-04T16:46:07.949Z"
   },
   {
    "duration": 61,
    "start_time": "2022-12-04T16:46:07.959Z"
   },
   {
    "duration": 46,
    "start_time": "2022-12-04T16:46:08.021Z"
   },
   {
    "duration": 50,
    "start_time": "2022-12-04T16:46:08.069Z"
   },
   {
    "duration": 43,
    "start_time": "2022-12-04T16:46:08.120Z"
   },
   {
    "duration": 14,
    "start_time": "2022-12-04T16:46:08.164Z"
   },
   {
    "duration": 13,
    "start_time": "2022-12-04T16:46:08.180Z"
   },
   {
    "duration": 15,
    "start_time": "2022-12-04T16:46:08.194Z"
   },
   {
    "duration": 9,
    "start_time": "2022-12-04T16:46:08.211Z"
   },
   {
    "duration": 33,
    "start_time": "2022-12-04T16:46:08.222Z"
   },
   {
    "duration": 10,
    "start_time": "2022-12-04T16:46:08.257Z"
   },
   {
    "duration": 7,
    "start_time": "2022-12-04T16:46:08.268Z"
   },
   {
    "duration": 668,
    "start_time": "2022-12-04T16:46:08.276Z"
   },
   {
    "duration": 50,
    "start_time": "2022-12-04T16:46:08.946Z"
   },
   {
    "duration": 15,
    "start_time": "2022-12-04T16:46:08.997Z"
   },
   {
    "duration": 51,
    "start_time": "2022-12-04T16:46:09.013Z"
   },
   {
    "duration": 10,
    "start_time": "2022-12-04T16:46:09.066Z"
   },
   {
    "duration": 1337,
    "start_time": "2022-12-04T16:46:09.081Z"
   },
   {
    "duration": 1421,
    "start_time": "2022-12-04T16:46:10.420Z"
   },
   {
    "duration": 17,
    "start_time": "2022-12-04T16:46:11.843Z"
   },
   {
    "duration": 1349,
    "start_time": "2022-12-04T16:46:11.861Z"
   },
   {
    "duration": 13,
    "start_time": "2022-12-04T16:46:13.212Z"
   },
   {
    "duration": 52,
    "start_time": "2022-12-04T16:46:13.226Z"
   },
   {
    "duration": 24,
    "start_time": "2022-12-04T16:46:13.280Z"
   },
   {
    "duration": 2418,
    "start_time": "2022-12-04T16:46:13.308Z"
   },
   {
    "duration": 2165,
    "start_time": "2022-12-04T16:46:15.727Z"
   },
   {
    "duration": 11,
    "start_time": "2022-12-04T16:46:17.894Z"
   },
   {
    "duration": 18,
    "start_time": "2022-12-04T16:46:17.907Z"
   },
   {
    "duration": 2294,
    "start_time": "2022-12-04T16:46:17.927Z"
   },
   {
    "duration": 13,
    "start_time": "2022-12-04T16:46:20.223Z"
   },
   {
    "duration": 23,
    "start_time": "2022-12-04T16:46:20.238Z"
   },
   {
    "duration": 20,
    "start_time": "2022-12-04T16:46:20.263Z"
   },
   {
    "duration": 11,
    "start_time": "2022-12-04T16:46:20.285Z"
   },
   {
    "duration": 2140,
    "start_time": "2022-12-04T16:46:20.299Z"
   },
   {
    "duration": 14,
    "start_time": "2022-12-04T16:46:22.441Z"
   },
   {
    "duration": 21,
    "start_time": "2022-12-04T16:46:22.458Z"
   },
   {
    "duration": 208,
    "start_time": "2022-12-04T16:46:22.481Z"
   },
   {
    "duration": 14,
    "start_time": "2022-12-04T16:46:22.691Z"
   },
   {
    "duration": 262,
    "start_time": "2022-12-04T16:46:22.707Z"
   },
   {
    "duration": 11,
    "start_time": "2022-12-04T16:46:22.971Z"
   },
   {
    "duration": 17,
    "start_time": "2022-12-04T16:46:22.984Z"
   },
   {
    "duration": 278,
    "start_time": "2022-12-04T16:46:23.003Z"
   },
   {
    "duration": 11,
    "start_time": "2022-12-04T16:46:23.283Z"
   },
   {
    "duration": 13,
    "start_time": "2022-12-04T16:46:23.296Z"
   },
   {
    "duration": 11,
    "start_time": "2022-12-04T16:46:23.311Z"
   },
   {
    "duration": 261,
    "start_time": "2022-12-04T16:46:23.324Z"
   },
   {
    "duration": 267,
    "start_time": "2022-12-04T16:46:23.587Z"
   },
   {
    "duration": 239,
    "start_time": "2022-12-04T16:46:23.856Z"
   },
   {
    "duration": 29,
    "start_time": "2022-12-04T16:46:24.097Z"
   },
   {
    "duration": 9,
    "start_time": "2022-12-04T16:46:24.127Z"
   },
   {
    "duration": 24,
    "start_time": "2022-12-04T16:46:24.137Z"
   },
   {
    "duration": 17,
    "start_time": "2022-12-04T16:46:24.163Z"
   },
   {
    "duration": 32,
    "start_time": "2022-12-04T16:46:24.181Z"
   },
   {
    "duration": 10,
    "start_time": "2022-12-04T16:46:24.215Z"
   },
   {
    "duration": 21,
    "start_time": "2022-12-04T16:46:24.227Z"
   },
   {
    "duration": 18,
    "start_time": "2022-12-04T16:46:24.250Z"
   },
   {
    "duration": 9,
    "start_time": "2022-12-04T16:46:24.270Z"
   },
   {
    "duration": 20,
    "start_time": "2022-12-04T16:46:24.281Z"
   },
   {
    "duration": 11,
    "start_time": "2022-12-04T16:46:24.302Z"
   }
  ],
  "kernelspec": {
   "display_name": "Python 3 (ipykernel)",
   "language": "python",
   "name": "python3"
  },
  "language_info": {
   "codemirror_mode": {
    "name": "ipython",
    "version": 3
   },
   "file_extension": ".py",
   "mimetype": "text/x-python",
   "name": "python",
   "nbconvert_exporter": "python",
   "pygments_lexer": "ipython3",
   "version": "3.9.12"
  },
  "toc": {
   "base_numbering": 1,
   "nav_menu": {},
   "number_sections": true,
   "sideBar": true,
   "skip_h1_title": true,
   "title_cell": "Table of Contents",
   "title_sidebar": "Contents",
   "toc_cell": true,
   "toc_position": {
    "height": "calc(100% - 180px)",
    "left": "10px",
    "top": "150px",
    "width": "165px"
   },
   "toc_section_display": true,
   "toc_window_display": true
  }
 },
 "nbformat": 4,
 "nbformat_minor": 5
}

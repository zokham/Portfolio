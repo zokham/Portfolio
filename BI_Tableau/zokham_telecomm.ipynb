{
 "cells": [
  {
   "cell_type": "markdown",
   "id": "c5406d17",
   "metadata": {
    "toc": true
   },
   "source": [
    "<h1>Table of Contents<span class=\"tocSkip\"></span></h1>\n",
    "<div class=\"toc\"><ul class=\"toc-item\"><li><span><a href=\"#Подключение-к-БД-и-выгрузка-данных\" data-toc-modified-id=\"Подключение-к-БД-и-выгрузка-данных-1\"><span class=\"toc-item-num\">1&nbsp;&nbsp;</span>Подключение к БД и выгрузка данных</a></span><ul class=\"toc-item\"><li><span><a href=\"#Обзор-данных\" data-toc-modified-id=\"Обзор-данных-1.1\"><span class=\"toc-item-num\">1.1&nbsp;&nbsp;</span>Обзор данных</a></span></li><li><span><a href=\"#Итоговый-запрос-к-БД\" data-toc-modified-id=\"Итоговый-запрос-к-БД-1.2\"><span class=\"toc-item-num\">1.2&nbsp;&nbsp;</span>Итоговый запрос к БД</a></span></li></ul></li><li><span><a href=\"#Дашборд-и-презентация\" data-toc-modified-id=\"Дашборд-и-презентация-2\"><span class=\"toc-item-num\">2&nbsp;&nbsp;</span>Дашборд и презентация</a></span></li></ul></div>"
   ]
  },
  {
   "cell_type": "markdown",
   "id": "33d6e87e",
   "metadata": {},
   "source": [
    "# Определение уровня лояльности клиентов"
   ]
  },
  {
   "cell_type": "markdown",
   "id": "970fa13c",
   "metadata": {},
   "source": [
    "Заказчик - большая телекоммуникационная компания, оказывающая услуги на территории СНГ. \n",
    "\n",
    "Необходимо определить текущий уровень потребительской лояльности, или NPS, среди клиентов из России. Проведен опрос. Клиенты компании отвечали на вопрос «Оцените по шкале от 1 до 10 вероятность того, что вы порекомендуете компанию друзьям и знакомым». Результаты опроса хранятся в БД SQLite в файле telecomm_csi.db.\n",
    "\n",
    "Цели исследования: \n",
    "- составить портрет пользователей, участвующих в опросе;\n",
    "- рассчитать NPS;\n",
    "- составить портреть лояльного пользователя.\n",
    "\n",
    "Задачи исследования: разработать макет дашборда и построить его в Tableau, составить отчет для клиента в формате презентации.\n"
   ]
  },
  {
   "cell_type": "code",
   "execution_count": 1,
   "id": "cc3ffe3a",
   "metadata": {},
   "outputs": [],
   "source": [
    "import pandas as pd\n",
    "import os \n",
    "from sqlalchemy import create_engine\n",
    "\n",
    "path_to_db = '/Users/----/----.db' # путь к файлу\n",
    "path_ya = '/----.db'\n",
    "\n",
    "if os.path.exists(path_ya): # проверка наличия файла в облаке\n",
    "    engine = create_engine(f'sqlite:///{path_ya}', echo = False) #подключение к бд\n",
    "else:\n",
    "    try:\n",
    "        engine = create_engine(f'sqlite:///{path_to_db}', echo = False)\n",
    "    except:\n",
    "        display('Проверьте наличие файла на локальном хранилище!')"
   ]
  },
  {
   "cell_type": "markdown",
   "id": "bc2f7d81",
   "metadata": {},
   "source": [
    "### Обзор данных"
   ]
  },
  {
   "cell_type": "markdown",
   "id": "b76e51d2",
   "metadata": {},
   "source": [
    "Посмотрим на информацию из БД."
   ]
  },
  {
   "cell_type": "code",
   "execution_count": 2,
   "id": "34afc62a",
   "metadata": {},
   "outputs": [
    {
     "data": {
      "text/html": [
       "<div>\n",
       "<style scoped>\n",
       "    .dataframe tbody tr th:only-of-type {\n",
       "        vertical-align: middle;\n",
       "    }\n",
       "\n",
       "    .dataframe tbody tr th {\n",
       "        vertical-align: top;\n",
       "    }\n",
       "\n",
       "    .dataframe thead th {\n",
       "        text-align: right;\n",
       "    }\n",
       "</style>\n",
       "<table border=\"1\" class=\"dataframe\">\n",
       "  <thead>\n",
       "    <tr style=\"text-align: right;\">\n",
       "      <th></th>\n",
       "      <th>location_id</th>\n",
       "      <th>city</th>\n",
       "      <th>country</th>\n",
       "    </tr>\n",
       "  </thead>\n",
       "  <tbody>\n",
       "    <tr>\n",
       "      <th>0</th>\n",
       "      <td>1</td>\n",
       "      <td>Архангельск</td>\n",
       "      <td>Россия</td>\n",
       "    </tr>\n",
       "    <tr>\n",
       "      <th>1</th>\n",
       "      <td>2</td>\n",
       "      <td>Астрахань</td>\n",
       "      <td>Россия</td>\n",
       "    </tr>\n",
       "    <tr>\n",
       "      <th>2</th>\n",
       "      <td>3</td>\n",
       "      <td>Балашиха</td>\n",
       "      <td>Россия</td>\n",
       "    </tr>\n",
       "    <tr>\n",
       "      <th>3</th>\n",
       "      <td>4</td>\n",
       "      <td>Барнаул</td>\n",
       "      <td>Россия</td>\n",
       "    </tr>\n",
       "    <tr>\n",
       "      <th>4</th>\n",
       "      <td>5</td>\n",
       "      <td>Белгород</td>\n",
       "      <td>Россия</td>\n",
       "    </tr>\n",
       "  </tbody>\n",
       "</table>\n",
       "</div>"
      ],
      "text/plain": [
       "   location_id         city country\n",
       "0            1  Архангельск  Россия\n",
       "1            2    Астрахань  Россия\n",
       "2            3     Балашиха  Россия\n",
       "3            4      Барнаул  Россия\n",
       "4            5     Белгород  Россия"
      ]
     },
     "execution_count": 2,
     "metadata": {},
     "output_type": "execute_result"
    }
   ],
   "source": [
    "query = \"\"\"\n",
    "SELECT *\n",
    "FROM location\n",
    "\"\"\"\n",
    "df = pd.read_sql(query, engine)\n",
    "df.head()"
   ]
  },
  {
   "cell_type": "code",
   "execution_count": 3,
   "id": "0314f09a",
   "metadata": {},
   "outputs": [
    {
     "name": "stdout",
     "output_type": "stream",
     "text": [
      "62\n",
      "62\n",
      "1\n"
     ]
    }
   ],
   "source": [
    "for col in df.columns:\n",
    "    print(df[col].sort_values().nunique())"
   ]
  },
  {
   "cell_type": "markdown",
   "id": "97c7c29d",
   "metadata": {},
   "source": [
    "Все клиенты из России. Количество городов и их идентификаторов совпадает и составляет 62 наименования."
   ]
  },
  {
   "cell_type": "code",
   "execution_count": 4,
   "id": "441c3017",
   "metadata": {},
   "outputs": [
    {
     "data": {
      "text/plain": [
       "array(['Архангельск', 'Астрахань', 'Балашиха', 'Барнаул', 'Белгород',\n",
       "       'Брянск', 'Владивосток', 'Владимир', 'Волгоград', 'Волжский',\n",
       "       'Воронеж', 'Грозный', 'Екатеринбург', 'Иваново', 'Ижевск',\n",
       "       'Иркутск', 'Казань', 'Калининград', 'Калуга', 'Кемерово', 'Киров',\n",
       "       'Краснодар', 'Красноярск', 'Курск', 'Липецк', 'Магнитогорск',\n",
       "       'Махачкала', 'Москва', 'НабережныеЧелны', 'НижнийНовгород',\n",
       "       'НижнийТагил', 'Новокузнецк', 'Новосибирск', 'Омск', 'Оренбург',\n",
       "       'Пенза', 'Пермь', 'РостовнаДону', 'Рязань', 'Самара',\n",
       "       'СанктПетербург', 'Саранск', 'Саратов', 'Смоленск', 'Сочи',\n",
       "       'Ставрополь', 'Сургут', 'Тверь', 'Тольятти', 'Томск', 'Тула',\n",
       "       'Тюмень', 'УланУдэ', 'Ульяновск', 'Уфа', 'Хабаровск', 'Чебоксары',\n",
       "       'Челябинск', 'Череповец', 'Чита', 'Якутск', 'Ярославль'],\n",
       "      dtype=object)"
      ]
     },
     "execution_count": 4,
     "metadata": {},
     "output_type": "execute_result"
    }
   ],
   "source": [
    "df['city'].sort_values().unique()"
   ]
  },
  {
   "cell_type": "markdown",
   "id": "7a0c1627",
   "metadata": {},
   "source": [
    "Неявных дубликатов в наименования нет."
   ]
  },
  {
   "cell_type": "code",
   "execution_count": 5,
   "id": "998e691e",
   "metadata": {},
   "outputs": [
    {
     "data": {
      "text/html": [
       "<div>\n",
       "<style scoped>\n",
       "    .dataframe tbody tr th:only-of-type {\n",
       "        vertical-align: middle;\n",
       "    }\n",
       "\n",
       "    .dataframe tbody tr th {\n",
       "        vertical-align: top;\n",
       "    }\n",
       "\n",
       "    .dataframe thead th {\n",
       "        text-align: right;\n",
       "    }\n",
       "</style>\n",
       "<table border=\"1\" class=\"dataframe\">\n",
       "  <thead>\n",
       "    <tr style=\"text-align: right;\">\n",
       "      <th></th>\n",
       "      <th>age_gr_id</th>\n",
       "      <th>bucket_min</th>\n",
       "      <th>bucket_max</th>\n",
       "      <th>title</th>\n",
       "    </tr>\n",
       "  </thead>\n",
       "  <tbody>\n",
       "    <tr>\n",
       "      <th>0</th>\n",
       "      <td>1</td>\n",
       "      <td>NaN</td>\n",
       "      <td>15.0</td>\n",
       "      <td>01 до 16</td>\n",
       "    </tr>\n",
       "    <tr>\n",
       "      <th>1</th>\n",
       "      <td>2</td>\n",
       "      <td>16.0</td>\n",
       "      <td>24.0</td>\n",
       "      <td>02 16-24</td>\n",
       "    </tr>\n",
       "    <tr>\n",
       "      <th>2</th>\n",
       "      <td>3</td>\n",
       "      <td>25.0</td>\n",
       "      <td>34.0</td>\n",
       "      <td>03 25-34</td>\n",
       "    </tr>\n",
       "    <tr>\n",
       "      <th>3</th>\n",
       "      <td>4</td>\n",
       "      <td>35.0</td>\n",
       "      <td>44.0</td>\n",
       "      <td>04 35-44</td>\n",
       "    </tr>\n",
       "    <tr>\n",
       "      <th>4</th>\n",
       "      <td>5</td>\n",
       "      <td>45.0</td>\n",
       "      <td>54.0</td>\n",
       "      <td>05 45-54</td>\n",
       "    </tr>\n",
       "    <tr>\n",
       "      <th>5</th>\n",
       "      <td>6</td>\n",
       "      <td>55.0</td>\n",
       "      <td>64.0</td>\n",
       "      <td>06 55-64</td>\n",
       "    </tr>\n",
       "    <tr>\n",
       "      <th>6</th>\n",
       "      <td>7</td>\n",
       "      <td>66.0</td>\n",
       "      <td>NaN</td>\n",
       "      <td>07 66 +</td>\n",
       "    </tr>\n",
       "    <tr>\n",
       "      <th>7</th>\n",
       "      <td>8</td>\n",
       "      <td>NaN</td>\n",
       "      <td>NaN</td>\n",
       "      <td>08 n/a</td>\n",
       "    </tr>\n",
       "  </tbody>\n",
       "</table>\n",
       "</div>"
      ],
      "text/plain": [
       "   age_gr_id  bucket_min  bucket_max     title\n",
       "0          1         NaN        15.0  01 до 16\n",
       "1          2        16.0        24.0  02 16-24\n",
       "2          3        25.0        34.0  03 25-34\n",
       "3          4        35.0        44.0  04 35-44\n",
       "4          5        45.0        54.0  05 45-54\n",
       "5          6        55.0        64.0  06 55-64\n",
       "6          7        66.0         NaN   07 66 +\n",
       "7          8         NaN         NaN    08 n/a"
      ]
     },
     "execution_count": 5,
     "metadata": {},
     "output_type": "execute_result"
    }
   ],
   "source": [
    "query = \"\"\"\n",
    "SELECT *\n",
    "FROM age_segment\n",
    "\"\"\"\n",
    "df = pd.read_sql(query, engine)\n",
    "df"
   ]
  },
  {
   "cell_type": "code",
   "execution_count": 6,
   "id": "652d9d4b",
   "metadata": {},
   "outputs": [
    {
     "name": "stdout",
     "output_type": "stream",
     "text": [
      "8 [1 2 3 4 5 6 7 8]\n",
      "6 [16. 25. 35. 45. 55. 66. nan]\n",
      "6 [15. 24. 34. 44. 54. 64. nan]\n",
      "8 ['01 до 16' '02 16-24' '03 25-34' '04 35-44' '05 45-54' '06 55-64'\n",
      " '07 66 +' '08 n/a']\n"
     ]
    }
   ],
   "source": [
    "for col in df.columns:\n",
    "    print(df[col].sort_values().nunique(), df[col].sort_values().unique())"
   ]
  },
  {
   "cell_type": "markdown",
   "id": "6b47c4f0",
   "metadata": {},
   "source": [
    "Имеется 8 возрастных групп, в том числе для неуказавших возраст клиентов. \n",
    "\n",
    "Возраст 65 лет, вероятно по ошибке, не включен ни в одну возрастную группу. Необходимо проверить, есть ли клиенты с таким возрастом и какой идентификатор группы им проставлен.\n",
    "\n",
    "В наименовании группы есть префикс идентификатора. Следует его удалить."
   ]
  },
  {
   "cell_type": "code",
   "execution_count": 7,
   "id": "b5a5c03f",
   "metadata": {},
   "outputs": [
    {
     "data": {
      "text/html": [
       "<div>\n",
       "<style scoped>\n",
       "    .dataframe tbody tr th:only-of-type {\n",
       "        vertical-align: middle;\n",
       "    }\n",
       "\n",
       "    .dataframe tbody tr th {\n",
       "        vertical-align: top;\n",
       "    }\n",
       "\n",
       "    .dataframe thead th {\n",
       "        text-align: right;\n",
       "    }\n",
       "</style>\n",
       "<table border=\"1\" class=\"dataframe\">\n",
       "  <thead>\n",
       "    <tr style=\"text-align: right;\">\n",
       "      <th></th>\n",
       "      <th>tr_gr_id</th>\n",
       "      <th>bucket_min</th>\n",
       "      <th>bucket_max</th>\n",
       "      <th>title</th>\n",
       "    </tr>\n",
       "  </thead>\n",
       "  <tbody>\n",
       "    <tr>\n",
       "      <th>0</th>\n",
       "      <td>1</td>\n",
       "      <td>0.00</td>\n",
       "      <td>0.00</td>\n",
       "      <td>01 0</td>\n",
       "    </tr>\n",
       "    <tr>\n",
       "      <th>1</th>\n",
       "      <td>2</td>\n",
       "      <td>0.00</td>\n",
       "      <td>0.01</td>\n",
       "      <td>01 0-0.01</td>\n",
       "    </tr>\n",
       "    <tr>\n",
       "      <th>2</th>\n",
       "      <td>3</td>\n",
       "      <td>0.01</td>\n",
       "      <td>0.10</td>\n",
       "      <td>02 0.01-0.1</td>\n",
       "    </tr>\n",
       "    <tr>\n",
       "      <th>3</th>\n",
       "      <td>4</td>\n",
       "      <td>0.10</td>\n",
       "      <td>1.00</td>\n",
       "      <td>03 0.1-1</td>\n",
       "    </tr>\n",
       "    <tr>\n",
       "      <th>4</th>\n",
       "      <td>5</td>\n",
       "      <td>1.00</td>\n",
       "      <td>5.00</td>\n",
       "      <td>04 1-5</td>\n",
       "    </tr>\n",
       "    <tr>\n",
       "      <th>5</th>\n",
       "      <td>6</td>\n",
       "      <td>5.00</td>\n",
       "      <td>10.00</td>\n",
       "      <td>05 5-10</td>\n",
       "    </tr>\n",
       "    <tr>\n",
       "      <th>6</th>\n",
       "      <td>7</td>\n",
       "      <td>10.00</td>\n",
       "      <td>15.00</td>\n",
       "      <td>06 10-15</td>\n",
       "    </tr>\n",
       "    <tr>\n",
       "      <th>7</th>\n",
       "      <td>8</td>\n",
       "      <td>15.00</td>\n",
       "      <td>20.00</td>\n",
       "      <td>07 15-20</td>\n",
       "    </tr>\n",
       "    <tr>\n",
       "      <th>8</th>\n",
       "      <td>9</td>\n",
       "      <td>20.00</td>\n",
       "      <td>25.00</td>\n",
       "      <td>08 20-25</td>\n",
       "    </tr>\n",
       "    <tr>\n",
       "      <th>9</th>\n",
       "      <td>10</td>\n",
       "      <td>25.00</td>\n",
       "      <td>30.00</td>\n",
       "      <td>09 25-30</td>\n",
       "    </tr>\n",
       "    <tr>\n",
       "      <th>10</th>\n",
       "      <td>11</td>\n",
       "      <td>30.00</td>\n",
       "      <td>35.00</td>\n",
       "      <td>10 30-35</td>\n",
       "    </tr>\n",
       "    <tr>\n",
       "      <th>11</th>\n",
       "      <td>12</td>\n",
       "      <td>35.00</td>\n",
       "      <td>40.00</td>\n",
       "      <td>11 35-40</td>\n",
       "    </tr>\n",
       "    <tr>\n",
       "      <th>12</th>\n",
       "      <td>13</td>\n",
       "      <td>40.00</td>\n",
       "      <td>45.00</td>\n",
       "      <td>12 40-45</td>\n",
       "    </tr>\n",
       "    <tr>\n",
       "      <th>13</th>\n",
       "      <td>14</td>\n",
       "      <td>45.00</td>\n",
       "      <td>50.00</td>\n",
       "      <td>13 45-50</td>\n",
       "    </tr>\n",
       "    <tr>\n",
       "      <th>14</th>\n",
       "      <td>15</td>\n",
       "      <td>50.00</td>\n",
       "      <td>55.00</td>\n",
       "      <td>14 50-55</td>\n",
       "    </tr>\n",
       "    <tr>\n",
       "      <th>15</th>\n",
       "      <td>16</td>\n",
       "      <td>55.00</td>\n",
       "      <td>60.00</td>\n",
       "      <td>15 55-60</td>\n",
       "    </tr>\n",
       "    <tr>\n",
       "      <th>16</th>\n",
       "      <td>17</td>\n",
       "      <td>60.00</td>\n",
       "      <td>65.00</td>\n",
       "      <td>16 60-65</td>\n",
       "    </tr>\n",
       "    <tr>\n",
       "      <th>17</th>\n",
       "      <td>18</td>\n",
       "      <td>65.00</td>\n",
       "      <td>70.00</td>\n",
       "      <td>17 65-70</td>\n",
       "    </tr>\n",
       "    <tr>\n",
       "      <th>18</th>\n",
       "      <td>19</td>\n",
       "      <td>70.00</td>\n",
       "      <td>75.00</td>\n",
       "      <td>18 70-75</td>\n",
       "    </tr>\n",
       "    <tr>\n",
       "      <th>19</th>\n",
       "      <td>20</td>\n",
       "      <td>75.00</td>\n",
       "      <td>80.00</td>\n",
       "      <td>19 75-80</td>\n",
       "    </tr>\n",
       "    <tr>\n",
       "      <th>20</th>\n",
       "      <td>21</td>\n",
       "      <td>80.00</td>\n",
       "      <td>85.00</td>\n",
       "      <td>20 80-85</td>\n",
       "    </tr>\n",
       "    <tr>\n",
       "      <th>21</th>\n",
       "      <td>22</td>\n",
       "      <td>85.00</td>\n",
       "      <td>90.00</td>\n",
       "      <td>21 85-90</td>\n",
       "    </tr>\n",
       "    <tr>\n",
       "      <th>22</th>\n",
       "      <td>23</td>\n",
       "      <td>90.00</td>\n",
       "      <td>95.00</td>\n",
       "      <td>22 90-95</td>\n",
       "    </tr>\n",
       "    <tr>\n",
       "      <th>23</th>\n",
       "      <td>24</td>\n",
       "      <td>95.00</td>\n",
       "      <td>100.00</td>\n",
       "      <td>23 95-100</td>\n",
       "    </tr>\n",
       "    <tr>\n",
       "      <th>24</th>\n",
       "      <td>25</td>\n",
       "      <td>100.00</td>\n",
       "      <td>NaN</td>\n",
       "      <td>24 100+</td>\n",
       "    </tr>\n",
       "  </tbody>\n",
       "</table>\n",
       "</div>"
      ],
      "text/plain": [
       "    tr_gr_id  bucket_min  bucket_max        title\n",
       "0          1        0.00        0.00         01 0\n",
       "1          2        0.00        0.01    01 0-0.01\n",
       "2          3        0.01        0.10  02 0.01-0.1\n",
       "3          4        0.10        1.00     03 0.1-1\n",
       "4          5        1.00        5.00       04 1-5\n",
       "5          6        5.00       10.00      05 5-10\n",
       "6          7       10.00       15.00     06 10-15\n",
       "7          8       15.00       20.00     07 15-20\n",
       "8          9       20.00       25.00     08 20-25\n",
       "9         10       25.00       30.00     09 25-30\n",
       "10        11       30.00       35.00     10 30-35\n",
       "11        12       35.00       40.00     11 35-40\n",
       "12        13       40.00       45.00     12 40-45\n",
       "13        14       45.00       50.00     13 45-50\n",
       "14        15       50.00       55.00     14 50-55\n",
       "15        16       55.00       60.00     15 55-60\n",
       "16        17       60.00       65.00     16 60-65\n",
       "17        18       65.00       70.00     17 65-70\n",
       "18        19       70.00       75.00     18 70-75\n",
       "19        20       75.00       80.00     19 75-80\n",
       "20        21       80.00       85.00     20 80-85\n",
       "21        22       85.00       90.00     21 85-90\n",
       "22        23       90.00       95.00     22 90-95\n",
       "23        24       95.00      100.00    23 95-100\n",
       "24        25      100.00         NaN      24 100+"
      ]
     },
     "execution_count": 7,
     "metadata": {},
     "output_type": "execute_result"
    }
   ],
   "source": [
    "query = \"\"\"\n",
    "SELECT *\n",
    "FROM traffic_segment\n",
    "\"\"\"\n",
    "df = pd.read_sql(query, engine)\n",
    "df"
   ]
  },
  {
   "cell_type": "markdown",
   "id": "ca4b6dcc",
   "metadata": {},
   "source": [
    "По траффику имеем 25 групп. Начальная и конечная граница групп дублируются. В описании к БД нет указания, какая граница включена в диапазон. Будем считать, что нижняя граница включена, верхняя исключена.\n",
    "\n",
    "В наименовании группы есть префикс идентификатора. Следует его удалить."
   ]
  },
  {
   "cell_type": "code",
   "execution_count": 8,
   "id": "a7dbb833",
   "metadata": {},
   "outputs": [
    {
     "data": {
      "text/html": [
       "<div>\n",
       "<style scoped>\n",
       "    .dataframe tbody tr th:only-of-type {\n",
       "        vertical-align: middle;\n",
       "    }\n",
       "\n",
       "    .dataframe tbody tr th {\n",
       "        vertical-align: top;\n",
       "    }\n",
       "\n",
       "    .dataframe thead th {\n",
       "        text-align: right;\n",
       "    }\n",
       "</style>\n",
       "<table border=\"1\" class=\"dataframe\">\n",
       "  <thead>\n",
       "    <tr style=\"text-align: right;\">\n",
       "      <th></th>\n",
       "      <th>lt_gr_id</th>\n",
       "      <th>bucket_min</th>\n",
       "      <th>bucket_max</th>\n",
       "      <th>title</th>\n",
       "    </tr>\n",
       "  </thead>\n",
       "  <tbody>\n",
       "    <tr>\n",
       "      <th>0</th>\n",
       "      <td>1</td>\n",
       "      <td>1.0</td>\n",
       "      <td>1.0</td>\n",
       "      <td>01 1</td>\n",
       "    </tr>\n",
       "    <tr>\n",
       "      <th>1</th>\n",
       "      <td>2</td>\n",
       "      <td>2.0</td>\n",
       "      <td>2.0</td>\n",
       "      <td>02 2</td>\n",
       "    </tr>\n",
       "    <tr>\n",
       "      <th>2</th>\n",
       "      <td>3</td>\n",
       "      <td>3.0</td>\n",
       "      <td>3.0</td>\n",
       "      <td>03 3</td>\n",
       "    </tr>\n",
       "    <tr>\n",
       "      <th>3</th>\n",
       "      <td>4</td>\n",
       "      <td>4.0</td>\n",
       "      <td>6.0</td>\n",
       "      <td>04 4-6</td>\n",
       "    </tr>\n",
       "    <tr>\n",
       "      <th>4</th>\n",
       "      <td>5</td>\n",
       "      <td>7.0</td>\n",
       "      <td>12.0</td>\n",
       "      <td>05 7-12</td>\n",
       "    </tr>\n",
       "    <tr>\n",
       "      <th>5</th>\n",
       "      <td>6</td>\n",
       "      <td>13.0</td>\n",
       "      <td>24.0</td>\n",
       "      <td>06 13-24</td>\n",
       "    </tr>\n",
       "    <tr>\n",
       "      <th>6</th>\n",
       "      <td>7</td>\n",
       "      <td>25.0</td>\n",
       "      <td>36.0</td>\n",
       "      <td>07 25-36</td>\n",
       "    </tr>\n",
       "    <tr>\n",
       "      <th>7</th>\n",
       "      <td>8</td>\n",
       "      <td>36.0</td>\n",
       "      <td>NaN</td>\n",
       "      <td>08 36+</td>\n",
       "    </tr>\n",
       "  </tbody>\n",
       "</table>\n",
       "</div>"
      ],
      "text/plain": [
       "   lt_gr_id  bucket_min  bucket_max     title\n",
       "0         1         1.0         1.0      01 1\n",
       "1         2         2.0         2.0      02 2\n",
       "2         3         3.0         3.0      03 3\n",
       "3         4         4.0         6.0    04 4-6\n",
       "4         5         7.0        12.0   05 7-12\n",
       "5         6        13.0        24.0  06 13-24\n",
       "6         7        25.0        36.0  07 25-36\n",
       "7         8        36.0         NaN    08 36+"
      ]
     },
     "execution_count": 8,
     "metadata": {},
     "output_type": "execute_result"
    }
   ],
   "source": [
    "query = \"\"\"\n",
    "SELECT *\n",
    "FROM lifetime_segment\n",
    "\"\"\"\n",
    "df = pd.read_sql(query, engine)\n",
    "df"
   ]
  },
  {
   "cell_type": "markdown",
   "id": "ad4a4e94",
   "metadata": {},
   "source": [
    "По длительности лояльности имеем 8 групп. В седьмой группе верхняя граница дублирует значение нижей границы следующей группы. Необходимо выяснить, какой идентификатор имеют клиенты с лояльностью 36 месяцев.\n",
    "\n",
    "В наименовании группы есть префикс идентификатора. Следует его удалить."
   ]
  },
  {
   "cell_type": "code",
   "execution_count": 9,
   "id": "8691eb12",
   "metadata": {
    "scrolled": true
   },
   "outputs": [
    {
     "data": {
      "text/html": [
       "<div>\n",
       "<style scoped>\n",
       "    .dataframe tbody tr th:only-of-type {\n",
       "        vertical-align: middle;\n",
       "    }\n",
       "\n",
       "    .dataframe tbody tr th {\n",
       "        vertical-align: top;\n",
       "    }\n",
       "\n",
       "    .dataframe thead th {\n",
       "        text-align: right;\n",
       "    }\n",
       "</style>\n",
       "<table border=\"1\" class=\"dataframe\">\n",
       "  <thead>\n",
       "    <tr style=\"text-align: right;\">\n",
       "      <th></th>\n",
       "      <th>user_id</th>\n",
       "      <th>lt_day</th>\n",
       "      <th>age</th>\n",
       "      <th>gender_segment</th>\n",
       "      <th>os_name</th>\n",
       "      <th>cpe_type_name</th>\n",
       "      <th>location_id</th>\n",
       "      <th>age_gr_id</th>\n",
       "      <th>tr_gr_id</th>\n",
       "      <th>lt_gr_id</th>\n",
       "      <th>nps_score</th>\n",
       "    </tr>\n",
       "  </thead>\n",
       "  <tbody>\n",
       "    <tr>\n",
       "      <th>0</th>\n",
       "      <td>A001A2</td>\n",
       "      <td>2320</td>\n",
       "      <td>45.0</td>\n",
       "      <td>1.0</td>\n",
       "      <td>ANDROID</td>\n",
       "      <td>SMARTPHONE</td>\n",
       "      <td>55</td>\n",
       "      <td>5</td>\n",
       "      <td>5</td>\n",
       "      <td>8</td>\n",
       "      <td>10</td>\n",
       "    </tr>\n",
       "    <tr>\n",
       "      <th>1</th>\n",
       "      <td>A001WF</td>\n",
       "      <td>2344</td>\n",
       "      <td>53.0</td>\n",
       "      <td>0.0</td>\n",
       "      <td>ANDROID</td>\n",
       "      <td>SMARTPHONE</td>\n",
       "      <td>21</td>\n",
       "      <td>5</td>\n",
       "      <td>5</td>\n",
       "      <td>8</td>\n",
       "      <td>10</td>\n",
       "    </tr>\n",
       "    <tr>\n",
       "      <th>2</th>\n",
       "      <td>A003Q7</td>\n",
       "      <td>467</td>\n",
       "      <td>57.0</td>\n",
       "      <td>0.0</td>\n",
       "      <td>ANDROID</td>\n",
       "      <td>SMARTPHONE</td>\n",
       "      <td>28</td>\n",
       "      <td>6</td>\n",
       "      <td>9</td>\n",
       "      <td>6</td>\n",
       "      <td>10</td>\n",
       "    </tr>\n",
       "    <tr>\n",
       "      <th>3</th>\n",
       "      <td>A004TB</td>\n",
       "      <td>4190</td>\n",
       "      <td>44.0</td>\n",
       "      <td>1.0</td>\n",
       "      <td>IOS</td>\n",
       "      <td>SMARTPHONE</td>\n",
       "      <td>38</td>\n",
       "      <td>4</td>\n",
       "      <td>4</td>\n",
       "      <td>8</td>\n",
       "      <td>10</td>\n",
       "    </tr>\n",
       "    <tr>\n",
       "      <th>4</th>\n",
       "      <td>A004XT</td>\n",
       "      <td>1163</td>\n",
       "      <td>24.0</td>\n",
       "      <td>0.0</td>\n",
       "      <td>ANDROID</td>\n",
       "      <td>SMARTPHONE</td>\n",
       "      <td>39</td>\n",
       "      <td>2</td>\n",
       "      <td>6</td>\n",
       "      <td>8</td>\n",
       "      <td>10</td>\n",
       "    </tr>\n",
       "  </tbody>\n",
       "</table>\n",
       "</div>"
      ],
      "text/plain": [
       "  user_id  lt_day   age  gender_segment  os_name cpe_type_name  location_id  \\\n",
       "0  A001A2    2320  45.0             1.0  ANDROID    SMARTPHONE           55   \n",
       "1  A001WF    2344  53.0             0.0  ANDROID    SMARTPHONE           21   \n",
       "2  A003Q7     467  57.0             0.0  ANDROID    SMARTPHONE           28   \n",
       "3  A004TB    4190  44.0             1.0      IOS    SMARTPHONE           38   \n",
       "4  A004XT    1163  24.0             0.0  ANDROID    SMARTPHONE           39   \n",
       "\n",
       "   age_gr_id  tr_gr_id  lt_gr_id  nps_score  \n",
       "0          5         5         8         10  \n",
       "1          5         5         8         10  \n",
       "2          6         9         6         10  \n",
       "3          4         4         8         10  \n",
       "4          2         6         8         10  "
      ]
     },
     "execution_count": 9,
     "metadata": {},
     "output_type": "execute_result"
    }
   ],
   "source": [
    "query = \"\"\"\n",
    "SELECT *\n",
    "FROM user\n",
    "\"\"\"\n",
    "df = pd.read_sql(query, engine)\n",
    "df.head()"
   ]
  },
  {
   "cell_type": "code",
   "execution_count": 10,
   "id": "192c5697",
   "metadata": {},
   "outputs": [
    {
     "name": "stdout",
     "output_type": "stream",
     "text": [
      "<class 'pandas.core.frame.DataFrame'>\n",
      "RangeIndex: 502493 entries, 0 to 502492\n",
      "Data columns (total 11 columns):\n",
      " #   Column          Non-Null Count   Dtype  \n",
      "---  ------          --------------   -----  \n",
      " 0   user_id         502493 non-null  object \n",
      " 1   lt_day          502493 non-null  int64  \n",
      " 2   age             501939 non-null  float64\n",
      " 3   gender_segment  501192 non-null  float64\n",
      " 4   os_name         502493 non-null  object \n",
      " 5   cpe_type_name   502493 non-null  object \n",
      " 6   location_id     502493 non-null  int64  \n",
      " 7   age_gr_id       502493 non-null  int64  \n",
      " 8   tr_gr_id        502493 non-null  int64  \n",
      " 9   lt_gr_id        502493 non-null  int64  \n",
      " 10  nps_score       502493 non-null  int64  \n",
      "dtypes: float64(2), int64(6), object(3)\n",
      "memory usage: 42.2+ MB\n"
     ]
    }
   ],
   "source": [
    "df.info()"
   ]
  },
  {
   "cell_type": "code",
   "execution_count": 11,
   "id": "99fb2624",
   "metadata": {},
   "outputs": [
    {
     "name": "stdout",
     "output_type": "stream",
     "text": [
      "user_id 502493 ['A001A2' 'A001WF' 'A003Q7' ... 'ZZZQ5F' 'ZZZQ8E' 'ZZZYH0']\n",
      "lt_day 6950 [ -21  -13  -12 ... 8640 8828 9162]\n",
      "age 79 [10. 11. 12. 13. 14. 15. 16. 17. 18. 19. 20. 21. 22. 23. 24. 25. 26. 27.\n",
      " 28. 29. 30. 31. 32. 33. 34. 35. 36. 37. 38. 39. 40. 41. 42. 43. 44. 45.\n",
      " 46. 47. 48. 49. 50. 51. 52. 53. 54. 55. 56. 57. 58. 59. 60. 61. 62. 63.\n",
      " 64. 65. 66. 67. 68. 69. 70. 71. 72. 73. 74. 75. 76. 77. 78. 79. 80. 81.\n",
      " 82. 83. 84. 85. 86. 87. 89. nan]\n",
      "gender_segment 2 [ 0.  1. nan]\n",
      "os_name 9 ['ANDROID' 'BADA OS' 'IOS' 'OTHER' 'PROPRIETARY' 'SYMBIAN OS'\n",
      " 'WINDOWS MOBILE' 'WINDOWS PHONE' 'unknown']\n",
      "cpe_type_name 14 ['HANDHELD' 'MIFI ROUTER' 'MOBILE PHONE/FEATURE PHONE'\n",
      " 'MOBILE TEST PLATFORM' 'MODEM' 'NETWORK DEVICE' 'PHONE'\n",
      " 'PORTABLE(INCLUDE PDA)' 'ROUTER' 'SMARTPHONE' 'TABLET' 'USB MODEM'\n",
      " 'WLAN ROUTER' 'unknown']\n",
      "location_id 62 [ 1  2  3  4  5  6  7  8  9 10 11 12 13 14 15 16 17 18 19 20 21 22 23 24\n",
      " 25 26 27 28 29 30 31 32 33 34 35 36 37 38 39 40 41 42 43 44 45 46 47 48\n",
      " 49 50 51 52 53 54 55 56 57 58 59 60 61 62]\n",
      "age_gr_id 8 [1 2 3 4 5 6 7 8]\n",
      "tr_gr_id 25 [ 1  2  3  4  5  6  7  8  9 10 11 12 13 14 15 16 17 18 19 20 21 22 23 24\n",
      " 25]\n",
      "lt_gr_id 8 [1 2 3 4 5 6 7 8]\n",
      "nps_score 10 [ 1  2  3  4  5  6  7  8  9 10]\n"
     ]
    }
   ],
   "source": [
    "for col in df.columns:\n",
    "    print(col, df[col].sort_values().nunique(), df[col].sort_values().unique())"
   ]
  },
  {
   "cell_type": "code",
   "execution_count": 12,
   "id": "c3d24b27",
   "metadata": {},
   "outputs": [
    {
     "data": {
      "text/plain": [
       "13"
      ]
     },
     "execution_count": 12,
     "metadata": {},
     "output_type": "execute_result"
    }
   ],
   "source": [
    "df[df['lt_day'] < 0]['lt_day'].count()"
   ]
  },
  {
   "cell_type": "code",
   "execution_count": 13,
   "id": "634d11ba",
   "metadata": {
    "scrolled": true
   },
   "outputs": [
    {
     "data": {
      "text/html": [
       "<div>\n",
       "<style scoped>\n",
       "    .dataframe tbody tr th:only-of-type {\n",
       "        vertical-align: middle;\n",
       "    }\n",
       "\n",
       "    .dataframe tbody tr th {\n",
       "        vertical-align: top;\n",
       "    }\n",
       "\n",
       "    .dataframe thead th {\n",
       "        text-align: right;\n",
       "    }\n",
       "</style>\n",
       "<table border=\"1\" class=\"dataframe\">\n",
       "  <thead>\n",
       "    <tr style=\"text-align: right;\">\n",
       "      <th></th>\n",
       "      <th>user_id</th>\n",
       "      <th>lt_day</th>\n",
       "      <th>age</th>\n",
       "      <th>gender_segment</th>\n",
       "      <th>os_name</th>\n",
       "      <th>cpe_type_name</th>\n",
       "      <th>location_id</th>\n",
       "      <th>age_gr_id</th>\n",
       "      <th>tr_gr_id</th>\n",
       "      <th>lt_gr_id</th>\n",
       "      <th>nps_score</th>\n",
       "    </tr>\n",
       "  </thead>\n",
       "  <tbody>\n",
       "    <tr>\n",
       "      <th>7666</th>\n",
       "      <td>AEAC2R</td>\n",
       "      <td>-8</td>\n",
       "      <td>NaN</td>\n",
       "      <td>NaN</td>\n",
       "      <td>ANDROID</td>\n",
       "      <td>SMARTPHONE</td>\n",
       "      <td>50</td>\n",
       "      <td>8</td>\n",
       "      <td>8</td>\n",
       "      <td>8</td>\n",
       "      <td>1</td>\n",
       "    </tr>\n",
       "    <tr>\n",
       "      <th>53997</th>\n",
       "      <td>CS0HF8</td>\n",
       "      <td>-2</td>\n",
       "      <td>NaN</td>\n",
       "      <td>NaN</td>\n",
       "      <td>ANDROID</td>\n",
       "      <td>SMARTPHONE</td>\n",
       "      <td>15</td>\n",
       "      <td>8</td>\n",
       "      <td>9</td>\n",
       "      <td>8</td>\n",
       "      <td>10</td>\n",
       "    </tr>\n",
       "    <tr>\n",
       "      <th>71577</th>\n",
       "      <td>DORPT2</td>\n",
       "      <td>-4</td>\n",
       "      <td>NaN</td>\n",
       "      <td>NaN</td>\n",
       "      <td>ANDROID</td>\n",
       "      <td>SMARTPHONE</td>\n",
       "      <td>28</td>\n",
       "      <td>8</td>\n",
       "      <td>9</td>\n",
       "      <td>8</td>\n",
       "      <td>4</td>\n",
       "    </tr>\n",
       "    <tr>\n",
       "      <th>100152</th>\n",
       "      <td>F5O3CG</td>\n",
       "      <td>-21</td>\n",
       "      <td>NaN</td>\n",
       "      <td>NaN</td>\n",
       "      <td>ANDROID</td>\n",
       "      <td>SMARTPHONE</td>\n",
       "      <td>60</td>\n",
       "      <td>8</td>\n",
       "      <td>12</td>\n",
       "      <td>8</td>\n",
       "      <td>7</td>\n",
       "    </tr>\n",
       "    <tr>\n",
       "      <th>103223</th>\n",
       "      <td>FBC993</td>\n",
       "      <td>0</td>\n",
       "      <td>NaN</td>\n",
       "      <td>NaN</td>\n",
       "      <td>ANDROID</td>\n",
       "      <td>SMARTPHONE</td>\n",
       "      <td>28</td>\n",
       "      <td>8</td>\n",
       "      <td>5</td>\n",
       "      <td>1</td>\n",
       "      <td>5</td>\n",
       "    </tr>\n",
       "    <tr>\n",
       "      <th>228087</th>\n",
       "      <td>LSE939</td>\n",
       "      <td>-13</td>\n",
       "      <td>NaN</td>\n",
       "      <td>NaN</td>\n",
       "      <td>ANDROID</td>\n",
       "      <td>SMARTPHONE</td>\n",
       "      <td>22</td>\n",
       "      <td>8</td>\n",
       "      <td>8</td>\n",
       "      <td>8</td>\n",
       "      <td>1</td>\n",
       "    </tr>\n",
       "    <tr>\n",
       "      <th>284966</th>\n",
       "      <td>OQO5GZ</td>\n",
       "      <td>0</td>\n",
       "      <td>NaN</td>\n",
       "      <td>0.0</td>\n",
       "      <td>ANDROID</td>\n",
       "      <td>SMARTPHONE</td>\n",
       "      <td>50</td>\n",
       "      <td>8</td>\n",
       "      <td>7</td>\n",
       "      <td>1</td>\n",
       "      <td>8</td>\n",
       "    </tr>\n",
       "    <tr>\n",
       "      <th>325212</th>\n",
       "      <td>QTT7IR</td>\n",
       "      <td>-13</td>\n",
       "      <td>NaN</td>\n",
       "      <td>NaN</td>\n",
       "      <td>IOS</td>\n",
       "      <td>SMARTPHONE</td>\n",
       "      <td>28</td>\n",
       "      <td>8</td>\n",
       "      <td>7</td>\n",
       "      <td>8</td>\n",
       "      <td>7</td>\n",
       "    </tr>\n",
       "    <tr>\n",
       "      <th>347784</th>\n",
       "      <td>RZUS6H</td>\n",
       "      <td>-6</td>\n",
       "      <td>NaN</td>\n",
       "      <td>NaN</td>\n",
       "      <td>ANDROID</td>\n",
       "      <td>SMARTPHONE</td>\n",
       "      <td>23</td>\n",
       "      <td>8</td>\n",
       "      <td>11</td>\n",
       "      <td>8</td>\n",
       "      <td>3</td>\n",
       "    </tr>\n",
       "    <tr>\n",
       "      <th>385897</th>\n",
       "      <td>TYWQW4</td>\n",
       "      <td>-12</td>\n",
       "      <td>NaN</td>\n",
       "      <td>NaN</td>\n",
       "      <td>IOS</td>\n",
       "      <td>SMARTPHONE</td>\n",
       "      <td>33</td>\n",
       "      <td>8</td>\n",
       "      <td>5</td>\n",
       "      <td>8</td>\n",
       "      <td>5</td>\n",
       "    </tr>\n",
       "    <tr>\n",
       "      <th>401226</th>\n",
       "      <td>URKAFI</td>\n",
       "      <td>-11</td>\n",
       "      <td>NaN</td>\n",
       "      <td>NaN</td>\n",
       "      <td>ANDROID</td>\n",
       "      <td>SMARTPHONE</td>\n",
       "      <td>30</td>\n",
       "      <td>8</td>\n",
       "      <td>7</td>\n",
       "      <td>8</td>\n",
       "      <td>8</td>\n",
       "    </tr>\n",
       "    <tr>\n",
       "      <th>403933</th>\n",
       "      <td>UWLM0V</td>\n",
       "      <td>0</td>\n",
       "      <td>NaN</td>\n",
       "      <td>1.0</td>\n",
       "      <td>ANDROID</td>\n",
       "      <td>SMARTPHONE</td>\n",
       "      <td>3</td>\n",
       "      <td>8</td>\n",
       "      <td>6</td>\n",
       "      <td>1</td>\n",
       "      <td>10</td>\n",
       "    </tr>\n",
       "    <tr>\n",
       "      <th>407160</th>\n",
       "      <td>V2GNK2</td>\n",
       "      <td>-13</td>\n",
       "      <td>NaN</td>\n",
       "      <td>NaN</td>\n",
       "      <td>IOS</td>\n",
       "      <td>SMARTPHONE</td>\n",
       "      <td>38</td>\n",
       "      <td>8</td>\n",
       "      <td>8</td>\n",
       "      <td>8</td>\n",
       "      <td>5</td>\n",
       "    </tr>\n",
       "    <tr>\n",
       "      <th>425927</th>\n",
       "      <td>W17RFH</td>\n",
       "      <td>-1</td>\n",
       "      <td>NaN</td>\n",
       "      <td>NaN</td>\n",
       "      <td>ANDROID</td>\n",
       "      <td>SMARTPHONE</td>\n",
       "      <td>28</td>\n",
       "      <td>8</td>\n",
       "      <td>5</td>\n",
       "      <td>8</td>\n",
       "      <td>5</td>\n",
       "    </tr>\n",
       "    <tr>\n",
       "      <th>455359</th>\n",
       "      <td>XKF9SN</td>\n",
       "      <td>-12</td>\n",
       "      <td>NaN</td>\n",
       "      <td>NaN</td>\n",
       "      <td>ANDROID</td>\n",
       "      <td>SMARTPHONE</td>\n",
       "      <td>55</td>\n",
       "      <td>8</td>\n",
       "      <td>25</td>\n",
       "      <td>8</td>\n",
       "      <td>9</td>\n",
       "    </tr>\n",
       "    <tr>\n",
       "      <th>480641</th>\n",
       "      <td>YV6OAH</td>\n",
       "      <td>0</td>\n",
       "      <td>NaN</td>\n",
       "      <td>NaN</td>\n",
       "      <td>IOS</td>\n",
       "      <td>SMARTPHONE</td>\n",
       "      <td>50</td>\n",
       "      <td>8</td>\n",
       "      <td>8</td>\n",
       "      <td>1</td>\n",
       "      <td>9</td>\n",
       "    </tr>\n",
       "    <tr>\n",
       "      <th>492382</th>\n",
       "      <td>ZGUUY9</td>\n",
       "      <td>-7</td>\n",
       "      <td>NaN</td>\n",
       "      <td>NaN</td>\n",
       "      <td>ANDROID</td>\n",
       "      <td>SMARTPHONE</td>\n",
       "      <td>23</td>\n",
       "      <td>8</td>\n",
       "      <td>6</td>\n",
       "      <td>8</td>\n",
       "      <td>8</td>\n",
       "    </tr>\n",
       "  </tbody>\n",
       "</table>\n",
       "</div>"
      ],
      "text/plain": [
       "       user_id  lt_day  age  gender_segment  os_name cpe_type_name  \\\n",
       "7666    AEAC2R      -8  NaN             NaN  ANDROID    SMARTPHONE   \n",
       "53997   CS0HF8      -2  NaN             NaN  ANDROID    SMARTPHONE   \n",
       "71577   DORPT2      -4  NaN             NaN  ANDROID    SMARTPHONE   \n",
       "100152  F5O3CG     -21  NaN             NaN  ANDROID    SMARTPHONE   \n",
       "103223  FBC993       0  NaN             NaN  ANDROID    SMARTPHONE   \n",
       "228087  LSE939     -13  NaN             NaN  ANDROID    SMARTPHONE   \n",
       "284966  OQO5GZ       0  NaN             0.0  ANDROID    SMARTPHONE   \n",
       "325212  QTT7IR     -13  NaN             NaN      IOS    SMARTPHONE   \n",
       "347784  RZUS6H      -6  NaN             NaN  ANDROID    SMARTPHONE   \n",
       "385897  TYWQW4     -12  NaN             NaN      IOS    SMARTPHONE   \n",
       "401226  URKAFI     -11  NaN             NaN  ANDROID    SMARTPHONE   \n",
       "403933  UWLM0V       0  NaN             1.0  ANDROID    SMARTPHONE   \n",
       "407160  V2GNK2     -13  NaN             NaN      IOS    SMARTPHONE   \n",
       "425927  W17RFH      -1  NaN             NaN  ANDROID    SMARTPHONE   \n",
       "455359  XKF9SN     -12  NaN             NaN  ANDROID    SMARTPHONE   \n",
       "480641  YV6OAH       0  NaN             NaN      IOS    SMARTPHONE   \n",
       "492382  ZGUUY9      -7  NaN             NaN  ANDROID    SMARTPHONE   \n",
       "\n",
       "        location_id  age_gr_id  tr_gr_id  lt_gr_id  nps_score  \n",
       "7666             50          8         8         8          1  \n",
       "53997            15          8         9         8         10  \n",
       "71577            28          8         9         8          4  \n",
       "100152           60          8        12         8          7  \n",
       "103223           28          8         5         1          5  \n",
       "228087           22          8         8         8          1  \n",
       "284966           50          8         7         1          8  \n",
       "325212           28          8         7         8          7  \n",
       "347784           23          8        11         8          3  \n",
       "385897           33          8         5         8          5  \n",
       "401226           30          8         7         8          8  \n",
       "403933            3          8         6         1         10  \n",
       "407160           38          8         8         8          5  \n",
       "425927           28          8         5         8          5  \n",
       "455359           55          8        25         8          9  \n",
       "480641           50          8         8         1          9  \n",
       "492382           23          8         6         8          8  "
      ]
     },
     "execution_count": 13,
     "metadata": {},
     "output_type": "execute_result"
    }
   ],
   "source": [
    "df[df['lt_day'] <= 0]"
   ]
  },
  {
   "cell_type": "markdown",
   "id": "6852bd42",
   "metadata": {},
   "source": [
    "502493 записи в таблице с уникальными идентификаторами клиента, пропусков нет.\n",
    "\n",
    "Поле \"количество дней лояльности\" имеет 13 записей с отрицательными значениями и 4 записи с 0 значением. Идентификатор группы лояльности для отрицательных значений присвоен максимальный, что вероятно ошибка. Абсолютные цифры не превышают 21 дня, то есть меньше месяца. Нулевые значения могут свидетельствовать о том, что клиент только что зарегистрировался.\n",
    "Необходимо узнать у поставщика данных об особенностях заполнения данного поля. До выяснения целесообразно не использовать в анализе клиентов с отрицательным сроком лояльности.\n",
    "\n",
    "В возрасте есть пропущенные значения. Необходимо заменить на \"не указан\". Клиенты, указавшие возраст 65 лет имеют идентификотор возрастной группы \"66+\". Целесообразно переименовать ее в \"65+\"\n",
    "\n",
    "В гендере есть пропущенные значения. Необходимо заменить на \"не указан\".\n",
    "\n",
    "Количество идентификаторов соответствует колучеству групп в идентификационных таблицах."
   ]
  },
  {
   "cell_type": "markdown",
   "id": "2250feb5",
   "metadata": {},
   "source": [
    "### Итоговый запрос к БД"
   ]
  },
  {
   "cell_type": "code",
   "execution_count": 14,
   "id": "00315be2",
   "metadata": {},
   "outputs": [],
   "source": [
    "query = \"\"\"\n",
    "SELECT u.user_id,\n",
    "       u.lt_day,\n",
    "       \n",
    "       CASE \n",
    "             WHEN u.lt_day < 366 \n",
    "             THEN 'да' \n",
    "             ELSE 'нет' \n",
    "       END as is_new,\n",
    "       \n",
    "       u.age,\n",
    "       \n",
    "       CASE \n",
    "             WHEN u.gender_segment = 1 \n",
    "             THEN 'женщина' \n",
    "             WHEN u.gender_segment = 0 \n",
    "             THEN 'мужчина'\n",
    "             ELSE 'не указан' \n",
    "       END as gender_segment,\n",
    "       \n",
    "       u.os_name,\n",
    "       u.cpe_type_name,\n",
    "       l.country,\n",
    "       l.city,\n",
    "       \n",
    "       CASE\n",
    "           WHEN SUBSTRING(a.title,4) = '66 +' \n",
    "           THEN '65+'\n",
    "           WHEN SUBSTRING(a.title,4) = 'n/a'\n",
    "           THEN 'не указан'\n",
    "           ELSE SUBSTRING(a.title,4)\n",
    "        END as age_segment,\n",
    "           \n",
    "       SUBSTRING(t.title,4) as traffic_segment,\n",
    "       \n",
    "       CASE\n",
    "           WHEN SUBSTRING(lt.title,4) = '25-36'\n",
    "           THEN '25-35'\n",
    "           ELSE SUBSTRING(lt.title,4)\n",
    "        END as lifetime_segment,\n",
    "       \n",
    "       u.nps_score,\n",
    "       CASE \n",
    "             WHEN u.nps_score < 7 \n",
    "             THEN 'критики' \n",
    "             WHEN u.nps_score > 6 and  u.nps_score < 9 \n",
    "             THEN 'нейтралы'\n",
    "             ELSE 'сторонники' \n",
    "       END as nps_group\n",
    "       \n",
    "  FROM user as u\n",
    "  LEFT JOIN location as l ON u.location_id=l.location_id\n",
    "  LEFT JOIN age_segment as a ON u.age_gr_id=a.age_gr_id\n",
    "  LEFT JOIN traffic_segment as t ON u.tr_gr_id=t.tr_gr_id\n",
    "  LEFT JOIN lifetime_segment as lt ON u.lt_gr_id=lt.lt_gr_id\n",
    "  \n",
    "  WHERE (u.lt_day >= 0)\n",
    "\"\"\""
   ]
  },
  {
   "cell_type": "code",
   "execution_count": 15,
   "id": "7237c86b",
   "metadata": {},
   "outputs": [
    {
     "data": {
      "text/html": [
       "<div>\n",
       "<style scoped>\n",
       "    .dataframe tbody tr th:only-of-type {\n",
       "        vertical-align: middle;\n",
       "    }\n",
       "\n",
       "    .dataframe tbody tr th {\n",
       "        vertical-align: top;\n",
       "    }\n",
       "\n",
       "    .dataframe thead th {\n",
       "        text-align: right;\n",
       "    }\n",
       "</style>\n",
       "<table border=\"1\" class=\"dataframe\">\n",
       "  <thead>\n",
       "    <tr style=\"text-align: right;\">\n",
       "      <th></th>\n",
       "      <th>user_id</th>\n",
       "      <th>lt_day</th>\n",
       "      <th>is_new</th>\n",
       "      <th>age</th>\n",
       "      <th>gender_segment</th>\n",
       "      <th>os_name</th>\n",
       "      <th>cpe_type_name</th>\n",
       "      <th>country</th>\n",
       "      <th>city</th>\n",
       "      <th>age_segment</th>\n",
       "      <th>traffic_segment</th>\n",
       "      <th>lifetime_segment</th>\n",
       "      <th>nps_score</th>\n",
       "      <th>nps_group</th>\n",
       "    </tr>\n",
       "  </thead>\n",
       "  <tbody>\n",
       "    <tr>\n",
       "      <th>0</th>\n",
       "      <td>A001A2</td>\n",
       "      <td>2320</td>\n",
       "      <td>нет</td>\n",
       "      <td>45.0</td>\n",
       "      <td>женщина</td>\n",
       "      <td>ANDROID</td>\n",
       "      <td>SMARTPHONE</td>\n",
       "      <td>Россия</td>\n",
       "      <td>Уфа</td>\n",
       "      <td>45-54</td>\n",
       "      <td>1-5</td>\n",
       "      <td>36+</td>\n",
       "      <td>10</td>\n",
       "      <td>сторонники</td>\n",
       "    </tr>\n",
       "    <tr>\n",
       "      <th>1</th>\n",
       "      <td>A001WF</td>\n",
       "      <td>2344</td>\n",
       "      <td>нет</td>\n",
       "      <td>53.0</td>\n",
       "      <td>мужчина</td>\n",
       "      <td>ANDROID</td>\n",
       "      <td>SMARTPHONE</td>\n",
       "      <td>Россия</td>\n",
       "      <td>Киров</td>\n",
       "      <td>45-54</td>\n",
       "      <td>1-5</td>\n",
       "      <td>36+</td>\n",
       "      <td>10</td>\n",
       "      <td>сторонники</td>\n",
       "    </tr>\n",
       "    <tr>\n",
       "      <th>2</th>\n",
       "      <td>A003Q7</td>\n",
       "      <td>467</td>\n",
       "      <td>нет</td>\n",
       "      <td>57.0</td>\n",
       "      <td>мужчина</td>\n",
       "      <td>ANDROID</td>\n",
       "      <td>SMARTPHONE</td>\n",
       "      <td>Россия</td>\n",
       "      <td>Москва</td>\n",
       "      <td>55-64</td>\n",
       "      <td>20-25</td>\n",
       "      <td>13-24</td>\n",
       "      <td>10</td>\n",
       "      <td>сторонники</td>\n",
       "    </tr>\n",
       "    <tr>\n",
       "      <th>3</th>\n",
       "      <td>A004TB</td>\n",
       "      <td>4190</td>\n",
       "      <td>нет</td>\n",
       "      <td>44.0</td>\n",
       "      <td>женщина</td>\n",
       "      <td>IOS</td>\n",
       "      <td>SMARTPHONE</td>\n",
       "      <td>Россия</td>\n",
       "      <td>РостовнаДону</td>\n",
       "      <td>35-44</td>\n",
       "      <td>0.1-1</td>\n",
       "      <td>36+</td>\n",
       "      <td>10</td>\n",
       "      <td>сторонники</td>\n",
       "    </tr>\n",
       "    <tr>\n",
       "      <th>4</th>\n",
       "      <td>A004XT</td>\n",
       "      <td>1163</td>\n",
       "      <td>нет</td>\n",
       "      <td>24.0</td>\n",
       "      <td>мужчина</td>\n",
       "      <td>ANDROID</td>\n",
       "      <td>SMARTPHONE</td>\n",
       "      <td>Россия</td>\n",
       "      <td>Рязань</td>\n",
       "      <td>16-24</td>\n",
       "      <td>5-10</td>\n",
       "      <td>36+</td>\n",
       "      <td>10</td>\n",
       "      <td>сторонники</td>\n",
       "    </tr>\n",
       "  </tbody>\n",
       "</table>\n",
       "</div>"
      ],
      "text/plain": [
       "  user_id  lt_day is_new   age gender_segment  os_name cpe_type_name country  \\\n",
       "0  A001A2    2320    нет  45.0        женщина  ANDROID    SMARTPHONE  Россия   \n",
       "1  A001WF    2344    нет  53.0        мужчина  ANDROID    SMARTPHONE  Россия   \n",
       "2  A003Q7     467    нет  57.0        мужчина  ANDROID    SMARTPHONE  Россия   \n",
       "3  A004TB    4190    нет  44.0        женщина      IOS    SMARTPHONE  Россия   \n",
       "4  A004XT    1163    нет  24.0        мужчина  ANDROID    SMARTPHONE  Россия   \n",
       "\n",
       "           city age_segment traffic_segment lifetime_segment  nps_score  \\\n",
       "0           Уфа       45-54             1-5              36+         10   \n",
       "1         Киров       45-54             1-5              36+         10   \n",
       "2        Москва       55-64           20-25            13-24         10   \n",
       "3  РостовнаДону       35-44           0.1-1              36+         10   \n",
       "4        Рязань       16-24            5-10              36+         10   \n",
       "\n",
       "    nps_group  \n",
       "0  сторонники  \n",
       "1  сторонники  \n",
       "2  сторонники  \n",
       "3  сторонники  \n",
       "4  сторонники  "
      ]
     },
     "execution_count": 15,
     "metadata": {},
     "output_type": "execute_result"
    }
   ],
   "source": [
    "df = pd.read_sql(query, engine)\n",
    "df.head()"
   ]
  },
  {
   "cell_type": "code",
   "execution_count": 16,
   "id": "43375499",
   "metadata": {},
   "outputs": [
    {
     "name": "stdout",
     "output_type": "stream",
     "text": [
      "<class 'pandas.core.frame.DataFrame'>\n",
      "RangeIndex: 502480 entries, 0 to 502479\n",
      "Data columns (total 14 columns):\n",
      " #   Column            Non-Null Count   Dtype  \n",
      "---  ------            --------------   -----  \n",
      " 0   user_id           502480 non-null  object \n",
      " 1   lt_day            502480 non-null  int64  \n",
      " 2   is_new            502480 non-null  object \n",
      " 3   age               501939 non-null  float64\n",
      " 4   gender_segment    502480 non-null  object \n",
      " 5   os_name           502480 non-null  object \n",
      " 6   cpe_type_name     502480 non-null  object \n",
      " 7   country           502480 non-null  object \n",
      " 8   city              502480 non-null  object \n",
      " 9   age_segment       502480 non-null  object \n",
      " 10  traffic_segment   502480 non-null  object \n",
      " 11  lifetime_segment  502480 non-null  object \n",
      " 12  nps_score         502480 non-null  int64  \n",
      " 13  nps_group         502480 non-null  object \n",
      "dtypes: float64(1), int64(2), object(11)\n",
      "memory usage: 53.7+ MB\n"
     ]
    }
   ],
   "source": [
    "df.info()"
   ]
  },
  {
   "cell_type": "code",
   "execution_count": 17,
   "id": "4f6072c0",
   "metadata": {},
   "outputs": [
    {
     "data": {
      "text/plain": [
       "user_id             16532\n",
       "lt_day              16532\n",
       "is_new              16532\n",
       "age                 16514\n",
       "gender_segment      16532\n",
       "os_name             16532\n",
       "cpe_type_name       16532\n",
       "country             16532\n",
       "city                16532\n",
       "age_segment         16532\n",
       "traffic_segment     16532\n",
       "lifetime_segment    16532\n",
       "nps_score           16532\n",
       "nps_group           16532\n",
       "dtype: int64"
      ]
     },
     "execution_count": 17,
     "metadata": {},
     "output_type": "execute_result"
    }
   ],
   "source": [
    "df[df['nps_score'] == 6].count()"
   ]
  },
  {
   "cell_type": "code",
   "execution_count": 18,
   "id": "90c17877",
   "metadata": {},
   "outputs": [],
   "source": [
    "df.to_csv('zokham_telecomm_csi.csv', index=False)"
   ]
  },
  {
   "cell_type": "markdown",
   "id": "2a73342f",
   "metadata": {},
   "source": [
    "##  Дашборд и презентация"
   ]
  },
  {
   "cell_type": "markdown",
   "id": "0ab3d4b1",
   "metadata": {},
   "source": [
    "[Дашборд на сайте Tableau Public:](https://public.tableau.com/views/zokham_talecomm_nps/Users?:language=en-US&:display_count=n&:origin=viz_share_link)"
   ]
  }
 ],
 "metadata": {
  "ExecuteTimeLog": [
   {
    "duration": 590,
    "start_time": "2022-08-22T16:28:31.227Z"
   },
   {
    "duration": 455,
    "start_time": "2022-08-22T16:28:31.820Z"
   },
   {
    "duration": 0,
    "start_time": "2022-08-22T16:28:32.278Z"
   },
   {
    "duration": 0,
    "start_time": "2022-08-22T16:28:32.279Z"
   },
   {
    "duration": 0,
    "start_time": "2022-08-22T16:28:32.280Z"
   },
   {
    "duration": 0,
    "start_time": "2022-08-22T16:28:32.281Z"
   },
   {
    "duration": 0,
    "start_time": "2022-08-22T16:28:32.282Z"
   },
   {
    "duration": 0,
    "start_time": "2022-08-22T16:28:32.283Z"
   },
   {
    "duration": 0,
    "start_time": "2022-08-22T16:28:32.284Z"
   },
   {
    "duration": 0,
    "start_time": "2022-08-22T16:28:32.285Z"
   },
   {
    "duration": 0,
    "start_time": "2022-08-22T16:28:32.286Z"
   },
   {
    "duration": 0,
    "start_time": "2022-08-22T16:28:32.287Z"
   },
   {
    "duration": 0,
    "start_time": "2022-08-22T16:28:32.289Z"
   },
   {
    "duration": 0,
    "start_time": "2022-08-22T16:28:32.290Z"
   },
   {
    "duration": 0,
    "start_time": "2022-08-22T16:28:32.290Z"
   },
   {
    "duration": 0,
    "start_time": "2022-08-22T16:28:32.292Z"
   },
   {
    "duration": 0,
    "start_time": "2022-08-22T16:28:32.293Z"
   },
   {
    "duration": 482,
    "start_time": "2022-08-23T06:18:08.560Z"
   },
   {
    "duration": 651,
    "start_time": "2022-08-23T06:18:09.043Z"
   },
   {
    "duration": 6,
    "start_time": "2022-08-23T06:18:09.695Z"
   },
   {
    "duration": 8,
    "start_time": "2022-08-23T06:18:09.702Z"
   },
   {
    "duration": 627,
    "start_time": "2022-08-23T06:18:09.712Z"
   },
   {
    "duration": 7,
    "start_time": "2022-08-23T06:18:10.341Z"
   },
   {
    "duration": 607,
    "start_time": "2022-08-23T06:18:10.350Z"
   },
   {
    "duration": 632,
    "start_time": "2022-08-23T06:18:10.958Z"
   },
   {
    "duration": 3150,
    "start_time": "2022-08-23T06:18:11.592Z"
   },
   {
    "duration": 115,
    "start_time": "2022-08-23T06:18:14.743Z"
   },
   {
    "duration": 3625,
    "start_time": "2022-08-23T06:18:14.859Z"
   },
   {
    "duration": 6,
    "start_time": "2022-08-23T06:18:18.486Z"
   },
   {
    "duration": 19,
    "start_time": "2022-08-23T06:18:18.493Z"
   },
   {
    "duration": 3,
    "start_time": "2022-08-23T06:18:18.514Z"
   },
   {
    "duration": 5335,
    "start_time": "2022-08-23T06:18:18.518Z"
   },
   {
    "duration": 515,
    "start_time": "2022-08-23T06:18:23.855Z"
   },
   {
    "duration": 4533,
    "start_time": "2022-08-23T06:18:24.371Z"
   },
   {
    "duration": 19,
    "start_time": "2022-08-23T06:29:59.965Z"
   },
   {
    "duration": 127,
    "start_time": "2022-08-23T06:30:25.056Z"
   },
   {
    "duration": 121,
    "start_time": "2022-08-23T06:30:32.449Z"
   },
   {
    "duration": 3,
    "start_time": "2022-08-23T06:30:45.021Z"
   },
   {
    "duration": 19,
    "start_time": "2022-08-23T06:31:54.637Z"
   },
   {
    "duration": 14,
    "start_time": "2022-08-23T06:32:05.696Z"
   },
   {
    "duration": 25,
    "start_time": "2022-08-23T06:32:10.657Z"
   },
   {
    "duration": 27,
    "start_time": "2022-08-23T06:32:18.048Z"
   },
   {
    "duration": 46,
    "start_time": "2022-08-23T06:32:22.373Z"
   },
   {
    "duration": 33,
    "start_time": "2022-08-23T06:32:27.681Z"
   },
   {
    "duration": 30,
    "start_time": "2022-08-23T06:32:31.042Z"
   },
   {
    "duration": 2305,
    "start_time": "2022-08-23T06:32:57.564Z"
   },
   {
    "duration": 5,
    "start_time": "2022-08-23T06:33:02.241Z"
   },
   {
    "duration": 628,
    "start_time": "2022-08-24T04:52:19.090Z"
   },
   {
    "duration": 634,
    "start_time": "2022-08-24T04:52:19.722Z"
   },
   {
    "duration": 6,
    "start_time": "2022-08-24T04:52:20.357Z"
   },
   {
    "duration": 18,
    "start_time": "2022-08-24T04:52:20.365Z"
   },
   {
    "duration": 612,
    "start_time": "2022-08-24T04:52:20.385Z"
   },
   {
    "duration": 8,
    "start_time": "2022-08-24T04:52:20.999Z"
   },
   {
    "duration": 600,
    "start_time": "2022-08-24T04:52:21.008Z"
   },
   {
    "duration": 623,
    "start_time": "2022-08-24T04:52:21.610Z"
   },
   {
    "duration": 3617,
    "start_time": "2022-08-24T04:52:22.235Z"
   },
   {
    "duration": 129,
    "start_time": "2022-08-24T04:52:25.854Z"
   },
   {
    "duration": 4588,
    "start_time": "2022-08-24T04:52:25.984Z"
   },
   {
    "duration": 7,
    "start_time": "2022-08-24T04:52:30.574Z"
   },
   {
    "duration": 16,
    "start_time": "2022-08-24T04:52:30.592Z"
   },
   {
    "duration": 12,
    "start_time": "2022-08-24T04:52:30.611Z"
   },
   {
    "duration": 21,
    "start_time": "2022-08-24T04:52:30.625Z"
   },
   {
    "duration": 5806,
    "start_time": "2022-08-24T04:52:30.648Z"
   },
   {
    "duration": 578,
    "start_time": "2022-08-24T04:52:36.455Z"
   },
   {
    "duration": 80,
    "start_time": "2022-08-24T04:52:37.035Z"
   },
   {
    "duration": 4870,
    "start_time": "2022-08-24T04:52:37.117Z"
   },
   {
    "duration": 7,
    "start_time": "2022-08-24T04:53:04.007Z"
   }
  ],
  "kernelspec": {
   "display_name": "Python 3 (ipykernel)",
   "language": "python",
   "name": "python3"
  },
  "language_info": {
   "codemirror_mode": {
    "name": "ipython",
    "version": 3
   },
   "file_extension": ".py",
   "mimetype": "text/x-python",
   "name": "python",
   "nbconvert_exporter": "python",
   "pygments_lexer": "ipython3",
   "version": "3.9.12"
  },
  "toc": {
   "base_numbering": 1,
   "nav_menu": {},
   "number_sections": true,
   "sideBar": true,
   "skip_h1_title": true,
   "title_cell": "Table of Contents",
   "title_sidebar": "Contents",
   "toc_cell": true,
   "toc_position": {},
   "toc_section_display": true,
   "toc_window_display": true
  }
 },
 "nbformat": 4,
 "nbformat_minor": 5
}
